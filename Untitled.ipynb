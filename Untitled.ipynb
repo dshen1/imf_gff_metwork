{
 "cells": [
  {
   "cell_type": "code",
   "execution_count": 44,
   "metadata": {
    "collapsed": true
   },
   "outputs": [],
   "source": [
    "import csv\n",
    "import networkx as nx \n",
    "import numpy as np\n",
    "import pandas as pd \n",
    "import community \n",
    "import matplotlib.pyplot as plt \n",
    "import seaborn as sns\n",
    "from seaborn import color_palette, set_style, palplot\n",
    "plt.style.use('ggplot')\n",
    "%matplotlib inline"
   ]
  },
  {
   "cell_type": "code",
   "execution_count": 45,
   "metadata": {
    "collapsed": false
   },
   "outputs": [
    {
     "data": {
      "text/plain": [
       "array(['country', 'countrycode', 'counterpart', 'counterpart_code', 'year',\n",
       "       'CDIS_IADE', 'CDIS_IADD', 'CDIS_IAD', 'CDIS_IADF', 'CPIS_IAP',\n",
       "       'CPIS_IAPE', 'CPIS_IAPD', 'loans_dep', 'total_claims'], dtype=object)"
      ]
     },
     "execution_count": 45,
     "metadata": {},
     "output_type": "execute_result"
    }
   ],
   "source": [
    "## read pre-processed data from stata\n",
    "df = pd.read_stata('data/0_CPIS_CDIS_BIS_USTIC_merged_fixed1.dta')\n",
    "df.columns.values"
   ]
  },
  {
   "cell_type": "code",
   "execution_count": 46,
   "metadata": {
    "collapsed": false
   },
   "outputs": [],
   "source": [
    "keep_var = ['countrycode','counterpart_code','country','counterpart','CDIS_IAD','CPIS_IAP','loans_dep']\n",
    "df_2015 = df[df['year']==2015][keep_var]\n",
    "df_2015.fillna(0,inplace=True)\n",
    "df_2015.loc[df['CDIS_IAD']<0,'CDIS_IAD'] = 0                       # recode all negative values to 0 \n",
    "df_2015.loc[df['CPIS_IAP']<0,'CPIS_IAP'] = 0                       # recode negative values to 0 "
   ]
  },
  {
   "cell_type": "code",
   "execution_count": 47,
   "metadata": {
    "collapsed": true
   },
   "outputs": [],
   "source": [
    "df_2015['total']=df_2015.CDIS_IAD + df_2015.CPIS_IAP+df_2015.loans_dep\n",
    "df_2015 = df_2015[df_2015.total>0]"
   ]
  },
  {
   "cell_type": "code",
   "execution_count": 48,
   "metadata": {
    "collapsed": false
   },
   "outputs": [
    {
     "data": {
      "text/html": [
       "<div>\n",
       "<table border=\"1\" class=\"dataframe\">\n",
       "  <thead>\n",
       "    <tr style=\"text-align: right;\">\n",
       "      <th></th>\n",
       "      <th>countrycode</th>\n",
       "      <th>counterpart_code</th>\n",
       "      <th>CDIS_IAD</th>\n",
       "      <th>CPIS_IAP</th>\n",
       "      <th>loans_dep</th>\n",
       "      <th>total</th>\n",
       "    </tr>\n",
       "  </thead>\n",
       "  <tbody>\n",
       "    <tr>\n",
       "      <th>count</th>\n",
       "      <td>11483.000000</td>\n",
       "      <td>11483.000000</td>\n",
       "      <td>11483.000000</td>\n",
       "      <td>1.148300e+04</td>\n",
       "      <td>1.148300e+04</td>\n",
       "      <td>1.148300e+04</td>\n",
       "    </tr>\n",
       "    <tr>\n",
       "      <th>mean</th>\n",
       "      <td>441.917267</td>\n",
       "      <td>458.229218</td>\n",
       "      <td>2264.462891</td>\n",
       "      <td>3.046547e+03</td>\n",
       "      <td>1.892290e+03</td>\n",
       "      <td>7.203310e+03</td>\n",
       "    </tr>\n",
       "    <tr>\n",
       "      <th>std</th>\n",
       "      <td>286.768341</td>\n",
       "      <td>299.037659</td>\n",
       "      <td>19392.126953</td>\n",
       "      <td>2.868603e+04</td>\n",
       "      <td>2.275928e+04</td>\n",
       "      <td>5.916372e+04</td>\n",
       "    </tr>\n",
       "    <tr>\n",
       "      <th>min</th>\n",
       "      <td>111.000000</td>\n",
       "      <td>111.000000</td>\n",
       "      <td>0.000000</td>\n",
       "      <td>0.000000e+00</td>\n",
       "      <td>0.000000e+00</td>\n",
       "      <td>1.000000e-12</td>\n",
       "    </tr>\n",
       "    <tr>\n",
       "      <th>25%</th>\n",
       "      <td>172.000000</td>\n",
       "      <td>174.000000</td>\n",
       "      <td>0.000000</td>\n",
       "      <td>0.000000e+00</td>\n",
       "      <td>0.000000e+00</td>\n",
       "      <td>3.000000e+00</td>\n",
       "    </tr>\n",
       "    <tr>\n",
       "      <th>50%</th>\n",
       "      <td>377.000000</td>\n",
       "      <td>423.000000</td>\n",
       "      <td>0.261265</td>\n",
       "      <td>0.000000e+00</td>\n",
       "      <td>2.000000e+00</td>\n",
       "      <td>3.489690e+01</td>\n",
       "    </tr>\n",
       "    <tr>\n",
       "      <th>75%</th>\n",
       "      <td>656.000000</td>\n",
       "      <td>686.000000</td>\n",
       "      <td>58.320295</td>\n",
       "      <td>3.748796e+01</td>\n",
       "      <td>7.100000e+01</td>\n",
       "      <td>4.629932e+02</td>\n",
       "    </tr>\n",
       "    <tr>\n",
       "      <th>max</th>\n",
       "      <td>968.000000</td>\n",
       "      <td>968.000000</td>\n",
       "      <td>618884.562500</td>\n",
       "      <td>1.464027e+06</td>\n",
       "      <td>1.221732e+06</td>\n",
       "      <td>2.539732e+06</td>\n",
       "    </tr>\n",
       "  </tbody>\n",
       "</table>\n",
       "</div>"
      ],
      "text/plain": [
       "        countrycode  counterpart_code       CDIS_IAD      CPIS_IAP  \\\n",
       "count  11483.000000      11483.000000   11483.000000  1.148300e+04   \n",
       "mean     441.917267        458.229218    2264.462891  3.046547e+03   \n",
       "std      286.768341        299.037659   19392.126953  2.868603e+04   \n",
       "min      111.000000        111.000000       0.000000  0.000000e+00   \n",
       "25%      172.000000        174.000000       0.000000  0.000000e+00   \n",
       "50%      377.000000        423.000000       0.261265  0.000000e+00   \n",
       "75%      656.000000        686.000000      58.320295  3.748796e+01   \n",
       "max      968.000000        968.000000  618884.562500  1.464027e+06   \n",
       "\n",
       "          loans_dep         total  \n",
       "count  1.148300e+04  1.148300e+04  \n",
       "mean   1.892290e+03  7.203310e+03  \n",
       "std    2.275928e+04  5.916372e+04  \n",
       "min    0.000000e+00  1.000000e-12  \n",
       "25%    0.000000e+00  3.000000e+00  \n",
       "50%    2.000000e+00  3.489690e+01  \n",
       "75%    7.100000e+01  4.629932e+02  \n",
       "max    1.221732e+06  2.539732e+06  "
      ]
     },
     "execution_count": 48,
     "metadata": {},
     "output_type": "execute_result"
    }
   ],
   "source": [
    "df_2015.describe()"
   ]
  },
  {
   "cell_type": "code",
   "execution_count": 49,
   "metadata": {
    "collapsed": false
   },
   "outputs": [
    {
     "name": "stdout",
     "output_type": "stream",
     "text": [
      "(228,)\n",
      "(228,)\n"
     ]
    }
   ],
   "source": [
    "## see how mancy countries we have\n",
    "print(df_2015['country'].unique().shape)\n",
    "print(df_2015['counterpart'].unique().shape)"
   ]
  },
  {
   "cell_type": "markdown",
   "metadata": {},
   "source": [
    "## Load network"
   ]
  },
  {
   "cell_type": "code",
   "execution_count": 50,
   "metadata": {
    "collapsed": true
   },
   "outputs": [],
   "source": [
    "## read from pandas datafrme \n",
    "G = nx.from_pandas_dataframe(df_2015, source=\"country\", target=\"counterpart\", edge_attr=['total'],create_using=nx.DiGraph()) ##,'CPIS_IAP','loans_dep'"
   ]
  },
  {
   "cell_type": "code",
   "execution_count": 51,
   "metadata": {
    "collapsed": false
   },
   "outputs": [
    {
     "data": {
      "text/plain": [
       "{'total': 2539732.0}"
      ]
     },
     "execution_count": 51,
     "metadata": {},
     "output_type": "execute_result"
    }
   ],
   "source": [
    "# print out one particular edge, just to make sure it wroks \n",
    "G['United States']['United Kingdom']"
   ]
  },
  {
   "cell_type": "code",
   "execution_count": 52,
   "metadata": {
    "collapsed": false
   },
   "outputs": [
    {
     "data": {
      "text/html": [
       "<div>\n",
       "<table border=\"1\" class=\"dataframe\">\n",
       "  <thead>\n",
       "    <tr style=\"text-align: right;\">\n",
       "      <th></th>\n",
       "      <th>countrycode</th>\n",
       "      <th>counterpart_code</th>\n",
       "      <th>country</th>\n",
       "      <th>counterpart</th>\n",
       "      <th>CDIS_IAD</th>\n",
       "      <th>CPIS_IAP</th>\n",
       "      <th>loans_dep</th>\n",
       "      <th>total</th>\n",
       "    </tr>\n",
       "  </thead>\n",
       "  <tbody>\n",
       "    <tr>\n",
       "      <th>2787</th>\n",
       "      <td>111.0</td>\n",
       "      <td>112.0</td>\n",
       "      <td>United States</td>\n",
       "      <td>United Kingdom</td>\n",
       "      <td>605312.0</td>\n",
       "      <td>958256.0</td>\n",
       "      <td>976164.0</td>\n",
       "      <td>2539732.0</td>\n",
       "    </tr>\n",
       "  </tbody>\n",
       "</table>\n",
       "</div>"
      ],
      "text/plain": [
       "      countrycode  counterpart_code        country     counterpart  CDIS_IAD  \\\n",
       "2787        111.0             112.0  United States  United Kingdom  605312.0   \n",
       "\n",
       "      CPIS_IAP  loans_dep      total  \n",
       "2787  958256.0   976164.0  2539732.0  "
      ]
     },
     "execution_count": 52,
     "metadata": {},
     "output_type": "execute_result"
    }
   ],
   "source": [
    "# make sure the graph is created correctly \n",
    "df_2015[(df_2015.country == 'United States') & (df_2015.counterpart == 'United Kingdom')]"
   ]
  },
  {
   "cell_type": "code",
   "execution_count": 53,
   "metadata": {
    "collapsed": false,
    "scrolled": false
   },
   "outputs": [
    {
     "name": "stdout",
     "output_type": "stream",
     "text": [
      "Name: \n",
      "Type: DiGraph\n",
      "Number of nodes: 229\n",
      "Number of edges: 11483\n",
      "Average in degree:  50.1441\n",
      "Average out degree:  50.1441\n"
     ]
    }
   ],
   "source": [
    "print(nx.info(G))"
   ]
  },
  {
   "cell_type": "code",
   "execution_count": 54,
   "metadata": {
    "collapsed": false
   },
   "outputs": [
    {
     "data": {
      "text/plain": [
       "0.21993028422584845"
      ]
     },
     "execution_count": 54,
     "metadata": {},
     "output_type": "execute_result"
    }
   ],
   "source": [
    "## density \n",
    "nx.density(G)"
   ]
  },
  {
   "cell_type": "markdown",
   "metadata": {},
   "source": [
    "## Diameter and radius"
   ]
  },
  {
   "cell_type": "code",
   "execution_count": null,
   "metadata": {
    "collapsed": true
   },
   "outputs": [],
   "source": []
  },
  {
   "cell_type": "markdown",
   "metadata": {},
   "source": [
    "## Explore Degrees "
   ]
  },
  {
   "cell_type": "code",
   "execution_count": 55,
   "metadata": {
    "collapsed": false,
    "scrolled": true
   },
   "outputs": [
    {
     "name": "stderr",
     "output_type": "stream",
     "text": [
      "/home/ubuntu/anaconda3/lib/python3.5/site-packages/statsmodels/nonparametric/kdetools.py:20: VisibleDeprecationWarning: using a non-integer number instead of an integer will result in an error in the future\n",
      "  y = X[:m/2+1] + np.r_[0,X[m/2+1:],0]*1j\n",
      "/home/ubuntu/anaconda3/lib/python3.5/site-packages/matplotlib/font_manager.py:1297: UserWarning: findfont: Font family ['sans-serif'] not found. Falling back to DejaVu Sans\n",
      "  (prop.get_family(), self.defaultFamily[fontext]))\n"
     ]
    },
    {
     "data": {
      "image/png": "[encoded data removed]",
      "text/plain": [
       "<matplotlib.figure.Figure at 0x7fe0e8f33828>"
      ]
     },
     "metadata": {},
     "output_type": "display_data"
    }
   ],
   "source": [
    "# Degree distribution\n",
    "k = G.degree()\n",
    "k =np.array(list(k.values()))\n",
    "sns.set(rc={\"figure.figsize\": (8, 4)})\n",
    "ax = sns.distplot(k)"
   ]
  },
  {
   "cell_type": "code",
   "execution_count": 56,
   "metadata": {
    "collapsed": false,
    "scrolled": true
   },
   "outputs": [
    {
     "name": "stdout",
     "output_type": "stream",
     "text": [
      "unweighted:\n"
     ]
    },
    {
     "data": {
      "text/html": [
       "<div>\n",
       "<table border=\"1\" class=\"dataframe\">\n",
       "  <thead>\n",
       "    <tr style=\"text-align: right;\">\n",
       "      <th></th>\n",
       "      <th>country</th>\n",
       "      <th>degree</th>\n",
       "    </tr>\n",
       "  </thead>\n",
       "  <tbody>\n",
       "    <tr>\n",
       "      <th>116</th>\n",
       "      <td>Italy</td>\n",
       "      <td>414</td>\n",
       "    </tr>\n",
       "    <tr>\n",
       "      <th>80</th>\n",
       "      <td>United Kingdom</td>\n",
       "      <td>397</td>\n",
       "    </tr>\n",
       "    <tr>\n",
       "      <th>109</th>\n",
       "      <td>France</td>\n",
       "      <td>380</td>\n",
       "    </tr>\n",
       "    <tr>\n",
       "      <th>36</th>\n",
       "      <td>Switzerland</td>\n",
       "      <td>375</td>\n",
       "    </tr>\n",
       "    <tr>\n",
       "      <th>160</th>\n",
       "      <td>Belgium</td>\n",
       "      <td>355</td>\n",
       "    </tr>\n",
       "  </tbody>\n",
       "</table>\n",
       "</div>"
      ],
      "text/plain": [
       "            country  degree\n",
       "116           Italy     414\n",
       "80   United Kingdom     397\n",
       "109          France     380\n",
       "36      Switzerland     375\n",
       "160         Belgium     355"
      ]
     },
     "execution_count": 56,
     "metadata": {},
     "output_type": "execute_result"
    }
   ],
   "source": [
    "# Find nodes with highest degree, unweighted \n",
    "k=G.degree()                                 ## get the degree centrality for all countries \n",
    "k = pd.DataFrame(list(k.items()),columns=['country','degree'])      ## make it into dataframe\n",
    "k.sort_values(by='degree',ascending=0,inplace=True)                 ## sort it \n",
    "print('unweighted:')\n",
    "k.head(5)"
   ]
  },
  {
   "cell_type": "markdown",
   "metadata": {},
   "source": [
    "## Centrality measures"
   ]
  },
  {
   "cell_type": "code",
   "execution_count": 57,
   "metadata": {
    "collapsed": false
   },
   "outputs": [
    {
     "data": {
      "text/html": [
       "<div>\n",
       "<table border=\"1\" class=\"dataframe\">\n",
       "  <thead>\n",
       "    <tr style=\"text-align: right;\">\n",
       "      <th></th>\n",
       "      <th>country</th>\n",
       "      <th>degree</th>\n",
       "    </tr>\n",
       "  </thead>\n",
       "  <tbody>\n",
       "    <tr>\n",
       "      <th>116</th>\n",
       "      <td>Italy</td>\n",
       "      <td>1.815789</td>\n",
       "    </tr>\n",
       "    <tr>\n",
       "      <th>80</th>\n",
       "      <td>United Kingdom</td>\n",
       "      <td>1.741228</td>\n",
       "    </tr>\n",
       "    <tr>\n",
       "      <th>109</th>\n",
       "      <td>France</td>\n",
       "      <td>1.666667</td>\n",
       "    </tr>\n",
       "    <tr>\n",
       "      <th>36</th>\n",
       "      <td>Switzerland</td>\n",
       "      <td>1.644737</td>\n",
       "    </tr>\n",
       "    <tr>\n",
       "      <th>160</th>\n",
       "      <td>Belgium</td>\n",
       "      <td>1.557018</td>\n",
       "    </tr>\n",
       "    <tr>\n",
       "      <th>210</th>\n",
       "      <td>Luxembourg</td>\n",
       "      <td>1.513158</td>\n",
       "    </tr>\n",
       "    <tr>\n",
       "      <th>35</th>\n",
       "      <td>United States</td>\n",
       "      <td>1.482456</td>\n",
       "    </tr>\n",
       "    <tr>\n",
       "      <th>113</th>\n",
       "      <td>India</td>\n",
       "      <td>1.412281</td>\n",
       "    </tr>\n",
       "    <tr>\n",
       "      <th>34</th>\n",
       "      <td>Netherlands</td>\n",
       "      <td>1.399123</td>\n",
       "    </tr>\n",
       "    <tr>\n",
       "      <th>172</th>\n",
       "      <td>Jersey</td>\n",
       "      <td>1.399123</td>\n",
       "    </tr>\n",
       "  </tbody>\n",
       "</table>\n",
       "</div>"
      ],
      "text/plain": [
       "            country    degree\n",
       "116           Italy  1.815789\n",
       "80   United Kingdom  1.741228\n",
       "109          France  1.666667\n",
       "36      Switzerland  1.644737\n",
       "160         Belgium  1.557018\n",
       "210      Luxembourg  1.513158\n",
       "35    United States  1.482456\n",
       "113           India  1.412281\n",
       "34      Netherlands  1.399123\n",
       "172          Jersey  1.399123"
      ]
     },
     "execution_count": 57,
     "metadata": {},
     "output_type": "execute_result"
    }
   ],
   "source": [
    "### Weighted degree centrality \n",
    "### This is the sum of both in and out folows \n",
    "d=nx.degree_centrality(G)                                 ## get the degree centrality for all countries \n",
    "degree = pd.DataFrame(list(d.items()),columns=['country','degree'])      ## make it into dataframe\n",
    "degree.sort_values(by='degree',ascending=0,inplace=True)                 ## sort it \n",
    "degree.head(10)\n",
    "## because it is a directd graph, centrality will be between 0,2"
   ]
  },
  {
   "cell_type": "code",
   "execution_count": 58,
   "metadata": {
    "collapsed": false
   },
   "outputs": [
    {
     "data": {
      "text/html": [
       "<div>\n",
       "<table border=\"1\" class=\"dataframe\">\n",
       "  <thead>\n",
       "    <tr style=\"text-align: right;\">\n",
       "      <th></th>\n",
       "      <th>country</th>\n",
       "      <th>closeness</th>\n",
       "    </tr>\n",
       "  </thead>\n",
       "  <tbody>\n",
       "    <tr>\n",
       "      <th>116</th>\n",
       "      <td>Italy</td>\n",
       "      <td>0.926247</td>\n",
       "    </tr>\n",
       "    <tr>\n",
       "      <th>80</th>\n",
       "      <td>United Kingdom</td>\n",
       "      <td>0.869248</td>\n",
       "    </tr>\n",
       "    <tr>\n",
       "      <th>109</th>\n",
       "      <td>France</td>\n",
       "      <td>0.865917</td>\n",
       "    </tr>\n",
       "    <tr>\n",
       "      <th>217</th>\n",
       "      <td>Korea, Republic of</td>\n",
       "      <td>0.818856</td>\n",
       "    </tr>\n",
       "    <tr>\n",
       "      <th>36</th>\n",
       "      <td>Switzerland</td>\n",
       "      <td>0.815900</td>\n",
       "    </tr>\n",
       "    <tr>\n",
       "      <th>210</th>\n",
       "      <td>Luxembourg</td>\n",
       "      <td>0.801434</td>\n",
       "    </tr>\n",
       "    <tr>\n",
       "      <th>160</th>\n",
       "      <td>Belgium</td>\n",
       "      <td>0.782022</td>\n",
       "    </tr>\n",
       "    <tr>\n",
       "      <th>34</th>\n",
       "      <td>Netherlands</td>\n",
       "      <td>0.766117</td>\n",
       "    </tr>\n",
       "    <tr>\n",
       "      <th>175</th>\n",
       "      <td>Ireland</td>\n",
       "      <td>0.753348</td>\n",
       "    </tr>\n",
       "    <tr>\n",
       "      <th>190</th>\n",
       "      <td>Austria</td>\n",
       "      <td>0.743435</td>\n",
       "    </tr>\n",
       "  </tbody>\n",
       "</table>\n",
       "</div>"
      ],
      "text/plain": [
       "                country  closeness\n",
       "116               Italy   0.926247\n",
       "80       United Kingdom   0.869248\n",
       "109              France   0.865917\n",
       "217  Korea, Republic of   0.818856\n",
       "36          Switzerland   0.815900\n",
       "210          Luxembourg   0.801434\n",
       "160             Belgium   0.782022\n",
       "34          Netherlands   0.766117\n",
       "175             Ireland   0.753348\n",
       "190             Austria   0.743435"
      ]
     },
     "execution_count": 58,
     "metadata": {},
     "output_type": "execute_result"
    }
   ],
   "source": [
    "## closeness\n",
    "## nx.shortest_path_length(G)['United States']\n",
    "c=nx.closeness_centrality(G)#distance ='rev_CDIS_IAD'                                  ## use CDIS_IAD data as distance mearuse, so the order should be reversed\n",
    "closeness = pd.DataFrame(list(c.items()),columns=['country','closeness'])      ## make it into dataframe\n",
    "closeness.sort_values(by='closeness',ascending=0,inplace=True)    \n",
    "closeness.head(10)"
   ]
  },
  {
   "cell_type": "code",
   "execution_count": 59,
   "metadata": {
    "collapsed": false
   },
   "outputs": [
    {
     "data": {
      "text/html": [
       "<div>\n",
       "<table border=\"1\" class=\"dataframe\">\n",
       "  <thead>\n",
       "    <tr style=\"text-align: right;\">\n",
       "      <th></th>\n",
       "      <th>country</th>\n",
       "      <th>between</th>\n",
       "    </tr>\n",
       "  </thead>\n",
       "  <tbody>\n",
       "    <tr>\n",
       "      <th>116</th>\n",
       "      <td>Italy</td>\n",
       "      <td>0.102553</td>\n",
       "    </tr>\n",
       "    <tr>\n",
       "      <th>80</th>\n",
       "      <td>United Kingdom</td>\n",
       "      <td>0.061512</td>\n",
       "    </tr>\n",
       "    <tr>\n",
       "      <th>109</th>\n",
       "      <td>France</td>\n",
       "      <td>0.048611</td>\n",
       "    </tr>\n",
       "    <tr>\n",
       "      <th>36</th>\n",
       "      <td>Switzerland</td>\n",
       "      <td>0.047991</td>\n",
       "    </tr>\n",
       "    <tr>\n",
       "      <th>35</th>\n",
       "      <td>United States</td>\n",
       "      <td>0.037320</td>\n",
       "    </tr>\n",
       "    <tr>\n",
       "      <th>160</th>\n",
       "      <td>Belgium</td>\n",
       "      <td>0.032046</td>\n",
       "    </tr>\n",
       "    <tr>\n",
       "      <th>210</th>\n",
       "      <td>Luxembourg</td>\n",
       "      <td>0.031884</td>\n",
       "    </tr>\n",
       "    <tr>\n",
       "      <th>208</th>\n",
       "      <td>Thailand</td>\n",
       "      <td>0.029482</td>\n",
       "    </tr>\n",
       "    <tr>\n",
       "      <th>113</th>\n",
       "      <td>India</td>\n",
       "      <td>0.026257</td>\n",
       "    </tr>\n",
       "    <tr>\n",
       "      <th>217</th>\n",
       "      <td>Korea, Republic of</td>\n",
       "      <td>0.025296</td>\n",
       "    </tr>\n",
       "  </tbody>\n",
       "</table>\n",
       "</div>"
      ],
      "text/plain": [
       "                country   between\n",
       "116               Italy  0.102553\n",
       "80       United Kingdom  0.061512\n",
       "109              France  0.048611\n",
       "36          Switzerland  0.047991\n",
       "35        United States  0.037320\n",
       "160             Belgium  0.032046\n",
       "210          Luxembourg  0.031884\n",
       "208            Thailand  0.029482\n",
       "113               India  0.026257\n",
       "217  Korea, Republic of  0.025296"
      ]
     },
     "execution_count": 59,
     "metadata": {},
     "output_type": "execute_result"
    }
   ],
   "source": [
    "## betweeness \n",
    "b = nx.betweenness_centrality(G)  # weight='total'\n",
    "between = pd.DataFrame(list(b.items()),columns=['country','between'])      ## make it into dataframe\n",
    "between.sort_values(by='between',ascending=0,inplace=True)    \n",
    "between.head(10)"
   ]
  },
  {
   "cell_type": "code",
   "execution_count": 60,
   "metadata": {
    "collapsed": false,
    "scrolled": true
   },
   "outputs": [
    {
     "data": {
      "text/html": [
       "<div>\n",
       "<table border=\"1\" class=\"dataframe\">\n",
       "  <thead>\n",
       "    <tr style=\"text-align: right;\">\n",
       "      <th></th>\n",
       "      <th>country</th>\n",
       "      <th>total</th>\n",
       "    </tr>\n",
       "  </thead>\n",
       "  <tbody>\n",
       "    <tr>\n",
       "      <th>35</th>\n",
       "      <td>United States</td>\n",
       "      <td>0.533072</td>\n",
       "    </tr>\n",
       "    <tr>\n",
       "      <th>80</th>\n",
       "      <td>United Kingdom</td>\n",
       "      <td>0.515078</td>\n",
       "    </tr>\n",
       "    <tr>\n",
       "      <th>34</th>\n",
       "      <td>Netherlands</td>\n",
       "      <td>0.279140</td>\n",
       "    </tr>\n",
       "    <tr>\n",
       "      <th>109</th>\n",
       "      <td>France</td>\n",
       "      <td>0.250279</td>\n",
       "    </tr>\n",
       "    <tr>\n",
       "      <th>218</th>\n",
       "      <td>Germany</td>\n",
       "      <td>0.250142</td>\n",
       "    </tr>\n",
       "    <tr>\n",
       "      <th>123</th>\n",
       "      <td>Cayman Islands</td>\n",
       "      <td>0.219906</td>\n",
       "    </tr>\n",
       "    <tr>\n",
       "      <th>210</th>\n",
       "      <td>Luxembourg</td>\n",
       "      <td>0.197631</td>\n",
       "    </tr>\n",
       "    <tr>\n",
       "      <th>175</th>\n",
       "      <td>Ireland</td>\n",
       "      <td>0.152826</td>\n",
       "    </tr>\n",
       "    <tr>\n",
       "      <th>50</th>\n",
       "      <td>Canada</td>\n",
       "      <td>0.145663</td>\n",
       "    </tr>\n",
       "    <tr>\n",
       "      <th>167</th>\n",
       "      <td>Spain</td>\n",
       "      <td>0.145250</td>\n",
       "    </tr>\n",
       "  </tbody>\n",
       "</table>\n",
       "</div>"
      ],
      "text/plain": [
       "            country     total\n",
       "35    United States  0.533072\n",
       "80   United Kingdom  0.515078\n",
       "34      Netherlands  0.279140\n",
       "109          France  0.250279\n",
       "218         Germany  0.250142\n",
       "123  Cayman Islands  0.219906\n",
       "210      Luxembourg  0.197631\n",
       "175         Ireland  0.152826\n",
       "50           Canada  0.145663\n",
       "167           Spain  0.145250"
      ]
     },
     "execution_count": 60,
     "metadata": {},
     "output_type": "execute_result"
    }
   ],
   "source": [
    "## eigenvector centrality \n",
    "e = nx.eigenvector_centrality_numpy(G,weight='total')\n",
    "eigenvector = pd.DataFrame(list(e.items()),columns=['country','total'])      ## make it into dataframe\n",
    "eigenvector.sort_values(by='total',ascending=0,inplace=True)    \n",
    "eigenvector.head(10)"
   ]
  },
  {
   "cell_type": "code",
   "execution_count": 61,
   "metadata": {
    "collapsed": true
   },
   "outputs": [],
   "source": [
    "## does not work for directed graph \n",
    "#partition = community.best_partition(G)"
   ]
  },
  {
   "cell_type": "code",
   "execution_count": 62,
   "metadata": {
    "collapsed": true
   },
   "outputs": [],
   "source": [
    "nx.write_gexf(G, \"2015.gexf\")"
   ]
  },
  {
   "cell_type": "markdown",
   "metadata": {},
   "source": [
    "## Visualizations"
   ]
  },
  {
   "cell_type": "markdown",
   "metadata": {},
   "source": [
    "#### 2009\n",
    "<img src=\"pic/2009.png\" width=500 hight=500></img>\n",
    "#### 2015\n",
    "<img src=\"pic/2015.png\" width=500 hight=500></img>"
   ]
  },
  {
   "cell_type": "code",
   "execution_count": null,
   "metadata": {
    "collapsed": true
   },
   "outputs": [],
   "source": []
  }
 ],
 "metadata": {
  "kernelspec": {
   "display_name": "Python [default]",
   "language": "python",
   "name": "python3"
  },
  "language_info": {
   "codemirror_mode": {
    "name": "ipython",
    "version": 3
   },
   "file_extension": ".py",
   "mimetype": "text/x-python",
   "name": "python",
   "nbconvert_exporter": "python",
   "pygments_lexer": "ipython3",
   "version": "3.5.2"
  }
 },
 "nbformat": 4,
 "nbformat_minor": 2
}
