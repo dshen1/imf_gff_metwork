{
 "cells": [
  {
   "cell_type": "code",
   "execution_count": 1,
   "metadata": {
    "collapsed": false
   },
   "outputs": [],
   "source": [
    "import pandas as pd\n",
    "import MultiContagion as mc\n",
    "import igraph\n",
    "import random\n",
    "import numpy as np\n",
    "from matplotlib import pylab as plt\n",
    "import scipy.stats\n",
    "import copy\n",
    "#import powerlaw\n",
    "%matplotlib inline"
   ]
  },
  {
   "cell_type": "code",
   "execution_count": 2,
   "metadata": {
    "collapsed": false
   },
   "outputs": [
    {
     "name": "stderr",
     "output_type": "stream",
     "text": [
      "/home/user/anaconda2/lib/python2.7/site-packages/ipykernel/__main__.py:2: FutureWarning: by argument to sort_index is deprecated, pls use .sort_values(by=...)\n",
      "  from ipykernel import kernelapp as app\n"
     ]
    }
   ],
   "source": [
    "df = pd.read_stata(\"normalized.dta\")\n",
    "df = df.sort_index(by=['country'])\n",
    "#by argument to sort_index is deprecated, pls use .sort_values(by=...)\n",
    "df = df.fillna(value = 0.)"
   ]
  },
  {
   "cell_type": "code",
   "execution_count": 3,
   "metadata": {
    "collapsed": false
   },
   "outputs": [],
   "source": [
    "df;"
   ]
  },
  {
   "cell_type": "code",
   "execution_count": 4,
   "metadata": {
    "collapsed": false
   },
   "outputs": [],
   "source": [
    "df_inflation = pd.read_csv(\"USA-PCPIE.csv\", index_col=\"Year\")"
   ]
  },
  {
   "cell_type": "code",
   "execution_count": 5,
   "metadata": {
    "collapsed": false
   },
   "outputs": [],
   "source": [
    "df_inflation = df_inflation.multiply(1000)"
   ]
  },
  {
   "cell_type": "markdown",
   "metadata": {},
   "source": [
    "**Note on unities, inflation is in billion dollars and surveys are in million dollars **"
   ]
  },
  {
   "cell_type": "markdown",
   "metadata": {},
   "source": [
    "[1] \"Country Name\"                                                                    \n",
    " [2] \"Country Code\"                                                                    \n",
    " [3] \"Counterpart Country Name\"                                                        \n",
    " [4] \"Counterpart Country Code\"                                                        \n",
    " [5] \"Time Period\"                                                                     \n",
    " [6] \"IIP Equity investment asset, millions of USD\"                                    \n",
    " [7] \"IIP Debt instrument asset, millions of USD\"                                      \n",
    " [8] \"IIP Direct investment asset, millions of USD\"                                    \n",
    " [9] \"IIP Direct investment asset between fellow enterprise, millions of USD\"          \n",
    "[10] \"IIP Total Portfolio invertment, Assets, millions of USD\"                         \n",
    "[11] \"IIP Portfolio invertment,Equity and investment fund shares, Assets, millions of \"\n",
    "\n",
    "[12] \"IIP Portfolio invertment,Debt securities, Assets, millions of USD\"               \n",
    "[13] \"BIS loans and deposit claims positions, USD\" <\\br>\n",
    "\n",
    "layers should be: 6, 7, 11, 12 and 13"
   ]
  },
  {
   "cell_type": "code",
   "execution_count": 8,
   "metadata": {
    "collapsed": false
   },
   "outputs": [],
   "source": [
    "df;"
   ]
  },
  {
   "cell_type": "markdown",
   "metadata": {},
   "source": [
    "# CDIS Equity Layer"
   ]
  },
  {
   "cell_type": "markdown",
   "metadata": {},
   "source": [
    "## The contagion network"
   ]
  },
  {
   "cell_type": "code",
   "execution_count": 6,
   "metadata": {
    "collapsed": true
   },
   "outputs": [],
   "source": [
    "def make_cont_net_from_survey_year_no_isolated(df, data, year):\n",
    "    country = df[\"country\"][ (df[data].notnull()) & (df[data] > 0 ) & (df[\"year\"] == year )]\n",
    "    countercountry = df[\"counterpart\"][ (df[data].notnull()) & (df[data] > 0 ) & (df[\"year\"] == year)  ]\n",
    "    survey = df[data][ (df[data].notnull()) & (df[data] > 0 ) & (df[\"year\"] == year) ]\n",
    "    edges, weight = mc.make_edge_list(countercountry,country, survey)\n",
    "    G = mc.make_graph_from_edge(edges, weight)\n",
    "    return G"
   ]
  },
  {
   "cell_type": "code",
   "execution_count": 7,
   "metadata": {
    "collapsed": true
   },
   "outputs": [],
   "source": [
    "Year = 2015"
   ]
  },
  {
   "cell_type": "code",
   "execution_count": 8,
   "metadata": {
    "collapsed": true
   },
   "outputs": [],
   "source": [
    "def make_graphs(y):\n",
    "    \"\"\"graphs with no isolated countries, but then dimensions between matrices dont match\"\"\"\n",
    "    G_cd_equity_15 = make_cont_net_from_survey_year_no_isolated(df, \"CDIS_IADE\", y)\n",
    "    G_cd_debt_15 = make_cont_net_from_survey_year_no_isolated(df, \"CDIS_IADD\", y)\n",
    "    G_cp_equity_15 = make_cont_net_from_survey_year_no_isolated(df, \"CPIS_IAPE\", y)\n",
    "    G_cp_debt_15 = make_cont_net_from_survey_year_no_isolated(df, \"CPIS_IAPD\", y)\n",
    "    G_bis_15 = make_cont_net_from_survey_year_no_isolated(df, \"loans_dep\", y)\n",
    "    G_15_list = [G_cd_equity_15, G_cd_debt_15, G_cp_equity_15, G_cp_debt_15, G_bis_15  ]\n",
    "    G_names = [\"CDIS_equity\", \"CDIS_debt\", \"CPIS_equity\", \"CPIS_debt\", \"BIS\" ]\n",
    "    G_adjacency_15 = []\n",
    "    \n",
    "    for g in G_15_list:\n",
    "        G_adjacency_15.append(np.array((g.get_adjacency(attribute= \"weight\")).data))\n",
    "    \n",
    "    return G_15_list, G_names, G_adjacency_15#, G_agg_2015"
   ]
  },
  {
   "cell_type": "code",
   "execution_count": 9,
   "metadata": {
    "collapsed": true
   },
   "outputs": [],
   "source": [
    "def make_agg_graph_local(y):\n",
    "    G_cd_equity_15 = mc.make_cont_net_from_survey_year(df, \"CDIS_IADE\", y)\n",
    "    G_cd_debt_15 = mc.make_cont_net_from_survey_year(df, \"CDIS_IADD\", y)\n",
    "    G_cp_equity_15 = mc.make_cont_net_from_survey_year(df, \"CPIS_IAPE\",y)\n",
    "    G_cp_debt_15 = mc.make_cont_net_from_survey_year(df, \"CPIS_IAPD\", y)\n",
    "    G_bis_15 = mc.make_cont_net_from_survey_year(df, \"loans_dep\", y)\n",
    "    G_15_list = [G_cd_equity_15, G_cd_debt_15, G_cp_equity_15, G_cp_debt_15, G_bis_15  ]\n",
    "    G_adjacency_15 = []\n",
    "    for g in G_15_list:\n",
    "        G_adjacency_15.append(np.array((g.get_adjacency(attribute= \"weight\")).data))\n",
    "\n",
    "    AM_agg_2015 = G_adjacency_15[0] + G_adjacency_15[1] + G_adjacency_15[2] + G_adjacency_15[3] + G_adjacency_15[4]\n",
    "    G_agg_2015 = igraph.Graph.Weighted_Adjacency(AM_agg_2015.tolist(), attr= \"weight\")\n",
    "    \n",
    "    return G_agg_2015, AM_agg_2015"
   ]
  },
  {
   "cell_type": "code",
   "execution_count": 10,
   "metadata": {
    "collapsed": false
   },
   "outputs": [],
   "source": [
    "G_list, G_nm, G_adj = make_graphs(Year)\n",
    "G_agg, G_adj_agg = make_agg_graph_local(Year)"
   ]
  },
  {
   "cell_type": "code",
   "execution_count": 11,
   "metadata": {
    "collapsed": false
   },
   "outputs": [
    {
     "data": {
      "text/plain": [
       "(212, 212)"
      ]
     },
     "execution_count": 11,
     "metadata": {},
     "output_type": "execute_result"
    }
   ],
   "source": [
    "len(G_adj[2][0]) # we excluded some nodes\n",
    "len( G_adj_agg), len(G_adj_agg[0])"
   ]
  },
  {
   "cell_type": "code",
   "execution_count": 12,
   "metadata": {
    "collapsed": true
   },
   "outputs": [],
   "source": [
    "dict_survey_names = {0: \"CDIS-equity\", 1: \"CDIS-debt\",2: \"CPIS-equity\",3: \"CPIS-debt\",4: \"BIS\"}"
   ]
  },
  {
   "cell_type": "code",
   "execution_count": 20,
   "metadata": {
    "collapsed": false
   },
   "outputs": [],
   "source": [
    "name = \"AM4_no_isolated-OutFlow\"\n",
    "for y in range(2008,2016):\n",
    "    G_list, G_nm, G_adj = make_graphs(y)\n",
    "    for i in range(5):\n",
    "        survey_name = dict_survey_names[i]\n",
    "        np.savetxt(\"csv_files/\"+name+survey_name+str(y)+\".csv\", G_adj[i], delimiter=\",\")"
   ]
  },
  {
   "cell_type": "code",
   "execution_count": 21,
   "metadata": {
    "collapsed": true
   },
   "outputs": [],
   "source": [
    "my_data2 = np.genfromtxt('csv_files/AM4_no_isolatedCDIS-equity2015.csv', delimiter=',')"
   ]
  },
  {
   "cell_type": "code",
   "execution_count": 22,
   "metadata": {
    "collapsed": false
   },
   "outputs": [
    {
     "data": {
      "text/plain": [
       "array([[ True,  True,  True, ...,  True,  True,  True],\n",
       "       [ True,  True,  True, ...,  True,  True,  True],\n",
       "       [ True,  True,  True, ...,  True,  True,  True],\n",
       "       ..., \n",
       "       [ True,  True,  True, ...,  True,  True,  True],\n",
       "       [ True,  True,  True, ...,  True,  True,  True],\n",
       "       [ True,  True,  True, ...,  True,  True,  True]], dtype=bool)"
      ]
     },
     "execution_count": 22,
     "metadata": {},
     "output_type": "execute_result"
    }
   ],
   "source": [
    "G_adj[0] == my_data2"
   ]
  },
  {
   "cell_type": "markdown",
   "metadata": {},
   "source": [
    "### Save basic measurments"
   ]
  },
  {
   "cell_type": "code",
   "execution_count": 23,
   "metadata": {
    "collapsed": true
   },
   "outputs": [],
   "source": [
    "def save_basic_measurements(y, G_list_plus_agg, G_nm_plus_agg):\n",
    "    f = open(\"csv_files/basic_masurements_\"+str(Year) +\".csv\", \"w\")\n",
    "    f.write(\",diameter,density,average path length,global clustering,average clustering (unweighted),average clustering,sum of weights\\n\")\n",
    "    n = len(G_nm_plus_agg)\n",
    "    for i in range(n):\n",
    "        f.write(G_nm_plus_agg[i] + \",\")\n",
    "        g = G_list_plus_agg[i]\n",
    "        weights = np.array(copy.deepcopy(g.es[\"weight\"]))\n",
    "        f.write(str( round(g.diameter(), 2) ) + \",\")\n",
    "        f.write(str( round(g.density(), 2) ) + \",\")\n",
    "        f.write(str( round(g.average_path_length(), 2) ) + \",\")\n",
    "        f.write(str( round(g.transitivity_undirected(), 2) ) + \",\")\n",
    "        f.write(str( round(np.mean(g.transitivity_local_undirected( mode = \"zero\")), 2) ) + \",\")\n",
    "        f.write(str( round(np.mean(g.transitivity_local_undirected(weights = g.es[\"weight\"],  mode = \"zero\" )), 2) ) + \",\")\n",
    "        f.write(str( round(sum(weights)) ) + \"\\n\")\n",
    "    f.close()"
   ]
  },
  {
   "cell_type": "code",
   "execution_count": 35,
   "metadata": {
    "collapsed": false
   },
   "outputs": [
    {
     "name": "stdout",
     "output_type": "stream",
     "text": [
      "2008\n",
      "2009\n",
      "2010\n",
      "2011\n",
      "2012\n",
      "2013\n",
      "2014\n",
      "2015\n"
     ]
    }
   ],
   "source": [
    "for Year in [2008 + i for i in range(8)]:\n",
    "    print Year\n",
    "    G_list, G_nm, G_adj = make_graphs(Year)\n",
    "    G_agg = make_agg_graph_local(Year)\n",
    "    G_list_plus_agg = G_list + [G_agg]\n",
    "    G_nm_plus_agg = G_nm + [\"Aggregated\"]\n",
    "    save_basic_measurements(Year, G_list_plus_agg, G_nm_plus_agg)"
   ]
  },
  {
   "cell_type": "markdown",
   "metadata": {},
   "source": [
    "### Distance between networks of different years"
   ]
  },
  {
   "cell_type": "markdown",
   "metadata": {},
   "source": [
    "### we need matrices with all the nodes, even the ones that were not reported in that year"
   ]
  },
  {
   "cell_type": "code",
   "execution_count": 13,
   "metadata": {
    "collapsed": true
   },
   "outputs": [],
   "source": [
    "Year = 2015"
   ]
  },
  {
   "cell_type": "code",
   "execution_count": 14,
   "metadata": {
    "collapsed": false
   },
   "outputs": [
    {
     "name": "stderr",
     "output_type": "stream",
     "text": [
      "/home/user/anaconda2/lib/python2.7/site-packages/ipykernel/__main__.py:2: FutureWarning: by argument to sort_index is deprecated, pls use .sort_values(by=...)\n",
      "  from ipykernel import kernelapp as app\n"
     ]
    }
   ],
   "source": [
    "df = pd.read_stata(\"normalized.dta\")\n",
    "df = df.sort_index(by=['country'])\n",
    "df = df.fillna(value = 0.)"
   ]
  },
  {
   "cell_type": "code",
   "execution_count": 15,
   "metadata": {
    "collapsed": false
   },
   "outputs": [],
   "source": [
    "df;"
   ]
  },
  {
   "cell_type": "code",
   "execution_count": 16,
   "metadata": {
    "collapsed": true
   },
   "outputs": [],
   "source": [
    "def make_cont_net_from_survey_year_all_countries(df, data, year):\n",
    "    all_years = [i for i in range(2008,2016)]\n",
    "    all_years.remove(year)\n",
    "    #print all_years\n",
    "    country = df[\"country\"]\n",
    "    countercountry = df[\"counterpart\"]\n",
    "    DF = df.copy()\n",
    "    DF.ix[df.year.isin(all_years), data] = 0\n",
    "    survey = DF[data]\n",
    "    edges, weight = mc.make_edge_list(countercountry,country, survey)\n",
    "    for i in range(len(weight)):\n",
    "        if weight[i] < 0:\n",
    "            weight[i] = 0\n",
    "    G = mc.make_graph_from_edge(edges, weight)\n",
    "   \n",
    "    return G\n"
   ]
  },
  {
   "cell_type": "code",
   "execution_count": 17,
   "metadata": {
    "collapsed": false
   },
   "outputs": [],
   "source": [
    "def make_graphs_allnodes(y, norm = False):\n",
    "    '''Dimensions of matrices match even between years'''\n",
    "    df_copy = copy.deepcopy(df)\n",
    "    if norm == True:\n",
    "        df_copy[['CDIS_IADE', 'CDIS_IADE', 'CPIS_IAPE', 'CPIS_IAPD', 'loans_dep' ] ] *= 1./df_inflation[\"Inflation\"][y]\n",
    "    G_cd_equity_15 = make_cont_net_from_survey_year_all_countries(df_copy, \"CDIS_IADE\", y)\n",
    "    G_cd_debt_15 = make_cont_net_from_survey_year_all_countries(df_copy, \"CDIS_IADD\", y)\n",
    "    G_cp_equity_15 = make_cont_net_from_survey_year_all_countries(df_copy, \"CPIS_IAPE\", y)\n",
    "    G_cp_debt_15 = make_cont_net_from_survey_year_all_countries(df_copy, \"CPIS_IAPD\", y)\n",
    "    G_bis_15 = make_cont_net_from_survey_year_all_countries(df_copy, \"loans_dep\", y)\n",
    "    G_15_list = [G_cd_equity_15, G_cd_debt_15, G_cp_equity_15, G_cp_debt_15, G_bis_15  ]\n",
    "    G_names = [\"CDIS_equity\", \"CDIS_debt\", \"CPIS_equity\", \"CPIS_debt\", \"BIS\" ]\n",
    "    G_adjacency_15 = []\n",
    "    \n",
    "    for g in G_15_list:\n",
    "        G_adjacency_15.append(np.array((g.get_adjacency(attribute= \"weight\")).data))\n",
    "    #print G_15_list[0].vs[\"name\"][0]\n",
    "    return G_15_list, G_names, G_adjacency_15#, G_agg_2015"
   ]
  },
  {
   "cell_type": "code",
   "execution_count": 18,
   "metadata": {
    "collapsed": true
   },
   "outputs": [],
   "source": [
    "def make_agg_graph(y, norm = False):\n",
    "    df_copy = copy.deepcopy(df)\n",
    "    if norm == True:\n",
    "        df_copy[['CDIS_IADE', 'CDIS_IADE', 'CPIS_IAPE', 'CPIS_IAPD', 'loans_dep' ] ] *= 1./df_inflation[\"Inflation\"][y]\n",
    "    G_cd_equity_15 = make_cont_net_from_survey_year_all_countries(df_copy, \"CDIS_IADE\", y)\n",
    "    G_cd_debt_15 = make_cont_net_from_survey_year_all_countries(df_copy, \"CDIS_IADD\", y)\n",
    "    G_cp_equity_15 = make_cont_net_from_survey_year_all_countries(df_copy, \"CPIS_IAPE\",y)\n",
    "    G_cp_debt_15 = make_cont_net_from_survey_year_all_countries(df_copy, \"CPIS_IAPD\", y)\n",
    "    G_bis_15 = make_cont_net_from_survey_year_all_countries(df_copy, \"loans_dep\", y)\n",
    "    G_15_list = [G_cd_equity_15, G_cd_debt_15, G_cp_equity_15, G_cp_debt_15, G_bis_15  ]\n",
    "    G_adjacency_15 = []\n",
    "    for g in G_15_list:\n",
    "        G_adjacency_15.append(np.array((g.get_adjacency(attribute= \"weight\")).data))\n",
    "\n",
    "    AM_agg_2015 = G_adjacency_15[0] + G_adjacency_15[1] + G_adjacency_15[2] + G_adjacency_15[3] + G_adjacency_15[4]\n",
    "    G_agg_2015 = igraph.Graph.Weighted_Adjacency(AM_agg_2015.tolist(), attr= \"weight\")\n",
    "    \n",
    "    return G_agg_2015, AM_agg_2015"
   ]
  },
  {
   "cell_type": "code",
   "execution_count": 19,
   "metadata": {
    "collapsed": true
   },
   "outputs": [],
   "source": [
    "dict_survey_names = {0: \"CDIS-equity\", 1: \"CDIS-debt\",2: \"CPIS-equity\",3: \"CPIS-debt\",4: \"BIS\"}"
   ]
  },
  {
   "cell_type": "code",
   "execution_count": 20,
   "metadata": {
    "collapsed": false
   },
   "outputs": [],
   "source": [
    "name = \"AM4_all_nodesNormOutFlow\"\n",
    "for y in range(2008,2016):\n",
    "    G_list, G_nm, G_adj = make_graphs_allnodes(y, norm = True)\n",
    "    for i in range(5):\n",
    "        survey_name = dict_survey_names[i]\n",
    "        np.savetxt(\"csv_files/\"+name+survey_name+str(y)+\".csv\", G_adj[i], delimiter=\",\")"
   ]
  },
  {
   "cell_type": "code",
   "execution_count": 21,
   "metadata": {
    "collapsed": false
   },
   "outputs": [],
   "source": [
    "name = \"AM4_all_nodes_aggregateNormOutFlow\"\n",
    "for y in range(2008,2016):\n",
    "    Ga_list, G_adj = make_agg_graph(y, norm = True)\n",
    "    np.savetxt(\"csv_files/\"+name+str(y)+\".csv\", G_adj, delimiter=\",\")"
   ]
  },
  {
   "cell_type": "code",
   "execution_count": 22,
   "metadata": {
    "collapsed": false
   },
   "outputs": [],
   "source": [
    "all_names = G_list[0].vs[\"name\"]"
   ]
  },
  {
   "cell_type": "code",
   "execution_count": 23,
   "metadata": {
    "collapsed": false
   },
   "outputs": [
    {
     "data": {
      "text/plain": [
       "213"
      ]
     },
     "execution_count": 23,
     "metadata": {},
     "output_type": "execute_result"
    }
   ],
   "source": [
    "len( G_list[3].vs[\"name\"])"
   ]
  },
  {
   "cell_type": "code",
   "execution_count": 24,
   "metadata": {
    "collapsed": false
   },
   "outputs": [
    {
     "data": {
      "text/plain": [
       "213"
      ]
     },
     "execution_count": 24,
     "metadata": {},
     "output_type": "execute_result"
    }
   ],
   "source": [
    "len(all_names)"
   ]
  },
  {
   "cell_type": "code",
   "execution_count": 43,
   "metadata": {
    "collapsed": true
   },
   "outputs": [],
   "source": [
    "all_names = G_list[0].vs[\"name\"]\n",
    "#f = open(\"csv_files/\"+\"all_country_name4\"+\".csv\", \"w\")\n",
    "for i in all_names:\n",
    "    f.write(i+\"\\n\")\n",
    "f.close()"
   ]
  },
  {
   "cell_type": "markdown",
   "metadata": {
    "collapsed": true
   },
   "source": [
    "### HeatMap"
   ]
  },
  {
   "cell_type": "markdown",
   "metadata": {},
   "source": [
    "#### For aggregated network"
   ]
  },
  {
   "cell_type": "code",
   "execution_count": 250,
   "metadata": {
    "collapsed": false
   },
   "outputs": [],
   "source": [
    "G_Ag_ADJ = []\n",
    "G_Ag_NAMES = []\n",
    "G_Ag_G = []\n",
    "for y in range(2008,2016):\n",
    "    a, c = make_agg_graph(y,norm = True)\n",
    "    G_Ag_ADJ.append(c)"
   ]
  },
  {
   "cell_type": "code",
   "execution_count": 251,
   "metadata": {
    "collapsed": true
   },
   "outputs": [],
   "source": [
    "def norm_matrix(A):\n",
    "    norm = sum(sum(A))\n",
    "    #print norm\n",
    "    return A/norm"
   ]
  },
  {
   "cell_type": "code",
   "execution_count": 252,
   "metadata": {
    "collapsed": false
   },
   "outputs": [
    {
     "data": {
      "text/plain": [
       "8"
      ]
     },
     "execution_count": 252,
     "metadata": {},
     "output_type": "execute_result"
    }
   ],
   "source": [
    "len(G_Ag_ADJ)#[2] #== G_ADJ[2][2]"
   ]
  },
  {
   "cell_type": "code",
   "execution_count": 255,
   "metadata": {
    "collapsed": true
   },
   "outputs": [],
   "source": [
    "A_agg_NORM = []\n",
    "for am in G_Ag_ADJ:\n",
    "    A_agg_NORM.append(norm_matrix(am) )"
   ]
  },
  {
   "cell_type": "code",
   "execution_count": 256,
   "metadata": {
    "collapsed": true
   },
   "outputs": [],
   "source": [
    "mean_agg, std_agg = np.mean(difference_single_mat(A_agg_NORM[0] , A_agg_NORM[1])), np.std(difference_single_mat(A_agg_NORM[0] , A_agg_NORM[1]))"
   ]
  },
  {
   "cell_type": "code",
   "execution_count": 257,
   "metadata": {
    "collapsed": true
   },
   "outputs": [],
   "source": [
    "test = difference_single_mat(A_agg_NORM[0] , A_agg_NORM[1])"
   ]
  },
  {
   "cell_type": "code",
   "execution_count": 258,
   "metadata": {
    "collapsed": false
   },
   "outputs": [],
   "source": [
    "t = filter(lambda a: a != 0, test)"
   ]
  },
  {
   "cell_type": "code",
   "execution_count": 259,
   "metadata": {
    "collapsed": false
   },
   "outputs": [
    {
     "data": {
      "text/plain": [
       "(8.6195521774940363e-05, 0.00076599636529597187)"
      ]
     },
     "execution_count": 259,
     "metadata": {},
     "output_type": "execute_result"
    }
   ],
   "source": [
    "np.mean(t), np.std(t)"
   ]
  },
  {
   "cell_type": "code",
   "execution_count": 260,
   "metadata": {
    "collapsed": false
   },
   "outputs": [
    {
     "data": {
      "text/plain": [
       "(1.808852071426305e-05, 0.00035265307454740284)"
      ]
     },
     "execution_count": 260,
     "metadata": {},
     "output_type": "execute_result"
    }
   ],
   "source": [
    "mean_agg, std_agg"
   ]
  },
  {
   "cell_type": "code",
   "execution_count": 261,
   "metadata": {
    "collapsed": true
   },
   "outputs": [],
   "source": [
    "mean_agg, std_agg = np.mean(difference_mat(A_NORM[0][1] , A_NORM[1][1])), np.std(difference_mat(A_NORM[0][1] , A_NORM[1][1]))"
   ]
  },
  {
   "cell_type": "code",
   "execution_count": 262,
   "metadata": {
    "collapsed": false
   },
   "outputs": [
    {
     "data": {
      "text/plain": [
       "(3.529193550768448e-05, 0.0027076999505404992)"
      ]
     },
     "execution_count": 262,
     "metadata": {},
     "output_type": "execute_result"
    }
   ],
   "source": [
    "mean_agg, std_agg"
   ]
  },
  {
   "cell_type": "code",
   "execution_count": 209,
   "metadata": {
    "collapsed": false
   },
   "outputs": [
    {
     "data": {
      "text/plain": [
       "4.4369767471320872e-77"
      ]
     },
     "execution_count": 209,
     "metadata": {},
     "output_type": "execute_result"
    }
   ],
   "source": [
    "difference_single_mat(A_agg_NORM[-2] , A_agg_NORM[-1])[11] #== difference_mat(A_NORM[0][1] , A_NORM[1][1])"
   ]
  },
  {
   "cell_type": "code",
   "execution_count": 195,
   "metadata": {
    "collapsed": true
   },
   "outputs": [],
   "source": [
    "def difference_mat(A, B):\n",
    "    l = len(A[0])\n",
    "    dif = []\n",
    "    for i in range(l):\n",
    "        for j in range(l):\n",
    "            dif.append( abs( A[i, j] - B[i, j]))\n",
    "    return dif"
   ]
  },
  {
   "cell_type": "code",
   "execution_count": 211,
   "metadata": {
    "collapsed": false
   },
   "outputs": [
    {
     "data": {
      "text/plain": [
       "0.0"
      ]
     },
     "execution_count": 211,
     "metadata": {},
     "output_type": "execute_result"
    }
   ],
   "source": [
    "difference_mat(A_NORM[-2][0] , A_NORM[0][0])[11]"
   ]
  },
  {
   "cell_type": "code",
   "execution_count": 212,
   "metadata": {
    "collapsed": false
   },
   "outputs": [
    {
     "data": {
      "text/plain": [
       "0.0"
      ]
     },
     "execution_count": 212,
     "metadata": {},
     "output_type": "execute_result"
    }
   ],
   "source": [
    "difference_mat(A_NORM[-2][1] , A_NORM[0][1])[11]"
   ]
  },
  {
   "cell_type": "code",
   "execution_count": 213,
   "metadata": {
    "collapsed": false
   },
   "outputs": [
    {
     "data": {
      "text/plain": [
       "0.0"
      ]
     },
     "execution_count": 213,
     "metadata": {},
     "output_type": "execute_result"
    }
   ],
   "source": [
    "difference_mat(A_NORM[-2][2] , A_NORM[0][2])[11]"
   ]
  },
  {
   "cell_type": "code",
   "execution_count": 214,
   "metadata": {
    "collapsed": false
   },
   "outputs": [
    {
     "data": {
      "text/plain": [
       "0.0"
      ]
     },
     "execution_count": 214,
     "metadata": {},
     "output_type": "execute_result"
    }
   ],
   "source": [
    "difference_mat(A_NORM[-2][3] , A_NORM[0][3])[11]"
   ]
  },
  {
   "cell_type": "code",
   "execution_count": 208,
   "metadata": {
    "collapsed": false
   },
   "outputs": [
    {
     "data": {
      "text/plain": [
       "2.0231447139935628e-08"
      ]
     },
     "execution_count": 208,
     "metadata": {},
     "output_type": "execute_result"
    }
   ],
   "source": [
    "difference_mat(A_NORM[-2][-1] , A_NORM[-1][-1])[11]"
   ]
  },
  {
   "cell_type": "code",
   "execution_count": 167,
   "metadata": {
    "collapsed": false
   },
   "outputs": [
    {
     "data": {
      "text/plain": [
       "1.9990763948972874"
      ]
     },
     "execution_count": 167,
     "metadata": {},
     "output_type": "execute_result"
    }
   ],
   "source": [
    "difference_mat(A_NORM[0][1] , A_NORM[1][1])"
   ]
  },
  {
   "cell_type": "code",
   "execution_count": 168,
   "metadata": {
    "collapsed": false
   },
   "outputs": [
    {
     "data": {
      "text/plain": [
       "1.9712601208704674"
      ]
     },
     "execution_count": 168,
     "metadata": {},
     "output_type": "execute_result"
    }
   ],
   "source": [
    "difference_mat(A_NORM[0][0] , A_NORM[1][0])"
   ]
  },
  {
   "cell_type": "code",
   "execution_count": 185,
   "metadata": {
    "collapsed": false
   },
   "outputs": [
    {
     "data": {
      "text/plain": [
       "1.9990763948972874"
      ]
     },
     "execution_count": 185,
     "metadata": {},
     "output_type": "execute_result"
    }
   ],
   "source": [
    "difference_single_mat(A_agg_NORM[0] , A_agg_NORM[1])"
   ]
  },
  {
   "cell_type": "code",
   "execution_count": 189,
   "metadata": {
    "collapsed": false
   },
   "outputs": [
    {
     "data": {
      "text/plain": [
       "6.7324239189222657e-63"
      ]
     },
     "execution_count": 189,
     "metadata": {},
     "output_type": "execute_result"
    }
   ],
   "source": [
    "A_agg_NORM[1][-2,-1]"
   ]
  },
  {
   "cell_type": "code",
   "execution_count": 188,
   "metadata": {
    "collapsed": false
   },
   "outputs": [
    {
     "data": {
      "text/plain": [
       "0.0"
      ]
     },
     "execution_count": 188,
     "metadata": {},
     "output_type": "execute_result"
    }
   ],
   "source": [
    "A_NORM[1][1][-2,-1]"
   ]
  },
  {
   "cell_type": "code",
   "execution_count": 263,
   "metadata": {
    "collapsed": true
   },
   "outputs": [],
   "source": [
    "def difference_single_mat(A, B):\n",
    "    l = len(A)\n",
    "    dif = []\n",
    "    for i in range(l):\n",
    "        for j in range(l):\n",
    "            dif.append(abs( A[i, j] - B[i, j]))\n",
    "    return dif"
   ]
  },
  {
   "cell_type": "code",
   "execution_count": 265,
   "metadata": {
    "collapsed": false
   },
   "outputs": [],
   "source": [
    "dif = []\n",
    "for y1 in range(2016-2009):\n",
    "    dif.append([])\n",
    "    for y2 in range(2016-2009):\n",
    "        dif[y1].append(sum(difference_single_mat(A_agg_NORM[y1 + 1] , A_agg_NORM[y2 + 1])))\n",
    "    "
   ]
  },
  {
   "cell_type": "code",
   "execution_count": 266,
   "metadata": {
    "collapsed": false
   },
   "outputs": [
    {
     "data": {
      "image/png": "[encoded data removed]",
      "text/plain": [
       "<matplotlib.figure.Figure at 0x7fcab459cf10>"
      ]
     },
     "metadata": {},
     "output_type": "display_data"
    }
   ],
   "source": [
    "fig, ax = plt.subplots()\n",
    "labels = [str(y) for y in range(2009,2016)]#'abcdefghij'\n",
    "\n",
    "for axis in [ax.xaxis, ax.yaxis]:\n",
    "    axis.set(ticks=np.arange(0.5, len(labels)), ticklabels=labels)\n",
    "\n",
    "plt.pcolor(dif,  vmin=0, vmax=0.5)\n",
    "plt.title(\"Aggregate, diference between years\")\n",
    "plt.colorbar()\n",
    "plt.savefig(\"fig/TemporalDiferenceNorm-Agg-eq.png\")"
   ]
  },
  {
   "cell_type": "code",
   "execution_count": 153,
   "metadata": {
    "collapsed": false
   },
   "outputs": [
    {
     "data": {
      "text/plain": [
       "True"
      ]
     },
     "execution_count": 153,
     "metadata": {},
     "output_type": "execute_result"
    }
   ],
   "source": [
    "dif == DIF[1]"
   ]
  },
  {
   "cell_type": "markdown",
   "metadata": {},
   "source": [
    "### All"
   ]
  },
  {
   "cell_type": "code",
   "execution_count": 269,
   "metadata": {
    "collapsed": false
   },
   "outputs": [],
   "source": [
    "G_ADJ = []\n",
    "G_NAMES = []\n",
    "G_G = []\n",
    "for y in range(2008,2016):\n",
    "    a, b , c = make_graphs_allnodes(y)\n",
    "    G_ADJ.append(c )"
   ]
  },
  {
   "cell_type": "code",
   "execution_count": 270,
   "metadata": {
    "collapsed": false
   },
   "outputs": [],
   "source": [
    "A_NORM = []\n",
    "for g_year in G_ADJ:\n",
    "    A_NORM.append([norm_matrix(am) for am in g_year])"
   ]
  },
  {
   "cell_type": "code",
   "execution_count": 271,
   "metadata": {
    "collapsed": true
   },
   "outputs": [],
   "source": [
    "def difference_mat(A, B):\n",
    "    l = len(A[0])\n",
    "    dif = 0\n",
    "    for i in range(l):\n",
    "        for j in range(l):\n",
    "            dif += abs( A[i, j] - B[i, j])\n",
    "    return dif"
   ]
  },
  {
   "cell_type": "code",
   "execution_count": 272,
   "metadata": {
    "collapsed": false
   },
   "outputs": [
    {
     "data": {
      "text/plain": [
       "0.16437326430905136"
      ]
     },
     "execution_count": 272,
     "metadata": {},
     "output_type": "execute_result"
    }
   ],
   "source": [
    "difference_mat(A_NORM[-1][2] , A_NORM[-2][2])"
   ]
  },
  {
   "cell_type": "code",
   "execution_count": 273,
   "metadata": {
    "collapsed": false
   },
   "outputs": [],
   "source": [
    "DIF = []\n",
    "for i in range(5):\n",
    "    dif = []\n",
    "    for y1 in range(2016-2009):\n",
    "        dif.append([])\n",
    "        for y2 in range(2016-2009):\n",
    "            dif[y1].append(difference_mat(A_NORM[y1 + 1][i] , A_NORM[y2 + 1][i]))\n",
    "    DIF.append(dif)"
   ]
  },
  {
   "cell_type": "code",
   "execution_count": 274,
   "metadata": {
    "collapsed": false
   },
   "outputs": [
    {
     "data": {
      "text/plain": [
       "<matplotlib.colorbar.Colorbar at 0x7fcab42b4950>"
      ]
     },
     "execution_count": 274,
     "metadata": {},
     "output_type": "execute_result"
    },
    {
     "data": {
      "image/png": "[encoded data removed]",
      "text/plain": [
       "<matplotlib.figure.Figure at 0x7fcab5770190>"
      ]
     },
     "metadata": {},
     "output_type": "display_data"
    }
   ],
   "source": [
    "fig, ax = plt.subplots()\n",
    "labels = [str(y) for y in range(2009,2016)]#'abcdefghij'\n",
    "\n",
    "for axis in [ax.xaxis, ax.yaxis]:\n",
    "    axis.set(ticks=np.arange(0.5, len(labels)), ticklabels=labels)\n",
    "\n",
    "plt.pcolor(DIF[0],  vmin=0, vmax=0.5)\n",
    "plt.title(\"CDIS - equity, diference between years\")\n",
    "plt.colorbar()\n",
    "#plt.savefig(\"fig/TemporalDiferenceNorm-CDIS-eq.png\")"
   ]
  },
  {
   "cell_type": "code",
   "execution_count": 163,
   "metadata": {
    "collapsed": false
   },
   "outputs": [
    {
     "data": {
      "text/plain": [
       "<matplotlib.colorbar.Colorbar at 0x7fcac4b571d0>"
      ]
     },
     "execution_count": 163,
     "metadata": {},
     "output_type": "execute_result"
    },
    {
     "data": {
      "image/png": "[encoded data removed]",
      "text/plain": [
       "<matplotlib.figure.Figure at 0x7fcac58e8b50>"
      ]
     },
     "metadata": {},
     "output_type": "display_data"
    }
   ],
   "source": [
    "fig, ax = plt.subplots()\n",
    "labels = [str(y) for y in range(2009,2016)]#'abcdefghij'\n",
    "\n",
    "for axis in [ax.xaxis, ax.yaxis]:\n",
    "    axis.set(ticks=np.arange(0.5, len(labels)), ticklabels=labels)\n",
    "\n",
    "plt.pcolor(DIF[1],  vmin=0, vmax=0.5)\n",
    "plt.savefig(\"fig/TemporalDiference-CDIS-de.png\")\n",
    "plt.title(\"CDIS - debt, diference between years\")\n",
    "plt.colorbar()\n",
    "#plt.savefig(\"fig/TemporalDiferenceNorm-CDIS-de.png\")"
   ]
  },
  {
   "cell_type": "code",
   "execution_count": 89,
   "metadata": {
    "collapsed": false
   },
   "outputs": [
    {
     "data": {
      "image/png": "[encoded data removed]",
      "text/plain": [
       "<matplotlib.figure.Figure at 0x7fcac5b84b90>"
      ]
     },
     "metadata": {},
     "output_type": "display_data"
    }
   ],
   "source": [
    "fig, ax = plt.subplots()\n",
    "labels = [str(y) for y in range(2009,2016)]#'abcdefghij'\n",
    "\n",
    "for axis in [ax.xaxis, ax.yaxis]:\n",
    "    axis.set(ticks=np.arange(0.5, len(labels)), ticklabels=labels)\n",
    "\n",
    "plt.pcolor(DIF[2],  vmin=0, vmax=0.5)\n",
    "plt.title(\"CPIS - equity, diference between years\")\n",
    "plt.colorbar()\n",
    "plt.savefig(\"fig/TemporalDiferenceNorm-CPIS-eq.png\")"
   ]
  },
  {
   "cell_type": "code",
   "execution_count": 90,
   "metadata": {
    "collapsed": false
   },
   "outputs": [
    {
     "data": {
      "image/png": "[encoded data removed]",
      "text/plain": [
       "<matplotlib.figure.Figure at 0x7fcac5b84ad0>"
      ]
     },
     "metadata": {},
     "output_type": "display_data"
    }
   ],
   "source": [
    "fig, ax = plt.subplots()\n",
    "labels = [str(y) for y in range(2009,2016)]#'abcdefghij'\n",
    "\n",
    "for axis in [ax.xaxis, ax.yaxis]:\n",
    "    axis.set(ticks=np.arange(0.5, len(labels)), ticklabels=labels)\n",
    "\n",
    "plt.pcolor(DIF[3],  vmin=0, vmax=0.5)\n",
    "plt.title(\"CPIS - debt, diference between years\")\n",
    "plt.colorbar()\n",
    "plt.savefig(\"fig/TemporalDiferenceNorm-CPIS-de.png\")"
   ]
  },
  {
   "cell_type": "code",
   "execution_count": 79,
   "metadata": {
    "collapsed": false
   },
   "outputs": [
    {
     "data": {
      "image/png": "[encoded data removed]",
      "text/plain": [
       "<matplotlib.figure.Figure at 0x7fcac417f9d0>"
      ]
     },
     "metadata": {},
     "output_type": "display_data"
    }
   ],
   "source": [
    "fig, ax = plt.subplots()\n",
    "labels = [str(y) for y in range(2009,2016)]#'abcdefghij'\n",
    "\n",
    "for axis in [ax.xaxis, ax.yaxis]:\n",
    "    axis.set(ticks=np.arange(0.5, len(labels)), ticklabels=labels)\n",
    "\n",
    "plt.pcolor(DIF[4],  vmin=0, vmax=0.5)\n",
    "plt.title(\"BIS, diference between years\")\n",
    "plt.colorbar()\n",
    "plt.savefig(\"fig/TemporalDiferenceNorm-BIS.png\")"
   ]
  },
  {
   "cell_type": "markdown",
   "metadata": {},
   "source": [
    "### Deficit"
   ]
  },
  {
   "cell_type": "code",
   "execution_count": 18,
   "metadata": {
    "collapsed": true
   },
   "outputs": [],
   "source": [
    "def get_deficit(G):\n",
    "    in_flow = np.array(G.strength(weights= G.es[\"weight\"], mode = \"IN\"))\n",
    "    out_flow = np.array(G.strength(weights= G.es[\"weight\"], mode = \"OUT\"))\n",
    "    return in_flow - out_flow"
   ]
  },
  {
   "cell_type": "code",
   "execution_count": 19,
   "metadata": {
    "collapsed": false
   },
   "outputs": [],
   "source": [
    "#defi = []\n",
    "#for i in range(len(G_names)):\n",
    "#    nm = G_names[i]\n",
    "#    g = G_15_list[i]\n",
    "#    deficit = get_deficit(g)\n",
    "#    node_names = np.array(copy.deepcopy(g.vs[\"name\"]))\n",
    "#    num_nodes = [i for i in range(len(node_names))]\n",
    "#    plt.figure(figsize=(36,4))\n",
    "#    #defi.append(deficit)\n",
    "#    inds = deficit.argsort()\n",
    "#    sort_names = node_names[inds]\n",
    "#    deficit_sort = deficit[inds]\n",
    "#    plt.figure(figsize=(30,4))\n",
    "#    plt.plot(num_nodes, deficit_sort, \".\")\n",
    "#    plt.xticks(num_nodes, sort_names ,rotation='vertical')\n",
    "#    plt.yscale('symlog')\n",
    "#    plt.ylabel(\"Lendings - borrowings\", fontsize = 20)\n",
    "#    plt.title(nm+ \" deficit 2015\", fontsize = 30)\n",
    "#    plt.xlim([-1, len(num_nodes)])\n",
    "#    plt.savefig(\"fig/deficit\"+ nm +str(y) +\".png\", bbox_inches = \"tight\")\n",
    "#    plt.show()"
   ]
  },
  {
   "cell_type": "code",
   "execution_count": 20,
   "metadata": {
    "collapsed": false
   },
   "outputs": [
    {
     "data": {
      "text/plain": [
       "'United Kingdom'"
      ]
     },
     "execution_count": 20,
     "metadata": {},
     "output_type": "execute_result"
    }
   ],
   "source": [
    "sort_names[-1]"
   ]
  },
  {
   "cell_type": "markdown",
   "metadata": {},
   "source": [
    "### Relationship between in-out strength"
   ]
  },
  {
   "cell_type": "code",
   "execution_count": 23,
   "metadata": {
    "collapsed": false
   },
   "outputs": [
    {
     "name": "stdout",
     "output_type": "stream",
     "text": [
      "[  8.29979971e-01   2.10435313e+04]\n",
      "(0.94038544064426222, 1.2052019512670021e-110)\n"
     ]
    },
    {
     "data": {
      "image/png": "[encoded data removed]",
      "text/plain": [
       "<matplotlib.figure.Figure at 0x7f1adb7a29d0>"
      ]
     },
     "metadata": {},
     "output_type": "display_data"
    },
    {
     "name": "stdout",
     "output_type": "stream",
     "text": [
      "[  7.98405083e-01   8.27400719e+03]\n",
      "(0.91056828986501614, 6.6662716883600218e-88)\n"
     ]
    },
    {
     "data": {
      "image/png": "[encoded data removed]",
      "text/plain": [
       "<matplotlib.figure.Figure at 0x7f1add3a6fd0>"
      ]
     },
     "metadata": {},
     "output_type": "display_data"
    },
    {
     "name": "stdout",
     "output_type": "stream",
     "text": [
      "[  7.06153573e-01   2.91881844e+04]\n",
      "(0.88832182289912065, 2.7728144774412767e-75)\n"
     ]
    },
    {
     "data": {
      "image/png": "[encoded data removed]",
      "text/plain": [
       "<matplotlib.figure.Figure at 0x7f1add71ee90>"
      ]
     },
     "metadata": {},
     "output_type": "display_data"
    },
    {
     "name": "stdout",
     "output_type": "stream",
     "text": [
      "[  9.40275943e-01   5.72667456e+03]\n",
      "(0.7866876193973048, 1.8881975841320001e-45)\n"
     ]
    },
    {
     "data": {
      "image/png": "[encoded data removed]",
      "text/plain": [
       "<matplotlib.figure.Figure at 0x7f1adb6ffc90>"
      ]
     },
     "metadata": {},
     "output_type": "display_data"
    },
    {
     "name": "stdout",
     "output_type": "stream",
     "text": [
      "[  9.54743455e-01   3.92089946e+03]\n",
      "(0.9698316821241354, 4.3196985939180011e-130)\n"
     ]
    },
    {
     "data": {
      "image/png": "[encoded data removed]",
      "text/plain": [
       "<matplotlib.figure.Figure at 0x7f1add751350>"
      ]
     },
     "metadata": {},
     "output_type": "display_data"
    }
   ],
   "source": [
    "for i in range(len(G_names)):\n",
    "    nm = G_names[i]\n",
    "    g = G_15_list[i]\n",
    "    in_str = g.strength(weights= g.es[\"weight\"], mode = \"IN\")\n",
    "    out_str = g.strength(weights= g.es[\"weight\"], mode = \"OUT\")\n",
    "    print np.polyfit(in_str, out_str, 1)\n",
    "    print scipy.stats.pearsonr(in_str, out_str)\n",
    "    plt.plot(in_str, out_str, \".\" ) \n",
    "    plt.plot(in_str, in_str, label = \"Identity \\n line\")\n",
    "    plt.yscale('log')\n",
    "    plt.xscale('log')\n",
    "    plt.ylabel(\"out-strength\", fontsize = 12)\n",
    "    plt.xlabel(\"in-strength\", fontsize = 12)\n",
    "    plt.legend(loc='center left', bbox_to_anchor=(1, 0.5))\n",
    "    plt.title(nm+ \" In-Out strength relation\"+str(y), fontsize = 15)\n",
    "    plt.savefig(\"fig/In-Out\"+ nm + str(y)+\".png\", bbox_inches = \"tight\")\n",
    "    plt.show()"
   ]
  },
  {
   "cell_type": "code",
   "execution_count": null,
   "metadata": {
    "collapsed": false
   },
   "outputs": [],
   "source": [
    "scipy.stats.pearsonr(G_cd_equity.strength(weights=G_cd_equity.es[\"weight\"], mode = \"IN\"), G_cd_equity.strength(weights=G_cd_equity.es[\"weight\"], mode = \"OUT\"))"
   ]
  },
  {
   "cell_type": "markdown",
   "metadata": {},
   "source": [
    "### Strength distribution"
   ]
  },
  {
   "cell_type": "code",
   "execution_count": 53,
   "metadata": {
    "collapsed": false
   },
   "outputs": [
    {
     "data": {
      "image/png": "[encoded data removed]",
      "text/plain": [
       "<matplotlib.figure.Figure at 0x7ff3b89b3c90>"
      ]
     },
     "metadata": {},
     "output_type": "display_data"
    }
   ],
   "source": [
    "for i in range(len(G_names)):\n",
    "    nm = G_names[i]\n",
    "    g = G_15_list[i]\n",
    "    strength = g.strength(weights= g.es[\"weight\"])\n",
    "    hist, bins = np.histogram(strength, bins = np.logspace(0.1, np.log(max(strength)), 50 ) )\n",
    "    plt.plot(bins[:-1], hist, \".-\", label = nm)\n",
    "    plt.yscale('log')\n",
    "    plt.xscale('log')\n",
    "    plt.ylabel(\"Frequency\", fontsize = 12)\n",
    "    plt.xlabel(\"Strength\", fontsize = 12)\n",
    "    plt.xlim([0.1, 1e10])\n",
    "plt.legend(loc='center left', bbox_to_anchor=(1, 0.5))\n",
    "plt.title( \" Degree distribution \"+ str(y), fontsize = 15)\n",
    "plt.savefig(\"fig/DegreeDist\"+ \"All\" + str(y) +\".png\", bbox_inches = \"tight\")\n",
    "plt.show()"
   ]
  },
  {
   "cell_type": "code",
   "execution_count": 12,
   "metadata": {
    "collapsed": false
   },
   "outputs": [
    {
     "data": {
      "image/png": "[encoded data removed]",
      "text/plain": [
       "<matplotlib.figure.Figure at 0x7ff3b8a3e9d0>"
      ]
     },
     "metadata": {},
     "output_type": "display_data"
    },
    {
     "data": {
      "image/png": "[encoded data removed]",
      "text/plain": [
       "<matplotlib.figure.Figure at 0x7ff3b831c690>"
      ]
     },
     "metadata": {},
     "output_type": "display_data"
    },
    {
     "data": {
      "image/png": "[encoded data removed]",
      "text/plain": [
       "<matplotlib.figure.Figure at 0x7ff3b811c450>"
      ]
     },
     "metadata": {},
     "output_type": "display_data"
    },
    {
     "data": {
      "image/png": "[encoded data removed]",
      "text/plain": [
       "<matplotlib.figure.Figure at 0x7ff3b817e6d0>"
      ]
     },
     "metadata": {},
     "output_type": "display_data"
    },
    {
     "data": {
      "image/png": "[encoded data removed]",
      "text/plain": [
       "<matplotlib.figure.Figure at 0x7ff3b829f9d0>"
      ]
     },
     "metadata": {},
     "output_type": "display_data"
    }
   ],
   "source": [
    "for i in range(len(G_names)):\n",
    "    nm = G_names[i]\n",
    "    g = G_15_list[i]\n",
    "    strength = g.strength(weights= g.es[\"weight\"])\n",
    "    hist, bins = np.histogram(strength, bins = np.logspace(0.1, np.log(max(strength)), 50 ) )\n",
    "    plt.plot(bins[:-1], hist, \".\")\n",
    "    plt.yscale('log')\n",
    "    plt.xscale('log')\n",
    "    plt.ylabel(\"Frequency\", fontsize = 12)\n",
    "    plt.xlabel(\"Strength\", fontsize = 12)\n",
    "    plt.xlim([0.1, 1e10])\n",
    "    #plt.legend(loc='center left', bbox_to_anchor=(1, 0.5))\n",
    "    plt.title(nm+ \" Degree distribution 2015\", fontsize = 15)\n",
    "    #plt.savefig(\"fig/DegreeDist\"+ nm + \".png\", bbox_inches = \"tight\")\n",
    "    plt.show()"
   ]
  },
  {
   "cell_type": "markdown",
   "metadata": {},
   "source": [
    "### Weights distribution"
   ]
  },
  {
   "cell_type": "code",
   "execution_count": 54,
   "metadata": {
    "collapsed": false
   },
   "outputs": [
    {
     "data": {
      "image/png": "[encoded data removed]",
      "text/plain": [
       "<matplotlib.figure.Figure at 0x7ff3b81afb90>"
      ]
     },
     "metadata": {},
     "output_type": "display_data"
    }
   ],
   "source": [
    "for i in range(len(G_names)):\n",
    "    nm = G_names[i]\n",
    "    g = G_15_list[i]\n",
    "    weights = g.es[\"weight\"]\n",
    "    hist, bins = np.histogram(weights, bins = np.logspace(0.1, np.log(max(strength)), 100 ) )\n",
    "    \n",
    "    #results = powerlaw.Fit(hist) \n",
    "    #print results.power_law.alpha \n",
    "    #print results.power_law.xmin \n",
    "    #R, p = results.distribution_compare('power_law', 'lognormal') \n",
    "    #print R, p\n",
    "    plt.plot(bins[:-1], hist, \".-\", label = nm)\n",
    "    plt.yscale('log')\n",
    "    plt.xscale('log')\n",
    "    plt.xlim([0.1, 1e8])\n",
    "    plt.ylabel(\"Frequency\", fontsize = 12)\n",
    "    plt.xlabel(\"weight\", fontsize = 12)\n",
    "    plt.xlim()\n",
    "plt.legend(loc='center left', bbox_to_anchor=(1, 0.5))\n",
    "plt.title( \" Weight distribution \"+ str(y), fontsize = 15)\n",
    "plt.savefig(\"fig/WeightDist\"+ \"All\"+str(y) +\".png\", bbox_inches = \"tight\")\n",
    "plt.show()"
   ]
  },
  {
   "cell_type": "code",
   "execution_count": 150,
   "metadata": {
    "collapsed": false
   },
   "outputs": [
    {
     "name": "stderr",
     "output_type": "stream",
     "text": [
      "Values less than or equal to 0 in data. Throwing out 0 or negative values\n",
      "Calculating best minimal value for power law fit\n"
     ]
    },
    {
     "name": "stdout",
     "output_type": "stream",
     "text": [
      "18.8814555452\n",
      "230.0\n",
      "-0.17727125163 0.715128853547\n"
     ]
    },
    {
     "data": {
      "image/png": "[encoded data removed]",
      "text/plain": [
       "<matplotlib.figure.Figure at 0x7fdc0b974210>"
      ]
     },
     "metadata": {},
     "output_type": "display_data"
    },
    {
     "name": "stderr",
     "output_type": "stream",
     "text": [
      "Values less than or equal to 0 in data. Throwing out 0 or negative values\n",
      "Calculating best minimal value for power law fit\n"
     ]
    },
    {
     "name": "stdout",
     "output_type": "stream",
     "text": [
      "12.5965487221\n",
      "230.0\n",
      "-0.820826869583 0.498349477479\n"
     ]
    },
    {
     "data": {
      "image/png": "[encoded data removed]",
      "text/plain": [
       "<matplotlib.figure.Figure at 0x7fdc0b62ba90>"
      ]
     },
     "metadata": {},
     "output_type": "display_data"
    },
    {
     "name": "stderr",
     "output_type": "stream",
     "text": [
      "Values less than or equal to 0 in data. Throwing out 0 or negative values\n",
      "Calculating best minimal value for power law fit\n"
     ]
    },
    {
     "name": "stdout",
     "output_type": "stream",
     "text": [
      "28.7222021763\n",
      "171.0\n",
      "4.56722412181e-05 0.982849924826\n"
     ]
    },
    {
     "data": {
      "image/png": "[encoded data removed]",
      "text/plain": [
       "<matplotlib.figure.Figure at 0x7fdc0ab817d0>"
      ]
     },
     "metadata": {},
     "output_type": "display_data"
    },
    {
     "name": "stderr",
     "output_type": "stream",
     "text": [
      "Values less than or equal to 0 in data. Throwing out 0 or negative values\n",
      "Calculating best minimal value for power law fit\n"
     ]
    },
    {
     "name": "stdout",
     "output_type": "stream",
     "text": [
      "8.79903191694\n",
      "187.0\n",
      "-1.34765591465 0.404800288532\n"
     ]
    },
    {
     "data": {
      "image/png": "[encoded data removed]",
      "text/plain": [
       "<matplotlib.figure.Figure at 0x7fdc0b723b50>"
      ]
     },
     "metadata": {},
     "output_type": "display_data"
    },
    {
     "name": "stderr",
     "output_type": "stream",
     "text": [
      "Values less than or equal to 0 in data. Throwing out 0 or negative values\n",
      "Calculating best minimal value for power law fit\n",
      "'nan' in fit cumulative distribution values.\n",
      "Likely underflow or overflow error: the optimal fit for this distribution gives values that are so extreme that we lack the numerical precision to calculate them.\n"
     ]
    },
    {
     "name": "stdout",
     "output_type": "stream",
     "text": [
      "38.3880237042\n",
      "305.0\n",
      "-0.103335364032 0.326036592223\n"
     ]
    },
    {
     "data": {
      "image/png": "[encoded data removed]",
      "text/plain": [
       "<matplotlib.figure.Figure at 0x7fdc0aa0a750>"
      ]
     },
     "metadata": {},
     "output_type": "display_data"
    }
   ],
   "source": [
    "for i in range(len(G_names)):\n",
    "    nm = G_names[i]\n",
    "    g = G_15_list[i]\n",
    "    weights = g.es[\"weight\"]\n",
    "    hist, bins = np.histogram(weights, bins = np.logspace(0.1, np.log(max(strength)), 100 ) )\n",
    "    \n",
    "    results = powerlaw.Fit(hist) \n",
    "    print results.power_law.alpha \n",
    "    print results.power_law.xmin \n",
    "    R, p = results.distribution_compare('power_law', 'lognormal') \n",
    "    print R, p\n",
    "    plt.plot(bins[:-1], hist, \".\")\n",
    "    plt.yscale('log')\n",
    "    plt.xscale('log')\n",
    "    plt.xlim([0.1, 1e8])\n",
    "    plt.ylabel(\"Frequency\", fontsize = 12)\n",
    "    plt.xlabel(\"weight\", fontsize = 12)\n",
    "    plt.xlim()\n",
    "    #plt.legend(loc='center left', bbox_to_anchor=(1, 0.5))\n",
    "    plt.title(nm+ \" Weight distribution 2015\", fontsize = 15)\n",
    "    plt.savefig(\"fig/WeightDist\"+ nm +\".png\", bbox_inches = \"tight\")\n",
    "    plt.show()"
   ]
  },
  {
   "cell_type": "markdown",
   "metadata": {},
   "source": [
    "### PageRank"
   ]
  },
  {
   "cell_type": "code",
   "execution_count": 174,
   "metadata": {
    "collapsed": false
   },
   "outputs": [],
   "source": [
    "f = open(\"csv_files/PageRank_\"+str(y)+\".csv\", \"w\")\n",
    "S_names = []\n",
    "for i in range(len(G_names)):\n",
    "    \n",
    "    nm = G_names[i]\n",
    "    f.write(nm + \",\")\n",
    "    g = G_15_list[i]\n",
    "    pagerank = np.array(g.pagerank(directed = True, weights = g.es[\"weight\"]))\n",
    "    node_names = np.array( copy.deepcopy( g.vs[\"name\"] ) )\n",
    "    inds = pagerank.argsort()\n",
    "    sort_names = node_names[inds]\n",
    "    S_names.append(sort_names)\n",
    "    pagerank_sort = pagerank[inds]\n",
    "    s = list(sort_names)\n",
    "    while len(s) > 0:\n",
    "        c = s.pop()\n",
    "        f.write(c + \",\")\n",
    "    f.write(\"\\n\")\n",
    "f.close()"
   ]
  },
  {
   "cell_type": "markdown",
   "metadata": {},
   "source": [
    "#### Kendall tau"
   ]
  },
  {
   "cell_type": "code",
   "execution_count": 163,
   "metadata": {
    "collapsed": false
   },
   "outputs": [
    {
     "name": "stderr",
     "output_type": "stream",
     "text": [
      "/home/user/anaconda2/lib/python2.7/site-packages/scipy/stats/stats.py:250: RuntimeWarning: The input array could not be properly checked for nan values. nan values will be ignored.\n",
      "  \"values. nan values will be ignored.\", RuntimeWarning)\n"
     ]
    },
    {
     "data": {
      "text/plain": [
       "KendalltauResult(correlation=0.66666666666666685, pvalue=0.17423139970764701)"
      ]
     },
     "execution_count": 163,
     "metadata": {},
     "output_type": "execute_result"
    }
   ],
   "source": [
    "scipy.stats.kendalltau(np.array([\"A\", \"B\", \"C\", \"D\"]), np.array([\"A\", \"B\", \"D\", \"C\"]))"
   ]
  },
  {
   "cell_type": "markdown",
   "metadata": {},
   "source": [
    "### Participation coefficient"
   ]
  },
  {
   "cell_type": "code",
   "execution_count": 14,
   "metadata": {
    "collapsed": true
   },
   "outputs": [],
   "source": [
    "All_nodes_name_list = []\n",
    "for alf in range(len(G_names)):\n",
    "\n",
    "    g = G_15_list[alf]\n",
    "    names = g.vs[\"name\"]\n",
    "    for nm in names:\n",
    "        if nm not in All_nodes_name_list:\n",
    "            All_nodes_name_list.append(nm)\n",
    "            \n",
    "All_nodes_name_list;    "
   ]
  },
  {
   "cell_type": "code",
   "execution_count": 15,
   "metadata": {
    "collapsed": true
   },
   "outputs": [],
   "source": [
    "All_node_layer_name_dict = {}\n",
    "All_node_layer_strength_dict = {}\n",
    "for alf in range(len(G_names)):\n",
    "    g = g = G_15_list[alf]\n",
    "    names = g.vs[\"name\"]\n",
    "    size_layer = len(names)\n",
    "    for i in range(size_layer):\n",
    "        All_node_layer_name_dict[(alf, i)] = names[i]\n",
    "        All_node_layer_strength_dict[(alf, i)]= g.strength(weights= g.es[\"weight\"])[i]"
   ]
  },
  {
   "cell_type": "code",
   "execution_count": 16,
   "metadata": {
    "collapsed": false
   },
   "outputs": [
    {
     "data": {
      "text/plain": [
       "0"
      ]
     },
     "execution_count": 16,
     "metadata": {},
     "output_type": "execute_result"
    }
   ],
   "source": [
    "g.vs[\"name\"].index(\"Afghanistan, Islamic Republic of\")"
   ]
  },
  {
   "cell_type": "code",
   "execution_count": 17,
   "metadata": {
    "collapsed": false
   },
   "outputs": [
    {
     "data": {
      "text/plain": [
       "'Afghanistan, Islamic Republic of'"
      ]
     },
     "execution_count": 17,
     "metadata": {},
     "output_type": "execute_result"
    }
   ],
   "source": [
    "All_node_layer_name_dict[(0,0)]"
   ]
  },
  {
   "cell_type": "code",
   "execution_count": 18,
   "metadata": {
    "collapsed": false
   },
   "outputs": [],
   "source": [
    "All_nodes_overlap_dict = {}\n",
    "All_nodes_overlap_list = []\n",
    "for k in range(len(All_nodes_name_list)):\n",
    "    name = All_nodes_name_list[k]\n",
    "    overlap = 0\n",
    "    \n",
    "    for alf in range(len(G_names)):\n",
    "        g = g = G_15_list[alf]\n",
    "        try:\n",
    "            i = g.vs[\"name\"].index(name)\n",
    "            overlap += g.strength(weights= g.es[\"weight\"])[i]\n",
    "        except:\n",
    "            #print alf, name  \n",
    "            pass\n",
    "    All_nodes_overlap_list.append(overlap)\n",
    "    All_nodes_overlap_dict[name] = overlap\n",
    "        "
   ]
  },
  {
   "cell_type": "code",
   "execution_count": 19,
   "metadata": {
    "collapsed": false
   },
   "outputs": [
    {
     "name": "stdout",
     "output_type": "stream",
     "text": [
      "841094.38354 3225533.19232\n"
     ]
    }
   ],
   "source": [
    "overlap_mean, overlap_std = np.mean(All_nodes_overlap_list), np.std(All_nodes_overlap_list)\n",
    "print overlap_mean, overlap_std"
   ]
  },
  {
   "cell_type": "code",
   "execution_count": 20,
   "metadata": {
    "collapsed": true
   },
   "outputs": [],
   "source": [
    "All_nodes_zscore_dict = {}\n",
    "All_nodes_zscore_list = []\n",
    "for k in range(len(All_nodes_name_list)):\n",
    "    zscore = (All_nodes_overlap_list[k] - overlap_mean)/overlap_std\n",
    "    All_nodes_zscore_list.append(zscore)\n",
    "    \n",
    "    name = All_nodes_name_list[k]\n",
    "    All_nodes_zscore_dict[name] = zscore"
   ]
  },
  {
   "cell_type": "code",
   "execution_count": 21,
   "metadata": {
    "collapsed": false
   },
   "outputs": [
    {
     "name": "stdout",
     "output_type": "stream",
     "text": [
      "Canada , 1.1584045845\n",
      "Switzerland , 1.48832767859\n",
      "Japan , 2.27436761383\n",
      "France , 2.78285249644\n",
      "China, P.R.: Mainland , 1.11903978836\n",
      "Cayman Islands , 1.59646772459\n",
      "United States , 10.8090799288\n",
      "Luxembourg , 4.56433421108\n",
      "Ireland , 1.45011471831\n",
      "Netherlands , 3.9960738734\n",
      "Germany , 2.8350426712\n",
      "China, P.R.: Hong Kong , 1.72102741547\n",
      "United Kingdom , 5.60064090825\n"
     ]
    }
   ],
   "source": [
    "for z in All_nodes_zscore_dict:\n",
    "    if All_nodes_zscore_dict[z] > 1:\n",
    "        print z, \",\" ,All_nodes_zscore_dict[z]"
   ]
  },
  {
   "cell_type": "code",
   "execution_count": 22,
   "metadata": {
    "collapsed": false
   },
   "outputs": [
    {
     "data": {
      "text/plain": [
       "{(0, 86): 73.06402008235455,\n",
       " (4, 135): 3077.6429681757,\n",
       " (3, 35): 594.192020798102,\n",
       " (0, 175): 0.6431907010264695,\n",
       " (1, 215): 2521430.85043576,\n",
       " (3, 170): 43463.39558288455,\n",
       " (4, 36): 687.9120008796453,\n",
       " (2, 84): 299.15928599238396,\n",
       " (0, 76): 2531.518151764805,\n",
       " (4, 173): 771.296997311525,\n",
       " (0, 197): 2479.6847686357796,\n",
       " (1, 201): 51908.43337956781,\n",
       " (3, 176): 21.229420617222786,\n",
       " (4, 66): 2323351.849521637,\n",
       " (1, 64): 9483.607360675349,\n",
       " (2, 78): 2173.8730550943874,\n",
       " (0, 98): 7846.235052403063,\n",
       " (4, 203): 1050.090008252184,\n",
       " (3, 86): 87333.14675820502,\n",
       " (4, 104): 92433.90587100387,\n",
       " (1, 122): 2080.8924870383926,\n",
       " (2, 104): 9822.723124973185,\n",
       " (3, 193): 4.078784942626953,\n",
       " (4, 209): 3862.463002793491,\n",
       " (0, 17): 28376.20914126141,\n",
       " (1, 133): 1.3325539827346802,\n",
       " (3, 124): 275737.3467573703,\n",
       " (4, 118): 41124.30323735159,\n",
       " (1, 28): 38.01084718108177,\n",
       " (2, 130): 94886.6206422752,\n",
       " (2, 27): 1072.7054734304547,\n",
       " (0, 55): 74220.06615317613,\n",
       " (1, 191): 250822.2087395342,\n",
       " (3, 2): 819.7582214176655,\n",
       " (0, 128): 91004.54602670809,\n",
       " (1, 54): 269.5781106930226,\n",
       " (2, 188): 1372991.964593574,\n",
       " (3, 141): 608283.2339766715,\n",
       " (4, 5): 30702.251796865487,\n",
       " (2, 53): 74851.45573862176,\n",
       " (0, 45): 2217725.3989484794,\n",
       " (4, 142): 17903.436895392602,\n",
       " (3, 40): 562246.2656908054,\n",
       " (0, 166): 134602.65595853236,\n",
       " (1, 40): 0.6650190204381943,\n",
       " (2, 214): 971.0680935612181,\n",
       " (3, 147): 2210.3071945011616,\n",
       " (4, 35): 124.69399965112098,\n",
       " (2, 47): 10.018848896026611,\n",
       " (0, 67): 2.278322940459475,\n",
       " (4, 148): 45495.85704065766,\n",
       " (0, 220): 8258686.9897197485,\n",
       " (1, 194): 336.54471844271757,\n",
       " (3, 185): 2129.498978689313,\n",
       " (4, 73): 11038.114040791988,\n",
       " (1, 89): 228.05969193391502,\n",
       " (2, 73): 177.28667879104614,\n",
       " (0, 121): 6194.886999804527,\n",
       " (4, 178): 457048.7265549755,\n",
       " (3, 95): 2651544.5453403145,\n",
       " (4, 87): 203316.69002250093,\n",
       " (1, 115): 1389.6253295649367,\n",
       " (2, 99): 948359.2781353494,\n",
       " (3, 198): 3335914.056038618,\n",
       " (0, 232): 7580.829155656567,\n",
       " (1, 158): 18486.404123454122,\n",
       " (3, 101): 226351.32415145723,\n",
       " (4, 125): 88077.3439098855,\n",
       " (1, 21): 52.92062169313431,\n",
       " (2, 157): 61828.82333697623,\n",
       " (2, 18): 4.290221239964012,\n",
       " (0, 14): 91551.15400624834,\n",
       " (1, 176): 5303.230366664007,\n",
       " (3, 11): 698343.5290481001,\n",
       " (0, 135): 341918.8115777108,\n",
       " (1, 15): 6776.511682089418,\n",
       " (2, 183): 117.13479994703084,\n",
       " (4, 12): 248511.10683500767,\n",
       " (2, 12): 140913.04463286698,\n",
       " (0, 36): 1480.3565615200105,\n",
       " (1, 170): 131.88362330943346,\n",
       " (3, 17): 9090.827248763613,\n",
       " (0, 189): 988388.9261713722,\n",
       " (1, 33): 64.17352860420942,\n",
       " (2, 209): 20.087248722324148,\n",
       " (3, 152): 412.0023456066847,\n",
       " (4, 42): 76.37299978174269,\n",
       " (2, 38): 1969886.432584392,\n",
       " (0, 90): 172.03533069809177,\n",
       " (4, 147): 3120.600004372187,\n",
       " (3, 55): 0.3429532051086426,\n",
       " (0, 211): 393.6293531637639,\n",
       " (1, 219): 21770.300949236378,\n",
       " (2, 203): 205.42826463282108,\n",
       " (3, 190): 3499.2420923933387,\n",
       " (4, 48): 2745.6029846654274,\n",
       " (1, 82): 11211.72610623834,\n",
       " (2, 64): 0.30246038152836263,\n",
       " (0, 112): 394977.3440357177,\n",
       " (4, 185): 486.77299934392795,\n",
       " (0, 201): 79429.97173833814,\n",
       " (3, 68): 48.89133834838867,\n",
       " (4, 94): 556488.3838206118,\n",
       " (1, 116): 905.0398475303082,\n",
       " (2, 122): 99739.42279391506,\n",
       " (3, 207): 652.1850789934397,\n",
       " (4, 199): 5891949.779998779,\n",
       " (1, 151): 480.09215790592134,\n",
       " (3, 106): 14850.970604540664,\n",
       " (4, 100): 15130.603988375282,\n",
       " (1, 110): 15.33221298456192,\n",
       " (2, 148): 664608.9049156951,\n",
       " (0, 5): 35649.32006072579,\n",
       " (1, 137): 198540.107746616,\n",
       " (3, 112): 12919.829305457883,\n",
       " (0, 158): 5125.709788400088,\n",
       " (1, 0): 6.176964695900097,\n",
       " (2, 142): 13.037487815017812,\n",
       " (4, 11): 256468.66092412022,\n",
       " (2, 7): 181.93322911392897,\n",
       " (0, 59): 239750.8827982482,\n",
       " (1, 163): 91381.78700385615,\n",
       " (3, 22): 446934.0346930567,\n",
       " (0, 180): 98.01846818078411,\n",
       " (1, 58): 51248.04157491494,\n",
       " (2, 168): 191.38712843926623,\n",
       " (3, 129): 418.2563288509846,\n",
       " (4, 17): 15519.202175453305,\n",
       " (2, 33): 17.64191961288452,\n",
       " (0, 81): 247807.00466889516,\n",
       " (4, 154): 154282.82949928008,\n",
       " (3, 60): 3674.1993063613772,\n",
       " (0, 170): 46170.602432370186,\n",
       " (1, 220): 6125.242095625144,\n",
       " (2, 194): 38.263103381032124,\n",
       " (3, 167): 43592.84007901698,\n",
       " (4, 63): 2093.167019903194,\n",
       " (2, 91): 7203.781315072105,\n",
       " (0, 119): 485.0073190405965,\n",
       " (4, 160): 2306.2000056765974,\n",
       " (0, 192): 58.96899347379804,\n",
       " (3, 77): 41.246700808405876,\n",
       " (4, 69): 2688.807992281043,\n",
       " (1, 77): 1.381525844335556,\n",
       " (2, 117): 3653.783739438106,\n",
       " (0, 109): 7894.564522666391,\n",
       " (4, 206): 54.847000030684285,\n",
       " (0, 230): 26.465599060058594,\n",
       " (3, 83): 1438.3530895709991,\n",
       " (4, 99): 14129.057982869446,\n",
       " (1, 103): 287380.62736964726,\n",
       " (2, 111): 111.30573530495167,\n",
       " (0, 28): 24.050184292253107,\n",
       " (1, 130): 228.95215735584497,\n",
       " (3, 121): 4457.836427554488,\n",
       " (0, 149): 506.12589709647,\n",
       " (1, 25): 125.2368733882904,\n",
       " (2, 137): 1743.7869146587327,\n",
       " (2, 30): 2037.47399649024,\n",
       " (0, 50): 12343.653971098363,\n",
       " (1, 164): 35341.60630379617,\n",
       " (3, 31): 5.02368688583374,\n",
       " (0, 139): 1211.8090839655342,\n",
       " (1, 51): 6874.934940881096,\n",
       " (2, 163): 61.640337775388616,\n",
       " (3, 134): 1107.094966083765,\n",
       " (4, 24): 2231.888001506217,\n",
       " (2, 56): 17944.97090280801,\n",
       " (0, 40): 42.59344128705561,\n",
       " (4, 129): 703.1019939845428,\n",
       " (3, 37): 705486.2661142498,\n",
       " (0, 161): 11877.69418322295,\n",
       " (1, 213): 129990.90562981367,\n",
       " (3, 172): 926608.6990528146,\n",
       " (4, 38): 1547683.0282566547,\n",
       " (2, 82): 34.556190490722656,\n",
       " (0, 78): 4321.291326890234,\n",
       " (4, 175): 800.8089971746085,\n",
       " (0, 199): 1681194.0210602432,\n",
       " (1, 207): 16010.579751837999,\n",
       " (3, 178): 1.9879662990570068,\n",
       " (4, 76): 845.5830054222606,\n",
       " (1, 70): 207.18129201978445,\n",
       " (2, 76): 1858203.023609629,\n",
       " (0, 100): 1651922.477333811,\n",
       " (4, 181): 296258.3949583855,\n",
       " (1, 225): 933.0466805826873,\n",
       " (3, 88): 1453.2328893654048,\n",
       " (4, 106): 2113.088995481725,\n",
       " (1, 120): 7132.424903575913,\n",
       " (2, 102): 254242.6866287142,\n",
       " (3, 195): 1057.5833406194579,\n",
       " (0, 19): 1129856.8672240023,\n",
       " (1, 155): 2637.230063693598,\n",
       " (3, 126): 399.3625249322504,\n",
       " (4, 112): 15686.30411027919,\n",
       " (1, 18): 1491.3223217801278,\n",
       " (2, 128): 131759.91783628613,\n",
       " (2, 25): 2966.4074437934587,\n",
       " (0, 9): 2762.4918763249298,\n",
       " (1, 189): 44.28595359250903,\n",
       " (3, 4): 777.5382504630834,\n",
       " (0, 130): 1121.0241642827168,\n",
       " (1, 52): 689.5610101694095,\n",
       " (2, 186): 24.45093576815816,\n",
       " (3, 143): 3736.6709078401327,\n",
       " (4, 7): 2017.6729872822762,\n",
       " (2, 51): 803.2698783762753,\n",
       " (0, 47): 41.44371497107204,\n",
       " (4, 136): 1260245.5681048743,\n",
       " (3, 42): 350705.3193330355,\n",
       " (0, 184): 13403.923256514594,\n",
       " (1, 46): 15127.362863836694,\n",
       " (2, 212): 5711.449070092756,\n",
       " (3, 149): 38123.12046973128,\n",
       " (4, 45): 11673.826002065092,\n",
       " (2, 45): 844.0,\n",
       " (0, 69): 757.2434707796783,\n",
       " (4, 150): 52076.72397435084,\n",
       " (3, 48): 3913.9678585380316,\n",
       " (0, 222): 598.1940301109571,\n",
       " (1, 192): 662.2418558523059,\n",
       " (2, 206): 3310740.862454951,\n",
       " (3, 187): 156.03126502037048,\n",
       " (4, 75): 52150.193989783525,\n",
       " (1, 95): 17200.64351560612,\n",
       " (2, 71): 64.66216720454395,\n",
       " (0, 123): 15450.31948216632,\n",
       " (4, 188): 9812.19902852038,\n",
       " (3, 65): 307515.6724921018,\n",
       " (4, 81): 72.85500000405591,\n",
       " (1, 113): 367.3495626915246,\n",
       " (2, 97): 7721.472832490923,\n",
       " (3, 200): 14698.377100682237,\n",
       " (1, 156): 699.0231319785817,\n",
       " (3, 103): 5681.569940499961,\n",
       " (4, 127): 924.4100018310128,\n",
       " (1, 107): 845.9173054811545,\n",
       " (2, 155): 34279.08655819041,\n",
       " (2, 16): 1732.9037501364946,\n",
       " (0, 0): 442.3754881346831,\n",
       " (1, 182): 6422.0080747714965,\n",
       " (3, 13): 10201.236069872975,\n",
       " (0, 153): 950.7692981624277,\n",
       " (1, 13): 422.9666367932805,\n",
       " (2, 181): 1217.8914884075057,\n",
       " (4, 14): 49376.337546310155,\n",
       " (2, 10): 352.9630901776254,\n",
       " (0, 38): 1198972.178199915,\n",
       " (1, 168): 26130.593113958137,\n",
       " (3, 19): 665228.2060808428,\n",
       " (0, 191): 214.21524197305553,\n",
       " (1, 39): 254769.71276694536,\n",
       " (2, 175): 0.035721998661756516,\n",
       " (3, 154): 54.29075012356043,\n",
       " (4, 20): 352.2569979716791,\n",
       " (2, 36): 148.54470448195934,\n",
       " (0, 92): 33.165905310655944,\n",
       " (4, 157): 788.8159944186918,\n",
       " (3, 57): 10105.211644276977,\n",
       " (0, 213): 0.3798285126686096,\n",
       " (1, 217): 102.6507876648684,\n",
       " (2, 201): 52.6153305247426,\n",
       " (3, 160): 97891.97341858497,\n",
       " (4, 50): 27247.43502209708,\n",
       " (1, 80): 1454.6120509105385,\n",
       " (2, 94): 169.68549121671822,\n",
       " (0, 114): 38105.48902903125,\n",
       " (4, 187): 92.2080006597098,\n",
       " (0, 203): 2907.3480453758966,\n",
       " (3, 70): 1.1662131547927856,\n",
       " (4, 88): 53766.6098921597,\n",
       " (1, 74): 87.6825692128914,\n",
       " (2, 120): 59.29155254364014,\n",
       " (0, 104): 238.08690215926617,\n",
       " (4, 193): 37.254000186920166,\n",
       " (0, 225): 38678.1224825941,\n",
       " (1, 149): 2469441.0499067158,\n",
       " (3, 108): 94.0,\n",
       " (4, 102): 106.98799981444608,\n",
       " (1, 108): 34144.72992574936,\n",
       " (2, 146): 52.54612260183785,\n",
       " (0, 7): 87.96466044709086,\n",
       " (1, 143): 4845.136459612055,\n",
       " (3, 114): 1009.9949044585228,\n",
       " (0, 144): 23455.962547010815,\n",
       " (1, 6): 138.66597501933575,\n",
       " (2, 140): 580.7290574029321,\n",
       " (2, 5): 1983.772199825151,\n",
       " (0, 61): 252.879739375785,\n",
       " (1, 161): 6680.3155248379335,\n",
       " (3, 24): 12.64069789648056,\n",
       " (0, 182): 245.77105006575584,\n",
       " (1, 56): 4031.778508064337,\n",
       " (2, 166): 119036.33159702644,\n",
       " (3, 131): 7797.582503549755,\n",
       " (4, 19): 71152.54638275958,\n",
       " (2, 63): 0.0765743744559586,\n",
       " (0, 83): 140.57159216329455,\n",
       " (4, 132): 467.98700852831826,\n",
       " (3, 62): 781.9694820046425,\n",
       " (0, 172): 931.6648218760965,\n",
       " (1, 210): 904.4033485203981,\n",
       " (2, 192): 380.7228692546487,\n",
       " (3, 169): 71.36929321289062,\n",
       " (4, 57): 11863.932041657623,\n",
       " (2, 89): 21.66182966902852,\n",
       " (0, 73): 1720371.514086863,\n",
       " (4, 162): 11525.418123828247,\n",
       " (0, 194): 736762.3863146546,\n",
       " (3, 79): 3357.9838583022356,\n",
       " (4, 71): 1585.0230030210223,\n",
       " (1, 67): 15.114600777626038,\n",
       " (2, 115): 196.2196087495031,\n",
       " (0, 111): 88.35315696798352,\n",
       " (4, 200): 19587.711996241473,\n",
       " (3, 85): 8830.34310340624,\n",
       " (4, 109): 514.3479992370121,\n",
       " (1, 101): 23777.3610520754,\n",
       " (2, 109): 12415.72202180326,\n",
       " (0, 30): 932.2559670209885,\n",
       " (1, 128): 39660.413006918505,\n",
       " (3, 123): 16221.4802916497,\n",
       " (0, 151): 78462.51656769216,\n",
       " (1, 31): 118.10768038965762,\n",
       " (2, 135): 10.905372813344002,\n",
       " (2, 28): 144898.11812161127,\n",
       " (0, 52): 4979.94455036521,\n",
       " (1, 186): 357667.34052419476,\n",
       " (3, 1): 1244.4428274929523,\n",
       " (0, 141): 4355.756631065509,\n",
       " (1, 49): 7038.280448693782,\n",
       " (2, 161): 3961.2762009497965,\n",
       " (3, 136): 2102579.1895248294,\n",
       " (4, 26): 3880.9000032255426,\n",
       " (2, 54): 10.636598587036133,\n",
       " (0, 42): 169413.5548458589,\n",
       " (4, 131): 4917.872002273798,\n",
       " (3, 39): 74894.96903181355,\n",
       " (0, 163): 29194.953220197633,\n",
       " (1, 43): 566054.6552037359,\n",
       " (3, 174): 1047.6342195868492,\n",
       " (4, 32): 3203.404998102924,\n",
       " (2, 80): 76.65978134423494,\n",
       " (0, 64): 40905.873270658776,\n",
       " (4, 169): 68223.45103061094,\n",
       " (0, 217): 21439.907981163822,\n",
       " (1, 205): 2296.027711085975,\n",
       " (3, 180): 466257.04925134033,\n",
       " (4, 78): 10675.932031102479,\n",
       " (1, 68): 7040.236017831485,\n",
       " (2, 74): 25.72587409939956,\n",
       " (0, 102): 31069.94524077064,\n",
       " (4, 183): 3805.6069844341837,\n",
       " (3, 90): 1102214.476396829,\n",
       " (4, 84): 6100.651007642038,\n",
       " (1, 126): 1360.8777610463294,\n",
       " (2, 100): 181.36088037583977,\n",
       " (3, 197): 159630.45995209366,\n",
       " (0, 21): 386.5727007287787,\n",
       " (1, 153): 25831.3397097911,\n",
       " (3, 96): 162554.63568563014,\n",
       " (4, 114): 990218.9081344722,\n",
       " (1, 16): 2635.2640788847348,\n",
       " (2, 158): 201.3663062576088,\n",
       " (2, 23): 50.0,\n",
       " (0, 11): 616906.5077668021,\n",
       " (1, 179): 226746.69896609336,\n",
       " (3, 6): 605.9670410826802,\n",
       " (0, 132): 2486.225310914626,\n",
       " (1, 10): 1476.35137098236,\n",
       " (2, 184): 119.10342977475375,\n",
       " (4, 1): 1800.0450082111638,\n",
       " (2, 49): 328.2463123206521,\n",
       " (0, 33): 1371.2961450330913,\n",
       " (4, 138): 2034.40900410607,\n",
       " (3, 44): 30.592763647437096,\n",
       " (0, 186): 8.253740135580301,\n",
       " (1, 44): 9560.954854530428,\n",
       " (2, 210): 7.0,\n",
       " (3, 151): 191231.8424682552,\n",
       " (4, 47): 19058.456094974652,\n",
       " (2, 43): 705283.8160744004,\n",
       " (0, 71): 62.0848096619593,\n",
       " (4, 144): 3.7909999461844563,\n",
       " (3, 50): 745.0142369121313,\n",
       " (0, 208): 5050.256684843451,\n",
       " (1, 198): 12305.513340180856,\n",
       " (2, 204): 599.3496709959581,\n",
       " (3, 189): 9087.316212177277,\n",
       " (4, 53): 252411.58000713855,\n",
       " (1, 93): 5544.964110869449,\n",
       " (2, 69): 256914.62259554956,\n",
       " (0, 125): 3768.369001575855,\n",
       " (4, 190): 188319.45317974442,\n",
       " (3, 67): 72.27813148498535,\n",
       " (4, 83): 934.8160016834736,\n",
       " (1, 119): 67.55768149532378,\n",
       " (2, 127): 199.45565535058267,\n",
       " (3, 202): 7.0,\n",
       " (4, 196): 16295.616984888911,\n",
       " (1, 146): 750.6108328448099,\n",
       " (3, 105): 1006.3546788394451,\n",
       " (4, 121): 26355.308163762093,\n",
       " (1, 105): 195189.39621173986,\n",
       " (2, 153): 301.43049040809274,\n",
       " (3, 208): 2174.502628721297,\n",
       " (0, 2): 17859.06350698322,\n",
       " (1, 180): 201.78614848852158,\n",
       " (3, 15): 26548.03189764917,\n",
       " (0, 155): 76.33865451812744,\n",
       " (1, 3): 29.30160146439448,\n",
       " (2, 179): 497842.15146957897,\n",
       " (4, 8): 476367.94294141536,\n",
       " (2, 8): 18020.291829865964,\n",
       " (0, 56): 7016.907879404724,\n",
       " (1, 174): 12560.562332229933,\n",
       " (3, 21): 8.427871704101562,\n",
       " (0, 177): 3055.5038201487623,\n",
       " (1, 37): 282.139615623164,\n",
       " (2, 173): 2708.025536976289,\n",
       " (3, 156): 88106.5635418767,\n",
       " (4, 22): 138.35799980908632,\n",
       " (2, 34): 56.07400525943376,\n",
       " (0, 94): 266915.51922219247,\n",
       " (4, 159): 277335.8986530192,\n",
       " (3, 59): 2848.8715482205153,\n",
       " (0, 215): 2364.375104762614,\n",
       " (1, 223): 52.327317312388914,\n",
       " (2, 199): 10.760363638401031,\n",
       " (3, 162): 10105.032317504287,\n",
       " (4, 60): 294.9849962629378,\n",
       " (1, 86): 34.29592226911336,\n",
       " (2, 92): 333990.9162566418,\n",
       " (0, 116): 1861.9836015847977,\n",
       " (4, 165): 13948.657909549773,\n",
       " (0, 205): 24.488465167582035,\n",
       " (3, 72): 3181191.030920692,\n",
       " (4, 90): 3473.627007842064,\n",
       " (1, 72): 84013.74998444691,\n",
       " (2, 118): 3995016.3695303556,\n",
       " (0, 106): 323719.9958930341,\n",
       " (4, 195): 2654.141993070836,\n",
       " (0, 227): 1463371.1877755355,\n",
       " (3, 110): 0.8114834204316139,\n",
       " (4, 96): 1399310.7269242327,\n",
       " (1, 98): 3195.0785931330174,\n",
       " (2, 144): 57429.32656380371,\n",
       " (0, 25): 324.83074832335114,\n",
       " (1, 141): 3650.672145815566,\n",
       " (3, 116): 6.101794719696045,\n",
       " (0, 146): 5558.953619387001,\n",
       " (1, 4): 20.978690788149834,\n",
       " (2, 138): 124.88513346016407,\n",
       " (2, 3): 28.049893776420504,\n",
       " (0, 63): 10447.076903619163,\n",
       " (1, 167): 34.83580366522074,\n",
       " (3, 26): 1908.2036626338959,\n",
       " (0, 136): 16.03265991061926,\n",
       " (1, 62): 1086.1809258093708,\n",
       " (2, 164): 103.22644423763268,\n",
       " (3, 133): 2.186218023300171,\n",
       " (4, 29): 273.3970026836032,\n",
       " (2, 61): 5934.6112845391035,\n",
       " (0, 85): 10.527544617652893,\n",
       " (4, 134): 57.20699851203244,\n",
       " (3, 32): 208.15506899356842,\n",
       " (0, 174): 746.1924010386397,\n",
       " (1, 208): 130.9171318227891,\n",
       " (3, 171): 0.5927600264549255,\n",
       " (4, 59): 4658.87403199228,\n",
       " (2, 87): 53.08870005607605,\n",
       " (0, 75): 246.77356980205514,\n",
       " (4, 172): 4763.471039921045,\n",
       " (0, 196): 16.337064022780396,\n",
       " (1, 202): 20.767507333075628,\n",
       " (3, 177): 49.93978637456894,\n",
       " (4, 65): 228622.1231230332,\n",
       " (1, 65): 2319.8389819751646,\n",
       " (2, 113): 2258.6981191646482,\n",
       " (0, 97): 184509.36370733762,\n",
       " (4, 202): 630.6740015071118,\n",
       " (3, 87): 81739.48837511055,\n",
       " (4, 111): 38524.739902728004,\n",
       " (1, 123): 4443.339760452043,\n",
       " (2, 107): 434884.3923346006,\n",
       " (4, 208): 1261.0000035319244,\n",
       " (0, 16): 9581.772328971478,\n",
       " (1, 134): 193.56293158698827,\n",
       " (3, 125): 13.079710006713867,\n",
       " (4, 117): 479.39999574876856,\n",
       " (1, 29): 217215.87427134742,\n",
       " (2, 133): 1776.173436698271,\n",
       " (2, 26): 92.32010655198246,\n",
       " (0, 54): 703.4591277558357,\n",
       " (1, 184): 31606.048325631768,\n",
       " (3, 3): 2.422053098678589,\n",
       " (0, 143): 1.1520744636654854,\n",
       " (1, 55): 1485.052261303179,\n",
       " (2, 191): 4.963805945124477,\n",
       " (3, 138): 485.77819299697876,\n",
       " (4, 4): 31797.78024531156,\n",
       " (2, 52): 28.931114196777344,\n",
       " (0, 44): 26585.1076077483,\n",
       " (4, 141): 202421.97773124184,\n",
       " (3, 41): 34059.980595927685,\n",
       " (0, 165): 168111.73580339458,\n",
       " (1, 41): 68.32637317932677,\n",
       " (2, 217): 111.63529028333141,\n",
       " (3, 144): 306.958984375,\n",
       " (4, 34): 2170745.622416377,\n",
       " (2, 46): 2.182982537895441,\n",
       " (0, 66): 297.55217359552626,\n",
       " (4, 171): 475200.6388963312,\n",
       " (0, 219): 4201567.775282234,\n",
       " (1, 195): 253073.26117174054,\n",
       " (3, 182): 1.894140213727951,\n",
       " (4, 72): 1651416.3873519897,\n",
       " (1, 90): 1.0937417871318758,\n",
       " (2, 72): 15.050189018249512,\n",
       " (0, 120): 9210.12767464947,\n",
       " (4, 177): 890.0850001603831,\n",
       " (3, 92): 64170.081332460046,\n",
       " (4, 86): 13937.226981583983,\n",
       " (1, 124): 1378243.90107969,\n",
       " (2, 98): 140748.00020942907,\n",
       " (3, 199): 7909623.0199478865,\n",
       " (0, 23): 52.93752132821828,\n",
       " (1, 159): 501.4179100985057,\n",
       " (3, 98): 65415.20707177976,\n",
       " (4, 124): 29058.591178225935,\n",
       " (1, 22): 331992.79683932243,\n",
       " (2, 156): 45187.70318726404,\n",
       " (2, 21): 2.9637999534606934,\n",
       " (0, 13): 8324.36097570695,\n",
       " (1, 177): 1089.4810173437,\n",
       " (3, 8): 33324.00871526258,\n",
       " (0, 134): 616.7592042331817,\n",
       " (1, 8): 16812.190673449542,\n",
       " (2, 182): 147.6243479847908,\n",
       " (4, 3): 5577.898085107561,\n",
       " (2, 15): 11238.3343058303,\n",
       " (0, 35): 520.7415483593941,\n",
       " (1, 171): 121.84249951317906,\n",
       " (3, 46): 3.0,\n",
       " (0, 188): 606.1460255030543,\n",
       " (1, 34): 95.74474402144551,\n",
       " (2, 208): 907.1146611839358,\n",
       " (3, 153): 23479.01941373758,\n",
       " (4, 41): 38626.087929006666,\n",
       " (2, 41): 1117789.6989717649,\n",
       " (0, 89): 95.42729455791414,\n",
       " (4, 146): 878.602010525763,\n",
       " (3, 52): 13252.840844426484,\n",
       " (0, 210): 138614.33445820212,\n",
       " (1, 196): 771249.9998149201,\n",
       " (2, 202): 147.37632827763446,\n",
       " (3, 191): 89714.64729454368,\n",
       " (4, 55): 303.1660006917082,\n",
       " (1, 83): 141.1029911339283,\n",
       " (2, 67): 568.1672000139952,\n",
       " (0, 127): 786.8391190937255,\n",
       " (4, 184): 42803.774053336936,\n",
       " (0, 200): 648.258432066068,\n",
       " (3, 69): 1470.4170185923576,\n",
       " (4, 93): 38986.58379470359,\n",
       " (1, 117): 4470.8052899084,\n",
       " (2, 125): 9489.688754990828,\n",
       " (3, 204): 3794.916223987937,\n",
       " (4, 198): 6713094.554534912,\n",
       " (1, 144): 20703.109927778365,\n",
       " (3, 107): 6386.635264165706,\n",
       " (4, 123): 800.3140025045723,\n",
       " (1, 111): 32.98513285419904,\n",
       " (2, 151): 25740.486074620614,\n",
       " (0, 4): 122.58555824821383,\n",
       " (1, 138): 13.224477112293243,\n",
       " (3, 113): 2619668.1849761456,\n",
       " (0, 157): 5851.383869795296,\n",
       " (1, 1): 1113.3860393157229,\n",
       " (2, 177): 240768.21417534503,\n",
       " (4, 10): 5995.672009236878,\n",
       " (2, 6): 19148.83333981037,\n",
       " (0, 58): 113517.1777079925,\n",
       " (1, 172): 403.5110580616165,\n",
       " (3, 23): 3426.0078254193068,\n",
       " (0, 179): 7706.871392792673,\n",
       " (1, 59): 101158.07342618518,\n",
       " (2, 171): 575214.1714019859,\n",
       " (3, 158): 72.25340270996094,\n",
       " (4, 16): 537805.0422808062,\n",
       " (2, 32): 24.068644285202026,\n",
       " (0, 80): 8561.091933500022,\n",
       " (4, 153): 26069.815353564918,\n",
       " (3, 61): 5034.7697083314415,\n",
       " (0, 169): 263.4121336117387,\n",
       " (1, 221): 283743.3377895169,\n",
       " (2, 197): 1064.4994809059426,\n",
       " (3, 164): 120.53543031215668,\n",
       " (4, 62): 6255.881865791045,\n",
       " (1, 84): 0.34850533306598663,\n",
       " (2, 90): 15029.709761686856,\n",
       " (0, 118): 10586.64173743315,\n",
       " (4, 167): 314.7319954081904,\n",
       " (0, 207): 10.207371254218742,\n",
       " (3, 74): 586.9362278021872,\n",
       " (4, 68): 5148.001001736033,\n",
       " (1, 78): 2734.3086296427064,\n",
       " (2, 116): 8811.835303679109,\n",
       " (0, 108): 95263.88587922227,\n",
       " (4, 205): 24208.980083487928,\n",
       " (0, 229): 1549.5276229251176,\n",
       " (3, 80): 101894.24183690082,\n",
       " (4, 98): 17548.50100055337,\n",
       " (1, 96): 71446.1026524622,\n",
       " (2, 110): 11.719824865460396,\n",
       " (0, 27): 4790.942196674645,\n",
       " (1, 131): 12344.375674855895,\n",
       " (3, 118): 126.5934859663248,\n",
       " (0, 148): 0.29936150182038546,\n",
       " (1, 26): 1790.7890935200267,\n",
       " (2, 136): 0.009999999776482582,\n",
       " (2, 1): 33.65898967208341,\n",
       " (0, 49): 3609.9680237174034,\n",
       " (1, 165): 18940.692948008887,\n",
       " (3, 28): 8.545752048492432,\n",
       " (0, 138): 33.077332123182714,\n",
       " (1, 60): 1.1975700557231903,\n",
       " (2, 162): 71183.11282145133,\n",
       " (3, 135): 778.3537292256951,\n",
       " (4, 31): 2962.663971705013,\n",
       " (2, 59): 364.37865567207336,\n",
       " (0, 87): 11157.869548887014,\n",
       " (4, 128): 776.6289936630055,\n",
       " (3, 34): 2110.7916944045573,\n",
       " (0, 160): 56288.82090904564,\n",
       " (1, 214): 1344830.2830735222,\n",
       " (3, 173): 7896.836871385574,\n",
       " (4, 37): 44934.75585160218,\n",
       " (2, 85): 228788.7662476371,\n",
       " (0, 77): 38.559189395280555,\n",
       " (4, 174): 3221.210963258054,\n",
       " (0, 198): 552539.0868325457,\n",
       " (1, 200): 2188.461551024113,\n",
       " (3, 179): 207.67288494110107,\n",
       " (4, 67): 2284.409001903492,\n",
       " (1, 71): 2.0609487765468657,\n",
       " (2, 79): 26549.949207067082,\n",
       " (0, 99): 9672.964146152139,\n",
       " (4, 180): 1928.1619977874216,\n",
       " (3, 89): 31583.644359808415,\n",
       " (4, 105): 775.4670019600308,\n",
       " (1, 121): 1329.1980896997266,\n",
       " (2, 105): 2429.1092976145446,\n",
       " (3, 192): 467.92234214395285,\n",
       " (4, 210): 1594.6379979923368,\n",
       " (0, 18): 6817.999161669824,\n",
       " (1, 132): 2076.0088459057733,\n",
       " (3, 127): 602.5862646847963,\n",
       " (4, 119): 242.81500062532723,\n",
       " (1, 19): 783128.5364510566,\n",
       " (2, 131): 0.10891111195087433,\n",
       " (2, 24): 459.07886319607496,\n",
       " (0, 8): 75176.81768902286,\n",
       " (1, 190): 307.7271809950471,\n",
       " (3, 5): 2056.702156044543,\n",
       " (0, 129): 458.02375189913437,\n",
       " (1, 53): 5345.276464599512,\n",
       " (2, 189): 104.41971779067535,\n",
       " (3, 140): 9092.937127664685,\n",
       " (4, 6): 783.582999928738,\n",
       " (2, 50): 515.6213148770621,\n",
       " (0, 46): 54572.265395533264,\n",
       " (4, 143): 11274.189029659843,\n",
       " (3, 43): 46151.76196622476,\n",
       " (0, 167): 91309.4079696387,\n",
       " (1, 47): 6.379787776619196,\n",
       " (2, 215): 0.06599536538124084,\n",
       " (3, 146): 117.98456847667694,\n",
       " (4, 44): 1283.9629985910142,\n",
       " (2, 44): 24314.19452975801,\n",
       " (0, 68): 16589.88741868222,\n",
       " (4, 149): 31741.076253838837,\n",
       " (3, 49): 11891.852677941322,\n",
       " (0, 221): 27375.62291851826,\n",
       " (1, 193): 11.719607680104673,\n",
       " (3, 184): 111.93670654296875,\n",
       " (4, 74): 14939.870117589599,\n",
       " (1, 88): 11632.51165342331,\n",
       " (2, 70): 1677805.8738507284,\n",
       " (0, 122): 23733.34359182248,\n",
       " (4, 179): 1102371.7484620935,\n",
       " (3, 94): 2497.8476060032845,\n",
       " (4, 80): 426.40099883580115,\n",
       " (1, 114): 4892.671859911876,\n",
       " (2, 96): 1497144.1856852458,\n",
       " (3, 201): 38.49073946158751,\n",
       " (0, 233): 3640.0527138074176,\n",
       " (1, 157): 0.5314531922340393,\n",
       " (3, 100): 24.0,\n",
       " (4, 126): 16.615000537596643,\n",
       " (1, 20): 569.8150902654743,\n",
       " (2, 154): 14320.01336769713,\n",
       " (2, 19): 486087.7973569073,\n",
       " (0, 15): 22487.956208479125,\n",
       " (1, 183): 12.260814905166626,\n",
       " (3, 10): 571.9445477202535,\n",
       " (0, 152): 1980.9992737080902,\n",
       " (1, 14): 11152.508210666478,\n",
       " (2, 180): 1712.2071085318603,\n",
       " (4, 13): 8890.170926269144,\n",
       " (2, 13): 913.988371014595,\n",
       " (0, 37): 1452.6652128056157,\n",
       " (1, 169): 235373.89639440484,\n",
       " (3, 16): 3311.889829041902,\n",
       " (0, 190): 5857.300231061112,\n",
       " (1, 32): 13045.089799079113,\n",
       " (2, 174): 4567.326699951314,\n",
       " (3, 155): 18996.72007045243,\n",
       " (4, 43): 1752.2970261172159,\n",
       " (2, 39): 19.865294858405832,\n",
       " (0, 91): 43.853199396282434,\n",
       " (4, 156): 16984.34673059825,\n",
       " (3, 54): 353352.67657048255,\n",
       " (0, 212): 220.5954788699746,\n",
       " (1, 218): 33.17675733566284,\n",
       " (2, 200): 2.2507416578009725,\n",
       " (3, 161): 1052.856841146946,\n",
       " (4, 49): 13953.671063667163,\n",
       " (1, 81): 4142.268499119673,\n",
       " (2, 65): 4001.091211430488,\n",
       " (0, 113): 1051.4955838937312,\n",
       " (4, 186): 623.4889998491853,\n",
       " (0, 202): 712.6195316920057,\n",
       " (3, 71): 2379.2897188663483,\n",
       " (4, 95): 3355.9419475770555,\n",
       " (1, 75): 11.40083631221205,\n",
       " (2, 123): 1.911311510950327,\n",
       " (3, 206): 860.1005385518074,\n",
       " (4, 192): 1916.9270059975097,\n",
       " (0, 224): 3.8149338476359844,\n",
       " (1, 150): 6665.714219665155,\n",
       " (3, 109): 2040.1094970274717,\n",
       " (4, 101): 52.29399839695543,\n",
       " (1, 109): 3063.9176164190285,\n",
       " (2, 149): 7914.913595639169,\n",
       " (0, 6): 345.89699386025313,\n",
       " (1, 136): 10.0,\n",
       " (3, 115): 250.30000019073486,\n",
       " (0, 159): 356.3869744427502,\n",
       " (1, 7): 9.114236717345193,\n",
       " (2, 143): 1329895.1070386842,\n",
       " (2, 4): 1088.1262365318835,\n",
       " (0, 60): 15.321632623672485,\n",
       " (1, 162): 16475.49122943994,\n",
       " (3, 25): 269.1864046046976,\n",
       " (0, 181): 895369.7646917165,\n",
       " (1, 57): 102614.25214133877,\n",
       " (2, 169): 604.5621113136876,\n",
       " (3, 128): 2947.719216817779,\n",
       " (4, 18): 279.0490001635626,\n",
       " (2, 62): 250.52895000576973,\n",
       " (0, 82): 50101.31345821172,\n",
       " (4, 155): 221.97000175667927,\n",
       " (3, 63): 664.1424049139023,\n",
       " (0, 171): 482460.45681499224,\n",
       " (1, 211): 1679.3919933878933,\n",
       " (2, 195): 2.7027726359665394,\n",
       " (3, 166): 1.2999999523162842,\n",
       " (4, 56): 12377.1889737749,\n",
       " (2, 88): 183.80812394618988,\n",
       " (0, 72): 156027.03978064097,\n",
       " (4, 161): 6689.403006061446,\n",
       " (0, 193): 234.38587223924696,\n",
       " (3, 76): 40.0,\n",
       " (4, 70): 199.99899940926116,\n",
       " (1, 76): 2187.0600117075955,\n",
       " (2, 114): 14897.414807673194,\n",
       " (0, 110): 42.196068450808525,\n",
       " (4, 207): 684.821002441342,\n",
       " (0, 231): 370.72312238595623,\n",
       " (3, 82): 1164.510450065136,\n",
       " (4, 108): 37547.61712173093,\n",
       " (1, 102): 14619.339561573928,\n",
       " (2, 108): 1182.8356154419016,\n",
       " (0, 29): 672792.3690159657,\n",
       " (1, 129): 720.9128892682493,\n",
       " (3, 120): 18937.90488593094,\n",
       " (0, 150): 6568402.386594206,\n",
       " (1, 24): 756.9816690087318,\n",
       " (2, 134): 1002.2792271795479,\n",
       " (2, 31): 2001.9408938882987,\n",
       " (0, 51): 12421.36557714548,\n",
       " (1, 187): 2508.926902477353,\n",
       " (3, 30): 7528.185965947807,\n",
       " (0, 140): 2795.3965755477548,\n",
       " (1, 50): 1026.7495079040527,\n",
       " (2, 160): 7.8233970403671265,\n",
       " (3, 137): 44390.549807846546,\n",
       " (4, 25): 223736.58641116694,\n",
       " (2, 57): 383842.0288570272,\n",
       " (0, 41): 1.210646505234763,\n",
       " (4, 130): 12923.503973074257,\n",
       " (3, 36): 938657.9281907828,\n",
       " (0, 162): 5085.63042069599,\n",
       " (1, 212): 9662.927033019718,\n",
       " (2, 218): 174.22842339056297,\n",
       " (3, 175): 135.66333085298538,\n",
       " (4, 39): 144644.03216231987,\n",
       " (2, 83): 387.2935190051794,\n",
       " (0, 79): 2113256.452873546,\n",
       " (4, 168): 124.87200006935745,\n",
       " (0, 216): 6659.38971666852,\n",
       " (1, 206): 1313.8411203575088,\n",
       " (3, 181): 713936.977938571,\n",
       " (4, 77): 152.38399882568046,\n",
       " (1, 69): 581.0368332770595,\n",
       " (2, 77): 324.56445114986855,\n",
       " (0, 101): 23772.8706187419,\n",
       " (4, 182): 168.18700092448853,\n",
       " (1, 224): 1226.8515239523258,\n",
       " (3, 91): 3417.092126481235,\n",
       " (4, 107): 6810.030986872967,\n",
       " (1, 127): 298.3641775357537,\n",
       " (2, 103): 1265.3128667960991,\n",
       " (3, 194): 2444.286617718637,\n",
       " (0, 20): 1778.4214865436952,\n",
       " (1, 154): 116200.68777071525,\n",
       " (3, 97): 6163.75231538713,\n",
       " (4, 113): 3967.7679683603346,\n",
       " (1, 17): 6401.094620352611,\n",
       " (2, 129): 2.2407649755477905,\n",
       " (2, 22): 536844.0318942242,\n",
       " (0, 10): 3073.0609790841118,\n",
       " (1, 188): 472.96265879273415,\n",
       " (3, 7): 83.64020776748657,\n",
       " (0, 131): 70167.66919475142,\n",
       " (1, 11): 186297.64813921414,\n",
       " (2, 187): 625658.0730724491,\n",
       " (3, 142): 23518.877236135304,\n",
       " (4, 0): 1523.6150019373745,\n",
       " (2, 48): 0.14175359904766083,\n",
       " (0, 32): 28740.393318219576,\n",
       " (4, 137): 36988.085934222676,\n",
       " (3, 45): 255.92877162247896,\n",
       " (0, 185): 324.5280777756125,\n",
       " (1, 45): 275059.5406330228,\n",
       " (2, 213): 196218.89096763986,\n",
       " (3, 148): 38961.88224069215,\n",
       " (4, 46): 3843.982001390308,\n",
       " (2, 42): 22778.040322463232,\n",
       " (0, 70): 115.4306704774499,\n",
       " (4, 151): 100427.77710974962,\n",
       " (3, 51): 19740.442950041965,\n",
       " (0, 223): 58.346539510414004,\n",
       " (1, 199): 797.1023595407314,\n",
       " (2, 207): 11124449.832271501,\n",
       " (3, 186): 48780.34546096004,\n",
       " (4, 52): 24589.88585901819,\n",
       " (1, 94): 122348.32115779737,\n",
       " (2, 68): 133.30115884542465,\n",
       " (0, 124): 6580358.518526982,\n",
       " (4, 189): 6494.709008805454,\n",
       " (3, 64): 182.44587406981736,\n",
       " (4, 82): 1016.1550081949681,\n",
       " (1, 112): 67854.72783232541,\n",
       " (2, 126): 12875.476675713828,\n",
       " (3, 203): 19494.488389991166,\n",
       " (1, 147): 0.004354799631983042,\n",
       " (3, 102): 328.6456627268344,\n",
       " (4, 120): 473.6449982011691,\n",
       " (1, 106): 69736.29276671633,\n",
       " (2, 152): 3042.3833819553256,\n",
       " (3, 209): 96.91198182106018,\n",
       " (2, 17): 2924.219765804388,\n",
       " (0, 1): 7180.047243805486,\n",
       " (1, 181): 18984.99585026875,\n",
       " (3, 12): 474692.5885240808,\n",
       " (0, 154): 62338.01980930973,\n",
       " (1, 12): 105128.32506159693,\n",
       " (2, 178): 0.5923609137535095,\n",
       " (4, 15): 3055.9100185203133,\n",
       " (2, 11): 602311.322518819,\n",
       " (0, 39): 889665.98578542,\n",
       " (1, 175): 563.3197820112109,\n",
       " (3, 18): 645.6528419554234,\n",
       " (0, 176): 41694.79427188437,\n",
       " (1, 38): 269493.8679879117,\n",
       " (2, 172): 55.099998474121094,\n",
       " (3, 157): 419.01817715168,\n",
       " (4, 21): 3648.2120064687915,\n",
       " (2, 37): 1386179.4100373387,\n",
       " (0, 93): 7322.314068387248,\n",
       " (4, 158): 156.23599809594452,\n",
       " (3, 56): 20.171722143888474,\n",
       " (0, 214): 19.393158549559303,\n",
       " (1, 216): 6452.521095958422,\n",
       " (2, 198): 35174.178786469376,\n",
       " (3, 163): 110.07799025252461,\n",
       " (4, 51): 62920.17295259563,\n",
       " (1, 87): 4282.347022101283,\n",
       " (2, 95): 27.740344204939902,\n",
       " (0, 115): 2021.8322488320628,\n",
       " (4, 164): 623568.8385759294,\n",
       " (0, 204): 187532.14888952978,\n",
       " (3, 73): 5252.382955804467,\n",
       " (4, 89): 13644.80204721028,\n",
       " (1, 73): 786732.9405151345,\n",
       " (2, 121): 16.283525377511978,\n",
       " (0, 105): 1358376.409066585,\n",
       " (4, 194): 933.7290003197268,\n",
       " (0, 226): 28220.170142444375,\n",
       " (1, 148): 32.48534435685724,\n",
       " (3, 111): 458.40370297762274,\n",
       " (4, 103): 239506.05240683293,\n",
       " (1, 99): 1217.810477187726,\n",
       " (2, 147): 4651.629410159017,\n",
       " (0, 24): 6664.456704643089,\n",
       " (1, 142): 373.00492902100086,\n",
       " (3, 117): 91085.12243134389,\n",
       " (0, 145): 6959.581337866821,\n",
       " (1, 5): 2010.7012686021626,\n",
       " (2, 141): 32.50904309749603,\n",
       " (2, 2): 368.74944699625485,\n",
       " (0, 62): 4327.214911566727,\n",
       " (1, 160): 1325.7960633821785,\n",
       " (3, 27): 175576.4444284152,\n",
       " (0, 183): 38607.89153158292,\n",
       " (1, 63): 2071.701940352097,\n",
       " (2, 167): 321.1511714900844,\n",
       " (3, 130): 0.8228259980678558,\n",
       " (4, 28): 617.2290045170812,\n",
       " (2, 60): 613.1990772435674,\n",
       " (0, 84): 4.390829335607123,\n",
       " (4, 133): 865.368001202005,\n",
       " (3, 33): 53.0,\n",
       " (0, 173): 28277.202880947087,\n",
       " (1, 209): 177.7991980528459,\n",
       " (2, 193): 77533.95894498828,\n",
       " (3, 168): 32251.380067998078,\n",
       " (4, 58): 27011.875119183213,\n",
       " (2, 86): 0.14819000661373138,\n",
       " (0, 74): 433.37818604521453,\n",
       " (4, 163): 678.9199994034134,\n",
       " (0, 195): 889.2963412869722,\n",
       " (1, 203): 278.0493655204773,\n",
       " (3, 78): 30.916107177734375,\n",
       " (4, 64): 315.17899965820834,\n",
       " (1, 66): 91.11069536907598,\n",
       " (2, 112): 2209.285201446153,\n",
       " (0, 96): 408722.4740091441,\n",
       " (4, 201): 6124.532101464807,\n",
       " (3, 84): 39415.65988067165,\n",
       " (4, 110): 23599.921903899754,\n",
       " (1, 100): 796751.7327637672,\n",
       " (2, 106): 412.0663890838623,\n",
       " (0, 31): 3575.8421235841233,\n",
       " (1, 135): 139345.56945430717,\n",
       " (3, 122): 142.70294713974,\n",
       " (4, 116): 1518.8759960758034,\n",
       " (1, 30): 136.31364250183105,\n",
       " (2, 132): 3.3387064380804077,\n",
       " (2, 29): 67.03788403142244,\n",
       " (0, 53): 26047.23565614052,\n",
       " (1, 185): 184.24330459535122,\n",
       " (3, 0): 1123.142011642456,\n",
       " (0, 142): 4073.9955594511703,\n",
       " (1, 48): 19399.842492653523,\n",
       " (2, 190): 246832.4382631674,\n",
       " (3, 139): 118.66058531403542,\n",
       " (4, 27): 15476.80295904819,\n",
       " (2, 55): 17607.65413050871,\n",
       " (0, 43): 2598551.788905767,\n",
       " (4, 140): 34286.30399668217,\n",
       " (3, 38): 0.6791326180100441,\n",
       " (0, 164): 40088.27425453067,\n",
       " (1, 42): 23131.068359171622,\n",
       " (2, 216): 13.14012023806572,\n",
       " (3, 145): 26690.15575926751,\n",
       " (4, 33): 784263.436572729,\n",
       " (2, 81): 11.242519680410624,\n",
       " (0, 65): 8561.823684330098,\n",
       " (4, 170): 2.6480000261217356,\n",
       " (0, 218): 112176.93395085633,\n",
       " (1, 204): 0.018040157854557037,\n",
       " (3, 183): 436925.5628750492,\n",
       " (4, 79): 166501.33364802005,\n",
       " (1, 91): 22.96349330060184,\n",
       " (2, 75): 443.18386060977355,\n",
       " (0, 103): 759776.087062696,\n",
       " (4, 176): 886.1110078388592,\n",
       " (3, 93): 1470482.5652139084,\n",
       " (4, 85): 23249.877151545137,\n",
       " (1, 125): 2039.894625044586,\n",
       " (2, 101): 2572721.5359516297,\n",
       " (3, 196): 13103.300660141744,\n",
       " (0, 22): 1125180.1737536695,\n",
       " (1, 152): 2736.430312709301,\n",
       " (3, 99): 3603.786605015397,\n",
       " (4, 115): 1222.2490089908242,\n",
       " ...}"
      ]
     },
     "execution_count": 22,
     "metadata": {},
     "output_type": "execute_result"
    }
   ],
   "source": [
    "All_node_layer_strength_dict"
   ]
  },
  {
   "cell_type": "code",
   "execution_count": 23,
   "metadata": {
    "collapsed": true
   },
   "outputs": [],
   "source": [
    "def participation_coef(M,s_vec, o):\n",
    "    '''Take into aacount only the layers in which it is part of'''\n",
    "    val = 0\n",
    "    if len(s_vec) == 1:\n",
    "        return 0\n",
    "    else:\n",
    "        for i in range(len(s_vec)):\n",
    "            val += (s_vec[i]/float(o))**2\n",
    "        return (float(M)/ (M - 1))*(1 - val)"
   ]
  },
  {
   "cell_type": "code",
   "execution_count": 27,
   "metadata": {
    "collapsed": false
   },
   "outputs": [
    {
     "name": "stdout",
     "output_type": "stream",
     "text": [
      "4 American Samoa\n",
      "4 Anguilla\n",
      "4 Antigua and Barbuda\n",
      "3 Bhutan\n",
      "2 Bouvet Island\n",
      "3 Bouvet Island\n",
      "4 Bouvet Island\n",
      "4 British Indian Ocean Territory\n",
      "3 Central African Republic\n",
      "2 Chad\n",
      "3 Comoros\n",
      "4 Cook Islands\n",
      "3 Curacao & St. Maarten\n",
      "2 Djibouti\n",
      "3 Equatorial Guinea\n",
      "3 Eritrea\n",
      "4 Faroe Islands\n",
      "3 Guadeloupe\n",
      "4 Guadeloupe\n",
      "4 Guam\n",
      "3 Guinea\n",
      "2 Guinea-Bissau\n",
      "3 Guinea-Bissau\n",
      "2 Korea, Democratic People's Rep. of\n",
      "3 Korea, Democratic People's Rep. of\n",
      "4 Kosovo, Republic of\n",
      "2 Lesotho\n",
      "2 Martinique\n",
      "3 Martinique\n",
      "4 Martinique\n",
      "3 Mayotte\n",
      "4 Mayotte\n",
      "4 Monaco\n",
      "1 Montserrat\n",
      "4 Montserrat\n",
      "3 Nauru\n",
      "1 Niue\n",
      "2 Niue\n",
      "3 Niue\n",
      "4 Niue\n",
      "2 Palau\n",
      "4 Puerto Rico\n",
      "4 Reunion\n",
      "2 Sao Tome and Principe\n",
      "3 Sao Tome and Principe\n",
      "4 Sint Maarten\n",
      "1 Somalia\n",
      "3 Somalia\n",
      "4 St. Kitts and Nevis\n",
      "2 Sub-Saharan Africa\n",
      "3 Sub-Saharan Africa\n",
      "4 Sub-Saharan Africa\n",
      "2 Timor-Leste, Dem. Rep. of\n",
      "3 Tonga\n",
      "3 Turkmenistan\n",
      "1 Tuvalu\n",
      "2 Tuvalu\n",
      "3 Tuvalu\n",
      "1 US Pacific Islands\n",
      "4 US Virgin Islands\n",
      "1 Vatican\n",
      "2 Vatican\n",
      "3 Vatican\n",
      "4 Virgin Islands, British\n",
      "1 Wallis and Futuna\n",
      "2 Wallis and Futuna\n",
      "3 Wallis and Futuna\n",
      "1 Western Sahara\n",
      "3 Western Sahara\n",
      "4 Western Sahara\n"
     ]
    }
   ],
   "source": [
    "All_nodes_partcoef_dict = {}\n",
    "All_nodes_partcoef_list = []\n",
    "for k in range(len(All_nodes_name_list)):\n",
    "    name = All_nodes_name_list[k]\n",
    "    strength_lay_vec = []\n",
    "    name = All_nodes_name_list[k]\n",
    "    for alf in range(len(G_names)):\n",
    "        g = g = G_15_list[alf]\n",
    "        try:\n",
    "            i = g.vs[\"name\"].index(name)\n",
    "            strength_lay_vec.append(All_node_layer_strength_dict[(alf, i)])\n",
    "            \n",
    "        except:\n",
    "            #print  name in g.vs[\"name\"]\n",
    "            print alf, name  \n",
    "            pass\n",
    "    part_coef = participation_coef(len(G_names), strength_lay_vec, All_nodes_overlap_list[k] )\n",
    "    All_nodes_partcoef_list.append(part_coef)\n",
    "    All_nodes_partcoef_dict[name] = part_coef"
   ]
  },
  {
   "cell_type": "code",
   "execution_count": 173,
   "metadata": {
    "collapsed": false
   },
   "outputs": [
    {
     "data": {
      "text/plain": [
       "(0.72405303463676185, 0.2400428014329016)"
      ]
     },
     "execution_count": 173,
     "metadata": {},
     "output_type": "execute_result"
    }
   ],
   "source": [
    "np.mean(All_nodes_partcoef_list), np.std(All_nodes_partcoef_list)"
   ]
  },
  {
   "cell_type": "code",
   "execution_count": 172,
   "metadata": {
    "collapsed": false
   },
   "outputs": [
    {
     "name": "stdout",
     "output_type": "stream",
     "text": [
      "Canada , 0.9560361578\n",
      "West Bank and Gaza , 0.907052194293\n",
      "Lithuania , 0.902543548902\n",
      "Cambodia , 0.908304649083\n",
      "Switzerland , 0.973867632097\n",
      "Argentina , 0.906961951921\n",
      "Japan , 0.923020872908\n",
      "Tanzania , 0.938958777048\n",
      "Gabon , 0.935725527875\n",
      "New Zealand , 0.930004335733\n",
      "Jersey , 0.957279837979\n",
      "United Arab Emirates , 0.970021570333\n",
      "India , 0.909314786488\n",
      "Mongolia , 0.921586084814\n",
      "France , 0.955054779314\n",
      "Peru , 0.926670954015\n",
      "Norway , 0.910788834081\n",
      "Ukraine , 0.918311952068\n",
      "Finland , 0.963944004972\n",
      "Cayman Islands , 0.903537982891\n",
      "Australia , 0.969742106776\n",
      "Sweden , 0.982351079312\n",
      "United States , 0.96018558641\n",
      "Romania , 0.921319347661\n",
      "Malaysia , 0.966796771937\n",
      "Austria , 0.935347949321\n",
      "Korea, Republic of , 0.941869530946\n",
      "Costa Rica , 0.908521506991\n",
      "Ireland , 0.960983182653\n",
      "Chile , 0.90710155227\n",
      "Belgium , 0.97467501108\n",
      "Georgia , 0.921622398508\n",
      "Lao People's Democratic Republic , 0.910290774601\n",
      "Denmark , 0.965002739545\n",
      "Philippines , 0.983104514889\n",
      "Portugal , 0.931342591393\n",
      "Estonia , 0.915588602839\n",
      "Tunisia , 0.909436461104\n",
      "Spain , 0.960821913747\n",
      "Colombia , 0.959847892176\n",
      "Italy , 0.938571462541\n",
      "Indonesia , 0.903918266106\n",
      "Iceland , 0.963888285067\n",
      "Trinidad and Tobago , 0.925642746778\n",
      "Germany , 0.972176624784\n",
      "Poland , 0.942935320907\n",
      "China, P.R.: Hong Kong , 0.912466530814\n",
      "Mexico , 0.914285281945\n",
      "Sri Lanka , 0.939138081084\n",
      "Latvia , 0.912710786291\n",
      "Singapore , 0.961622907861\n",
      "United Kingdom , 0.947095591843\n"
     ]
    }
   ],
   "source": [
    "for p in All_nodes_partcoef_dict:\n",
    "    if All_nodes_partcoef_dict[p] > 0.90:\n",
    "        print p, \",\" ,All_nodes_partcoef_dict[p]"
   ]
  },
  {
   "cell_type": "code",
   "execution_count": 125,
   "metadata": {
    "collapsed": false
   },
   "outputs": [
    {
     "data": {
      "text/plain": [
       "3112.260658074156"
      ]
     },
     "execution_count": 125,
     "metadata": {},
     "output_type": "execute_result"
    }
   ],
   "source": [
    "All_nodes_overlap_dict['Afghanistan, Islamic Republic of']"
   ]
  }
 ],
 "metadata": {
  "anaconda-cloud": {},
  "kernelspec": {
   "display_name": "Python [conda root]",
   "language": "python",
   "name": "conda-root-py"
  },
  "language_info": {
   "codemirror_mode": {
    "name": "ipython",
    "version": 2
   },
   "file_extension": ".py",
   "mimetype": "text/x-python",
   "name": "python",
   "nbconvert_exporter": "python",
   "pygments_lexer": "ipython2",
   "version": "2.7.12"
  }
 },
 "nbformat": 4,
 "nbformat_minor": 1
}
