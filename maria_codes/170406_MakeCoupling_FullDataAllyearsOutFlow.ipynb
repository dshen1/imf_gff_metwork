{
 "cells": [
  {
   "cell_type": "code",
   "execution_count": 166,
   "metadata": {
    "collapsed": false
   },
   "outputs": [],
   "source": [
    "import pandas as pd\n",
    "import MultiContagion as mc\n",
    "import igraph\n",
    "import random\n",
    "import numpy as np\n",
    "from matplotlib import pylab as plt\n",
    "import scipy.stats\n",
    "import copy\n",
    "from scipy.sparse import linalg as LA\n",
    "#import powerlaw\n",
    "%matplotlib inline"
   ]
  },
  {
   "cell_type": "code",
   "execution_count": 219,
   "metadata": {
    "collapsed": true
   },
   "outputs": [],
   "source": [
    "year = 2015"
   ]
  },
  {
   "cell_type": "code",
   "execution_count": 220,
   "metadata": {
    "collapsed": false
   },
   "outputs": [],
   "source": [
    "#import the aggregate adjacency matrix\n",
    "aggregate_am = np.genfromtxt ('csv_files/AM4_all_nodes_aggregateNormOutFlow'+str(year)+'.csv', delimiter=\",\")\n",
    "df_names = pd.read_csv('csv_files/all_country_name4.csv', header=None)\n",
    "names = list(df_names[0])\n",
    "Aggregate_g = igraph.Graph.Weighted_Adjacency(list(aggregate_am))\n",
    "Aggregate_g.vs[\"name\"] = copy.deepcopy(names)"
   ]
  },
  {
   "cell_type": "code",
   "execution_count": 221,
   "metadata": {
    "collapsed": false
   },
   "outputs": [],
   "source": [
    "#Import the adjacency matrix and make graphs of all the layers.\n",
    "cdis_equity_am = np.genfromtxt ('csv_files/AM4_all_nodesNormOutFlowCDIS-equity'+str(year)+'.csv', delimiter=\",\")\n",
    "cdis_equity_g = igraph.Graph.Weighted_Adjacency(list(cdis_equity_am))\n",
    "cdis_equity_g.vs[\"name\"] = copy.deepcopy(names)\n",
    "\n",
    "cdis_debt_am = np.genfromtxt ('csv_files/AM4_all_nodesNormOutFlowCDIS-debt'+str(year)+'.csv', delimiter=\",\")\n",
    "cdis_debt_g = igraph.Graph.Weighted_Adjacency(list(cdis_debt_am))\n",
    "cdis_debt_g.vs[\"name\"] = copy.deepcopy(names)\n",
    "\n",
    "cpis_equity_am = np.genfromtxt ('csv_files/AM4_all_nodesNormOutFlowCPIS-equity'+str(year)+'.csv', delimiter=\",\")\n",
    "cpis_equity_g = igraph.Graph.Weighted_Adjacency(list(cpis_equity_am))\n",
    "cpis_equity_g.vs[\"name\"] = copy.deepcopy(names)\n",
    "\n",
    "cpis_debt_am = np.genfromtxt ('csv_files/AM4_all_nodesNormOutFlowCPIS-debt'+str(year)+'.csv', delimiter=\",\")\n",
    "cpis_debt_g = igraph.Graph.Weighted_Adjacency(list(cpis_debt_am))\n",
    "cpis_debt_g.vs[\"name\"] = copy.deepcopy(names)\n",
    "\n",
    "bis_am = np.genfromtxt ('csv_files/AM4_all_nodesNormOutFlowBIS'+str(year)+'.csv', delimiter=\",\")\n",
    "bis_g = igraph.Graph.Weighted_Adjacency(list(bis_am))\n",
    "bis_g.vs[\"name\"] = copy.deepcopy(names)"
   ]
  },
  {
   "cell_type": "code",
   "execution_count": 222,
   "metadata": {
    "collapsed": true
   },
   "outputs": [],
   "source": [
    "G_list = [cdis_equity_g, cdis_debt_g, cpis_equity_g, cpis_debt_g, bis_g ]"
   ]
  },
  {
   "cell_type": "code",
   "execution_count": 223,
   "metadata": {
    "collapsed": true
   },
   "outputs": [],
   "source": [
    "AM_list = [cdis_equity_am, cdis_debt_am, cpis_equity_am, cpis_debt_am, bis_am ]"
   ]
  },
  {
   "cell_type": "code",
   "execution_count": 224,
   "metadata": {
    "collapsed": true
   },
   "outputs": [],
   "source": [
    "#AM_list = [cdis_equity_am, cdis_debt_am, cpis_equity_am, cpis_debt_am, bis_am ]"
   ]
  },
  {
   "cell_type": "code",
   "execution_count": 225,
   "metadata": {
    "collapsed": true
   },
   "outputs": [],
   "source": [
    "#G_list2 = [cdis_equity_g,cpis_equity_g, cpis_debt_g, bis_g ]\n",
    "#AM_list2 = [np.transpose(cdis_equity_am), np.transpose(cpis_equity_am), cpis_debt_am, bis_am ]"
   ]
  },
  {
   "cell_type": "code",
   "execution_count": 226,
   "metadata": {
    "collapsed": true
   },
   "outputs": [],
   "source": [
    "In_list = [ np.array(g.strength(mode =\"IN\", weights= g.es[\"weight\"])) for g in G_list]\n",
    "Out_list = [ np.array(g.strength(mode =\"OUT\", weights= g.es[\"weight\"])) for g in G_list]"
   ]
  },
  {
   "cell_type": "code",
   "execution_count": 227,
   "metadata": {
    "collapsed": true
   },
   "outputs": [],
   "source": [
    "def make_supra_coup(list_adj, list_vector):\n",
    "    \"Takes a list of adjacency matrix and list of vectors to use as coupling for layers\"\n",
    "    n_layers = len(list_adj)\n",
    "    dim = list_adj[0].shape[0]\n",
    "    sup_list = []\n",
    "    for i in range(n_layers):\n",
    "        row = []\n",
    "        for j in range(n_layers):\n",
    "            if i == j:\n",
    "                row.append(list_adj[i])\n",
    "            else:\n",
    "                row.append(np.diag(list_vector[j]))\n",
    "        sup_list.append(row)\n",
    "    return np.bmat(sup_list)"
   ]
  },
  {
   "cell_type": "markdown",
   "metadata": {},
   "source": [
    "# For real"
   ]
  },
  {
   "cell_type": "code",
   "execution_count": 228,
   "metadata": {
    "collapsed": true
   },
   "outputs": [],
   "source": [
    "supra_adj = make_supra_coup(AM_list, In_list)\n",
    "G_supra = igraph.Graph.Weighted_Adjacency(supra_adj.tolist())\n",
    "complete_multi_pr = G_supra.personalized_pagerank(weights = G_supra.es[\"weight\"])"
   ]
  },
  {
   "cell_type": "code",
   "execution_count": 229,
   "metadata": {
    "collapsed": true
   },
   "outputs": [],
   "source": [
    "G_supra = igraph.Graph.Weighted_Adjacency(supra_adj.tolist())"
   ]
  },
  {
   "cell_type": "code",
   "execution_count": 230,
   "metadata": {
    "collapsed": false
   },
   "outputs": [],
   "source": [
    "G_supra = igraph.Graph.Weighted_Adjacency(supra_adj.tolist())"
   ]
  },
  {
   "cell_type": "code",
   "execution_count": 231,
   "metadata": {
    "collapsed": false
   },
   "outputs": [
    {
     "data": {
      "text/plain": [
       "(True, True)"
      ]
     },
     "execution_count": 231,
     "metadata": {},
     "output_type": "execute_result"
    }
   ],
   "source": [
    "G_supra.is_weighted(), G_supra.is_directed()"
   ]
  },
  {
   "cell_type": "code",
   "execution_count": 232,
   "metadata": {
    "collapsed": true
   },
   "outputs": [],
   "source": [
    "def save_centrality(y, namefile, namecent , country, cent):\n",
    "    f = open(\"centralities/\"+namefile+str(y) +\".csv\", \"w\")\n",
    "    f.write(\"Country,\"+namecent+\"\\n\")\n",
    "    n = len(country)\n",
    "    for i in range(n):\n",
    "        f.write(str(country[i]) + \",\" + str(cent[i])+ \"\\n\")\n",
    "    f.close()"
   ]
  },
  {
   "cell_type": "markdown",
   "metadata": {},
   "source": [
    "## PageRank"
   ]
  },
  {
   "cell_type": "code",
   "execution_count": 233,
   "metadata": {
    "collapsed": false
   },
   "outputs": [],
   "source": [
    "pr_agg = Aggregate_g.personalized_pagerank(weights = Aggregate_g.es[\"weight\"], damping = 0.85)\n",
    "node_names = np.array(copy.deepcopy(names))\n",
    "inds = np.array(pr_agg).argsort()[::-1][:]\n",
    "sort_names = node_names[inds]\n",
    "pr_agg_ord = np.array(pr_agg)[inds]"
   ]
  },
  {
   "cell_type": "code",
   "execution_count": 234,
   "metadata": {
    "collapsed": false
   },
   "outputs": [
    {
     "data": {
      "text/plain": [
       "array([ 0.12137427,  0.1028246 ,  0.07901446,  0.0506868 ,  0.04953681,\n",
       "        0.04891865,  0.0486846 ,  0.03990467,  0.03590609,  0.02465681])"
      ]
     },
     "execution_count": 234,
     "metadata": {},
     "output_type": "execute_result"
    }
   ],
   "source": [
    "pr_agg_ord[:10]"
   ]
  },
  {
   "cell_type": "code",
   "execution_count": 235,
   "metadata": {
    "collapsed": false
   },
   "outputs": [
    {
     "data": {
      "text/plain": [
       "array(['Netherlands', 'United States', 'Luxembourg', 'Germany', 'Belgium',\n",
       "       'France', 'United Kingdom', 'Ireland', 'Switzerland',\n",
       "       'China  P.R.: Hong Kong', 'Bermuda', 'Italy', 'Cayman Islands',\n",
       "       'Singapore', 'Russian Federation', 'Sweden',\n",
       "       'Virgin Islands  British', 'Japan', 'Mexico',\n",
       "       'China  P.R.: Mainland', 'Spain', 'Korea  Republic of', 'Mauritius',\n",
       "       'Canada', 'Denmark', 'Turkey', 'Hungary', 'United Arab Emirates',\n",
       "       'Austria', 'India'], \n",
       "      dtype='|S36')"
      ]
     },
     "execution_count": 235,
     "metadata": {},
     "output_type": "execute_result"
    }
   ],
   "source": [
    "sort_names[:30]"
   ]
  },
  {
   "cell_type": "code",
   "execution_count": 236,
   "metadata": {
    "collapsed": true
   },
   "outputs": [],
   "source": [
    "save_centrality(year, \"Agg_PageRankOutflow2\", \"PageRankOutlfow2\", sort_names, pr_agg_ord)"
   ]
  },
  {
   "cell_type": "code",
   "execution_count": 237,
   "metadata": {
    "collapsed": true
   },
   "outputs": [],
   "source": [
    "def get_pagerank_list(G, n_layers = 5, names= names, r = 0.85):\n",
    "    pr = G.personalized_pagerank(weights = G.es[\"weight\"], damping = r)\n",
    "    multi_pr = []\n",
    "    n_nodes = int((len(G.degree()))/5)\n",
    "    multi_pr = []\n",
    "    for i in range(n_nodes):\n",
    "        cent = 0\n",
    "        for k in range(n_layers):\n",
    "            cent += pr[i + n_nodes*k] \n",
    "        multi_pr.append(cent)\n",
    "    node_names = np.array(copy.deepcopy(names))\n",
    "    inds = np.array(multi_pr).argsort()[::-1][:]\n",
    "    sort_names_multi_pr = node_names[inds]\n",
    "    multi_sort_pr = np.array(multi_pr)[inds]\n",
    "    return sort_names_multi_pr, multi_sort_pr"
   ]
  },
  {
   "cell_type": "code",
   "execution_count": 238,
   "metadata": {
    "collapsed": false
   },
   "outputs": [],
   "source": [
    "n_pr, num_pr = get_pagerank_list(G_supra, r = 0.85)"
   ]
  },
  {
   "cell_type": "code",
   "execution_count": 239,
   "metadata": {
    "collapsed": false
   },
   "outputs": [
    {
     "data": {
      "text/plain": [
       "array(['Netherlands', 'United States', 'Luxembourg', 'Germany', 'Belgium',\n",
       "       'United Kingdom', 'France', 'Ireland', 'Switzerland',\n",
       "       'China  P.R.: Hong Kong', 'Bermuda', 'Italy', 'Cayman Islands',\n",
       "       'Curacao & St. Maarten', 'Singapore', 'Russian Federation',\n",
       "       'Sweden', 'Virgin Islands  British', 'Japan', 'Mexico',\n",
       "       'China  P.R.: Mainland', 'Spain', 'Korea  Republic of', 'Mauritius',\n",
       "       'Canada', 'Denmark', 'Turkey', 'Hungary', 'United Arab Emirates',\n",
       "       'Austria'], \n",
       "      dtype='|S36')"
      ]
     },
     "execution_count": 239,
     "metadata": {},
     "output_type": "execute_result"
    }
   ],
   "source": [
    "n_pr, num_pr = get_pagerank_list(G_supra, r = 0.85)\n",
    "n_pr[:30]"
   ]
  },
  {
   "cell_type": "code",
   "execution_count": 240,
   "metadata": {
    "collapsed": true
   },
   "outputs": [],
   "source": [
    "def make_supra_coup2(list_adj, list_vector):\n",
    "    \"Takes a list of adjacency matrix and list of vectors to use as coupling for layers\"\n",
    "    n_layers = len(list_adj)\n",
    "    dim = list_adj[0].shape[0]\n",
    "    sup_list = []\n",
    "    for i in range(n_layers):\n",
    "        row = []\n",
    "        for j in range(n_layers):\n",
    "            if i == j:\n",
    "                row.append(list_adj[i])\n",
    "            else:\n",
    "                row.append(np.diag(list_vector[i]))\n",
    "        sup_list.append(row)\n",
    "    return np.bmat(sup_list)"
   ]
  },
  {
   "cell_type": "code",
   "execution_count": 241,
   "metadata": {
    "collapsed": true
   },
   "outputs": [],
   "source": [
    "supra_adj2 = make_supra_coup2(AM_list, In_list)\n",
    "G_supra2 = igraph.Graph.Weighted_Adjacency(supra_adj2.tolist())"
   ]
  },
  {
   "cell_type": "code",
   "execution_count": 242,
   "metadata": {
    "collapsed": true
   },
   "outputs": [],
   "source": [
    "n_pr2, num_pr2 = get_pagerank_list(G_supra2)"
   ]
  },
  {
   "cell_type": "code",
   "execution_count": 243,
   "metadata": {
    "collapsed": false
   },
   "outputs": [],
   "source": [
    "n_pr2;"
   ]
  },
  {
   "cell_type": "code",
   "execution_count": 244,
   "metadata": {
    "collapsed": false
   },
   "outputs": [
    {
     "data": {
      "text/plain": [
       "array(['United States', 'Luxembourg', 'United Kingdom', 'Netherlands',\n",
       "       'France', 'Germany', 'Japan', 'Switzerland',\n",
       "       'China  P.R.: Hong Kong', 'Italy', 'Belgium', 'Mauritius',\n",
       "       'Singapore', 'Korea  Republic of', 'Canada', 'Kuwait', 'Sweden',\n",
       "       'Norway', 'Denmark', 'Ireland', 'Austria', 'Spain', 'Bermuda',\n",
       "       'South Africa', 'Cayman Islands', 'China  P.R.: Mainland',\n",
       "       'Saudi Arabia', 'Russian Federation', 'Jersey', 'Guernsey'], \n",
       "      dtype='|S36')"
      ]
     },
     "execution_count": 244,
     "metadata": {},
     "output_type": "execute_result"
    }
   ],
   "source": [
    "n_pr2, num_pr2 = get_pagerank_list(G_supra2, r = 0.85)\n",
    "n_pr2[:30]"
   ]
  },
  {
   "cell_type": "code",
   "execution_count": 245,
   "metadata": {
    "collapsed": false
   },
   "outputs": [],
   "source": [
    "save_centrality(year, \"MultCoupCashFlow_PageRankOutflow2\", \"PageRank centralityOutflow2\", n_pr, num_pr)"
   ]
  },
  {
   "cell_type": "code",
   "execution_count": 246,
   "metadata": {
    "collapsed": true
   },
   "outputs": [],
   "source": [
    "save_centrality(year, \"MultCoupRiskFlow_PageRankOutflow2\", \"PageRank centralityOutflow2\", n_pr2, num_pr2)"
   ]
  },
  {
   "cell_type": "markdown",
   "metadata": {
    "collapsed": true
   },
   "source": [
    "## Eigenvector"
   ]
  },
  {
   "cell_type": "code",
   "execution_count": 247,
   "metadata": {
    "collapsed": true
   },
   "outputs": [],
   "source": [
    "def get_eigenvector_list(G, n_layers = 5, names= names):\n",
    "    pr = G.eigenvector_centrality(weights = G.es[\"weight\"])\n",
    "    multi_pr = []\n",
    "    n_nodes = int((len(G.degree()))/5)\n",
    "    multi_pr = []\n",
    "    for i in range(n_nodes):\n",
    "        cent = 0\n",
    "        for k in range(n_layers):\n",
    "            cent += pr[i + n_nodes*k] \n",
    "        multi_pr.append(cent)\n",
    "    node_names = np.array(copy.deepcopy(names))\n",
    "    inds = np.array(multi_pr).argsort()[::-1][:]\n",
    "    sort_names_multi_pr = node_names[inds]\n",
    "    multi_sort_pr = np.array(multi_pr)[inds]\n",
    "    return sort_names_multi_pr, multi_sort_pr"
   ]
  },
  {
   "cell_type": "code",
   "execution_count": 248,
   "metadata": {
    "collapsed": false
   },
   "outputs": [
    {
     "name": "stderr",
     "output_type": "stream",
     "text": [
      "/home/user/anaconda2/lib/python2.7/site-packages/ipykernel/__main__.py:2: RuntimeWarning: Weighted directed graph in eigenvector centrality at centrality.c:362\n",
      "  from ipykernel import kernelapp as app\n"
     ]
    }
   ],
   "source": [
    "n_ei, num_ei = get_eigenvector_list(G_supra)\n",
    "n_ei2, num_ei2 = get_eigenvector_list(G_supra2)"
   ]
  },
  {
   "cell_type": "code",
   "execution_count": 249,
   "metadata": {
    "collapsed": false
   },
   "outputs": [
    {
     "data": {
      "text/plain": [
       "array(['Netherlands', 'United States', 'Luxembourg', 'United Kingdom',\n",
       "       'Belgium', 'Ireland', 'Germany', 'France', 'Switzerland', 'Bermuda',\n",
       "       'Cayman Islands', 'China  P.R.: Hong Kong', 'Canada', 'Italy',\n",
       "       'Sweden', 'Japan', 'Singapore', 'Spain', 'Mexico', 'Hungary'], \n",
       "      dtype='|S36')"
      ]
     },
     "execution_count": 249,
     "metadata": {},
     "output_type": "execute_result"
    }
   ],
   "source": [
    "n_ei2[:20]"
   ]
  },
  {
   "cell_type": "code",
   "execution_count": 250,
   "metadata": {
    "collapsed": false
   },
   "outputs": [],
   "source": [
    "save_centrality(year, \"MultCoupCashFlow_EigenvectorOutflow2\", \"Eigenvector centralityOutflow2\", n_ei, num_ei)\n",
    "save_centrality(year, \"MultCoupRiskFlow_EigenvectorOutflow2\", \"Eigenvector centralityOutflow2\", n_ei2, num_ei2)"
   ]
  },
  {
   "cell_type": "markdown",
   "metadata": {},
   "source": [
    "## Hubs and Auth"
   ]
  },
  {
   "cell_type": "code",
   "execution_count": 251,
   "metadata": {
    "collapsed": true
   },
   "outputs": [],
   "source": [
    "def G_list_hub(G_adj_list):\n",
    "    G_hub = []\n",
    "    for g in G_adj_list:\n",
    "        new = np.dot(g, g.transpose())\n",
    "        G_hub.append(new)   \n",
    "    return G_hub"
   ]
  },
  {
   "cell_type": "code",
   "execution_count": 252,
   "metadata": {
    "collapsed": true
   },
   "outputs": [],
   "source": [
    "def G_list_auth(G_adj_list):\n",
    "    G_hub = []\n",
    "    for g in G_adj_list:\n",
    "        new = np.dot( g.transpose(), g)\n",
    "        G_hub.append(new)   \n",
    "    return G_hub"
   ]
  },
  {
   "cell_type": "code",
   "execution_count": 253,
   "metadata": {
    "collapsed": true
   },
   "outputs": [],
   "source": [
    "def hub_auth_diag(Coup_list):\n",
    "    coup = []\n",
    "    for c in Coup_list:\n",
    "        coup.append(c*c)\n",
    "    return coup"
   ]
  },
  {
   "cell_type": "code",
   "execution_count": 254,
   "metadata": {
    "collapsed": true
   },
   "outputs": [],
   "source": [
    "G_supra_hub = make_supra_coup(G_list_hub(AM_list), hub_auth_diag(In_list))\n",
    "G_supra_auth = make_supra_coup(G_list_auth(AM_list), hub_auth_diag(In_list))"
   ]
  },
  {
   "cell_type": "code",
   "execution_count": 255,
   "metadata": {
    "collapsed": false
   },
   "outputs": [
    {
     "data": {
      "text/plain": [
       "(1, 1065)"
      ]
     },
     "execution_count": 255,
     "metadata": {},
     "output_type": "execute_result"
    }
   ],
   "source": [
    "G_supra_hub[0].shape"
   ]
  },
  {
   "cell_type": "code",
   "execution_count": 256,
   "metadata": {
    "collapsed": false
   },
   "outputs": [],
   "source": [
    "def get_hub_list(AM, n_layers = 5, names= names):\n",
    "    hub_eig = LA.eigs(AM, k=1, which='LM')[1]\n",
    "    multi_pr = []\n",
    "    #print hub_eig[0]\n",
    "    n_nodes = int((AM[0].shape[1])/5.)\n",
    "    multi_pr = []\n",
    "    for i in range(n_nodes):\n",
    "        cent = 0\n",
    "        for k in range(n_layers):\n",
    "            \n",
    "            cent += abs(hub_eig[i + n_nodes*k])\n",
    "        \n",
    "        multi_pr.append(cent[0])\n",
    "    \n",
    "    node_names = np.array(copy.deepcopy(names))\n",
    "    inds = np.array(multi_pr).argsort()[::-1][:]\n",
    "    sort_names_multi_pr = node_names[inds]\n",
    "    multi_sort_pr = np.array(multi_pr)[inds]\n",
    "    return sort_names_multi_pr, multi_sort_pr"
   ]
  },
  {
   "cell_type": "code",
   "execution_count": 257,
   "metadata": {
    "collapsed": false
   },
   "outputs": [],
   "source": [
    "n_hub, num_hub = get_hub_list(G_supra_hub)\n",
    "n_auth, num_auth = get_hub_list(G_supra_auth)"
   ]
  },
  {
   "cell_type": "code",
   "execution_count": 258,
   "metadata": {
    "collapsed": false
   },
   "outputs": [],
   "source": [
    "n_auth, num_auth = get_hub_list(G_supra_auth)"
   ]
  },
  {
   "cell_type": "code",
   "execution_count": 259,
   "metadata": {
    "collapsed": false
   },
   "outputs": [
    {
     "data": {
      "text/plain": [
       "array(['Netherlands', 'United States', 'Luxembourg', 'United Kingdom',\n",
       "       'Belgium', 'Ireland', 'Germany', 'Switzerland', 'France', 'Bermuda',\n",
       "       'China  P.R.: Hong Kong', 'Cayman Islands', 'Canada', 'Sweden',\n",
       "       'Italy', 'Japan', 'Spain', 'Mexico', 'Singapore', 'Jersey'], \n",
       "      dtype='|S36')"
      ]
     },
     "execution_count": 259,
     "metadata": {},
     "output_type": "execute_result"
    }
   ],
   "source": [
    "n_auth[:20]"
   ]
  },
  {
   "cell_type": "code",
   "execution_count": 260,
   "metadata": {
    "collapsed": false
   },
   "outputs": [
    {
     "data": {
      "text/plain": [
       "array(['Netherlands', 'United States', 'Luxembourg', 'United Kingdom',\n",
       "       'Germany', 'Ireland', 'Belgium', 'Switzerland', 'France', 'Spain',\n",
       "       'Brazil', 'Bermuda', 'Italy', 'Canada', 'Australia',\n",
       "       'China  P.R.: Hong Kong', 'Russian Federation', 'Sweden',\n",
       "       'Cayman Islands', 'Japan'], \n",
       "      dtype='|S36')"
      ]
     },
     "execution_count": 260,
     "metadata": {},
     "output_type": "execute_result"
    }
   ],
   "source": [
    "n_hub[:20]"
   ]
  },
  {
   "cell_type": "code",
   "execution_count": 261,
   "metadata": {
    "collapsed": true
   },
   "outputs": [],
   "source": [
    "save_centrality(year, \"MultCoupCashFlow_HubOutFlow2\", \"Hub Score2\", n_hub, num_hub)\n",
    "save_centrality(year, \"MultCoupCashFlow_AuthOutFlow2\", \"Authority Score2\", n_auth, num_auth)"
   ]
  },
  {
   "cell_type": "code",
   "execution_count": 262,
   "metadata": {
    "collapsed": false
   },
   "outputs": [
    {
     "data": {
      "text/plain": [
       "array(['Netherlands', 'United States', 'Luxembourg', 'United Kingdom',\n",
       "       'Belgium', 'Ireland', 'Germany', 'Switzerland', 'France', 'Bermuda',\n",
       "       'China  P.R.: Hong Kong', 'Cayman Islands', 'Canada', 'Sweden',\n",
       "       'Italy', 'Japan', 'Spain', 'Mexico', 'Singapore', 'Jersey'], \n",
       "      dtype='|S36')"
      ]
     },
     "execution_count": 262,
     "metadata": {},
     "output_type": "execute_result"
    }
   ],
   "source": [
    "n_auth[:20]"
   ]
  },
  {
   "cell_type": "code",
   "execution_count": 263,
   "metadata": {
    "collapsed": false
   },
   "outputs": [
    {
     "data": {
      "text/plain": [
       "array(['Netherlands', 'United States', 'Luxembourg', 'United Kingdom',\n",
       "       'Germany', 'Ireland', 'Belgium', 'Switzerland', 'France', 'Spain',\n",
       "       'Brazil', 'Bermuda', 'Italy', 'Canada', 'Australia',\n",
       "       'China  P.R.: Hong Kong', 'Russian Federation', 'Sweden',\n",
       "       'Cayman Islands', 'Japan'], \n",
       "      dtype='|S36')"
      ]
     },
     "execution_count": 263,
     "metadata": {},
     "output_type": "execute_result"
    }
   ],
   "source": [
    "n_hub[:20]"
   ]
  },
  {
   "cell_type": "markdown",
   "metadata": {},
   "source": [
    "### other coup"
   ]
  },
  {
   "cell_type": "code",
   "execution_count": 264,
   "metadata": {
    "collapsed": true
   },
   "outputs": [],
   "source": [
    "G_supra_hub2 = make_supra_coup2(G_list_hub(AM_list), hub_auth_diag(In_list))\n",
    "G_supra_auth2 = make_supra_coup2(G_list_auth(AM_list), hub_auth_diag(In_list))"
   ]
  },
  {
   "cell_type": "code",
   "execution_count": 265,
   "metadata": {
    "collapsed": true
   },
   "outputs": [],
   "source": [
    "n_hub2, num_hub2 = get_hub_list(G_supra_hub2)\n",
    "n_auth2, num_auth2 = get_hub_list(G_supra_auth2)"
   ]
  },
  {
   "cell_type": "code",
   "execution_count": 266,
   "metadata": {
    "collapsed": false
   },
   "outputs": [],
   "source": [
    "#n_hub2, num_hub2 = get_eigenvector_list(igraph.Graph.Weighted_Adjacency(G_supra_hub2.tolist()))\n",
    "#n_auth2, num_auth2 = get_eigenvector_list(igraph.Graph.Weighted_Adjacency(G_supra_auth2.tolist()))"
   ]
  },
  {
   "cell_type": "code",
   "execution_count": 267,
   "metadata": {
    "collapsed": false
   },
   "outputs": [
    {
     "data": {
      "text/plain": [
       "array(['Netherlands', 'Luxembourg', 'United States', 'United Kingdom',\n",
       "       'Belgium', 'Ireland', 'Switzerland', 'France', 'Germany', 'Bermuda',\n",
       "       'Cayman Islands', 'Canada', 'Sweden', 'Italy', 'Japan', 'Mexico',\n",
       "       'Spain', 'China  P.R.: Hong Kong', 'Singapore', 'Jersey', 'Hungary',\n",
       "       'China  P.R.: Mainland', 'Australia', 'United Arab Emirates',\n",
       "       'Denmark', 'Russian Federation', 'Austria', 'Norway', 'Isle of Man',\n",
       "       'Finland'], \n",
       "      dtype='|S36')"
      ]
     },
     "execution_count": 267,
     "metadata": {},
     "output_type": "execute_result"
    }
   ],
   "source": [
    "n_auth2[:30]"
   ]
  },
  {
   "cell_type": "code",
   "execution_count": 268,
   "metadata": {
    "collapsed": false
   },
   "outputs": [
    {
     "data": {
      "text/plain": [
       "array(['United States', 'Germany', 'United Kingdom', 'Netherlands',\n",
       "       'Ireland', 'Luxembourg', 'Switzerland', 'Spain', 'France',\n",
       "       'Belgium', 'Brazil', 'Italy', 'Australia', 'Canada', 'Bermuda',\n",
       "       'Russian Federation', 'Sweden', 'Japan', 'Cayman Islands', 'Mexico',\n",
       "       'Norway', 'China  P.R.: Mainland', 'Singapore',\n",
       "       'China  P.R.: Hong Kong', 'United Arab Emirates', 'Hungary',\n",
       "       'Mauritius', 'Puerto Rico', 'Poland', 'Austria'], \n",
       "      dtype='|S36')"
      ]
     },
     "execution_count": 268,
     "metadata": {},
     "output_type": "execute_result"
    }
   ],
   "source": [
    "n_hub2[:30]"
   ]
  },
  {
   "cell_type": "code",
   "execution_count": 269,
   "metadata": {
    "collapsed": false
   },
   "outputs": [],
   "source": [
    "save_centrality(year, \"MultCoupRiskFlow_HubOutflow2\", \"Hub ScoreOutflow2\", n_hub2, num_hub2)\n",
    "save_centrality(year, \"MultCoupRiskFlow_AuthOutflow2\", \"Authority ScoreOutflow2\", n_auth2, num_auth2)"
   ]
  },
  {
   "cell_type": "code",
   "execution_count": 270,
   "metadata": {
    "collapsed": false
   },
   "outputs": [
    {
     "data": {
      "text/plain": [
       "array([ 0.49965235,  0.43597348,  0.39874015,  0.31059957,  0.25707646,\n",
       "        0.24039591,  0.18793771,  0.18448201,  0.16754419,  0.14409836,\n",
       "        0.10743365,  0.09119547,  0.0841655 ,  0.07978462,  0.07504338,\n",
       "        0.06322695,  0.05531144,  0.05095731,  0.05064792,  0.04896846])"
      ]
     },
     "execution_count": 270,
     "metadata": {},
     "output_type": "execute_result"
    }
   ],
   "source": [
    "num_hub2 [:20]"
   ]
  },
  {
   "cell_type": "code",
   "execution_count": null,
   "metadata": {
    "collapsed": true
   },
   "outputs": [],
   "source": []
  }
 ],
 "metadata": {
  "anaconda-cloud": {},
  "kernelspec": {
   "display_name": "Python [conda root]",
   "language": "python",
   "name": "conda-root-py"
  },
  "language_info": {
   "codemirror_mode": {
    "name": "ipython",
    "version": 2
   },
   "file_extension": ".py",
   "mimetype": "text/x-python",
   "name": "python",
   "nbconvert_exporter": "python",
   "pygments_lexer": "ipython2",
   "version": "2.7.12"
  }
 },
 "nbformat": 4,
 "nbformat_minor": 1
}
