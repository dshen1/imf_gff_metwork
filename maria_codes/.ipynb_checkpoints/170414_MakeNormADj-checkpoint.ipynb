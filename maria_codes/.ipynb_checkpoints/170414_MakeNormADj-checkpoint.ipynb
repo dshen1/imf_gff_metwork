{
 "cells": [
  {
   "cell_type": "code",
   "execution_count": 2,
   "metadata": {
    "collapsed": true
   },
   "outputs": [],
   "source": [
    "import pandas as pd\n",
    "import MultiContagion as mc\n",
    "import igraph\n",
    "import random\n",
    "import numpy as np\n",
    "from matplotlib import pylab as plt\n",
    "import scipy.stats\n",
    "import copy\n",
    "from scipy.sparse import linalg as LA\n",
    "#import powerlaw\n",
    "%matplotlib inline"
   ]
  },
  {
   "cell_type": "code",
   "execution_count": 3,
   "metadata": {
    "collapsed": false
   },
   "outputs": [],
   "source": [
    "df = pd.read_stata(\"../data/agg_v4_layer_dummy.dta\")"
   ]
  },
  {
   "cell_type": "code",
   "execution_count": 5,
   "metadata": {
    "collapsed": false
   },
   "outputs": [
    {
     "data": {
      "text/html": [
       "<div>\n",
       "<table border=\"1\" class=\"dataframe\">\n",
       "  <thead>\n",
       "    <tr style=\"text-align: right;\">\n",
       "      <th></th>\n",
       "      <th>country</th>\n",
       "      <th>countrycode</th>\n",
       "      <th>counterpart</th>\n",
       "      <th>counterpart_code</th>\n",
       "      <th>year</th>\n",
       "      <th>CDIS_IADE</th>\n",
       "      <th>CDIS_IADD</th>\n",
       "      <th>CDIS_IAD</th>\n",
       "      <th>CPIS_IAP</th>\n",
       "      <th>CPIS_IAPE</th>\n",
       "      <th>CPIS_IAPD</th>\n",
       "      <th>loans_dep</th>\n",
       "      <th>total_claims</th>\n",
       "      <th>layer_dummy</th>\n",
       "    </tr>\n",
       "  </thead>\n",
       "  <tbody>\n",
       "    <tr>\n",
       "      <th>7</th>\n",
       "      <td>United States</td>\n",
       "      <td>111.0</td>\n",
       "      <td>United Kingdom</td>\n",
       "      <td>112.0</td>\n",
       "      <td>2015</td>\n",
       "      <td>548074.0</td>\n",
       "      <td>169821.0</td>\n",
       "      <td>717895.0</td>\n",
       "      <td>1244554.0</td>\n",
       "      <td>899596.0</td>\n",
       "      <td>344958.0</td>\n",
       "      <td>614951.0</td>\n",
       "      <td>2577400.0</td>\n",
       "      <td>4.0</td>\n",
       "    </tr>\n",
       "  </tbody>\n",
       "</table>\n",
       "</div>"
      ],
      "text/plain": [
       "         country  countrycode     counterpart  counterpart_code  year  \\\n",
       "7  United States        111.0  United Kingdom             112.0  2015   \n",
       "\n",
       "   CDIS_IADE  CDIS_IADD  CDIS_IAD   CPIS_IAP  CPIS_IAPE  CPIS_IAPD  loans_dep  \\\n",
       "7   548074.0   169821.0  717895.0  1244554.0   899596.0   344958.0   614951.0   \n",
       "\n",
       "   total_claims  layer_dummy  \n",
       "7     2577400.0          4.0  "
      ]
     },
     "execution_count": 5,
     "metadata": {},
     "output_type": "execute_result"
    }
   ],
   "source": [
    "df[(df.country == 'United States') & (df.counterpart == 'United Kingdom')&(df.year == 2015)]"
   ]
  },
  {
   "cell_type": "code",
   "execution_count": null,
   "metadata": {
    "collapsed": true
   },
   "outputs": [],
   "source": []
  }
 ],
 "metadata": {
  "anaconda-cloud": {},
  "kernelspec": {
   "display_name": "Python [default]",
   "language": "python",
   "name": "python3"
  },
  "language_info": {
   "codemirror_mode": {
    "name": "ipython",
    "version": 3
   },
   "file_extension": ".py",
   "mimetype": "text/x-python",
   "name": "python",
   "nbconvert_exporter": "python",
   "pygments_lexer": "ipython3",
   "version": "3.5.2"
  }
 },
 "nbformat": 4,
 "nbformat_minor": 1
}
