{
 "cells": [
  {
   "cell_type": "code",
   "execution_count": 54,
   "metadata": {
    "collapsed": false
   },
   "outputs": [],
   "source": [
    "import pandas as pd\n",
    "import MultiContagion as mc\n",
    "import igraph\n",
    "import random\n",
    "import numpy as np\n",
    "from matplotlib import pylab as plt\n",
    "import scipy.stats\n",
    "import copy\n",
    "from scipy.sparse import linalg as LA\n",
    "#import powerlaw\n",
    "%matplotlib inline"
   ]
  },
  {
   "cell_type": "code",
   "execution_count": 55,
   "metadata": {
    "collapsed": true
   },
   "outputs": [],
   "source": [
    "year = 2015"
   ]
  },
  {
   "cell_type": "code",
   "execution_count": 56,
   "metadata": {
    "collapsed": false
   },
   "outputs": [],
   "source": [
    "#import the aggregate adjacency matrix\n",
    "aggregate_am = np.genfromtxt ('../data/adj/AM4_all_nodes_aggregate'+str(year)+'.csv', delimiter=\",\")\n",
    "df_names = pd.read_csv('../data/adj/all_country_name4.csv', header=None)\n",
    "names = list(df_names[0])\n",
    "Aggregate_g = igraph.Graph.Weighted_Adjacency(list(np.transpose(aggregate_am)))     ## \n",
    "Aggregate_g.vs[\"name\"] = copy.deepcopy(names)"
   ]
  },
  {
   "cell_type": "code",
   "execution_count": 57,
   "metadata": {
    "collapsed": true
   },
   "outputs": [],
   "source": [
    "#Import the adjacency matrix and make graphs of all the layers.\n",
    "cdis_equity_am = np.genfromtxt ('../data/adj/AM4_all_nodesCDIS-equity'+str(year)+'.csv', delimiter=\",\")\n",
    "cdis_equity_g = igraph.Graph.Weighted_Adjacency(list(cdis_equity_am))\n",
    "cdis_equity_g.vs[\"name\"] = copy.deepcopy(names)\n",
    "\n",
    "cdis_debt_am = np.genfromtxt ('../data/adj/AM4_all_nodesCDIS-debt'+str(year)+'.csv', delimiter=\",\")\n",
    "cdis_debt_g = igraph.Graph.Weighted_Adjacency(list(cdis_debt_am))\n",
    "cdis_debt_g.vs[\"name\"] = copy.deepcopy(names)\n",
    "\n",
    "cpis_equity_am = np.genfromtxt ('../data/adj/AM4_all_nodesCPIS-equity'+str(year)+'.csv', delimiter=\",\")\n",
    "cpis_equity_g = igraph.Graph.Weighted_Adjacency(list(cpis_equity_am))\n",
    "cpis_equity_g.vs[\"name\"] = copy.deepcopy(names)\n",
    "\n",
    "cpis_debt_am = np.genfromtxt ('../data/adj/AM4_all_nodesCPIS-debt'+str(year)+'.csv', delimiter=\",\")\n",
    "cpis_debt_g = igraph.Graph.Weighted_Adjacency(list(cpis_debt_am))\n",
    "cpis_debt_g.vs[\"name\"] = copy.deepcopy(names)\n",
    "\n",
    "bis_am = np.genfromtxt ('../data/adj/AM4_all_nodesBIS'+str(year)+'.csv', delimiter=\",\")\n",
    "bis_g = igraph.Graph.Weighted_Adjacency(list(bis_am))\n",
    "bis_g.vs[\"name\"] = copy.deepcopy(names)"
   ]
  },
  {
   "cell_type": "markdown",
   "metadata": {},
   "source": [
    "#### we created two sets of adjmatrix, one set 1 is for cash flow, set 2 is for risk flow. the default adj matrix is for risk flow"
   ]
  },
  {
   "cell_type": "code",
   "execution_count": 58,
   "metadata": {
    "collapsed": true
   },
   "outputs": [],
   "source": [
    "G_list = [cdis_equity_g, cdis_debt_g, cpis_equity_g, cpis_debt_g, bis_g ]\n",
    "AM_list = [np.transpose(cdis_equity_am), np.transpose(cdis_debt_am), \n",
    "           np.transpose(cpis_equity_am), np.transpose(cpis_debt_am), np.transpose(bis_am)]\n",
    "G_list2 = [cdis_equity_g,cpis_equity_g, cpis_debt_g, bis_g ]\n",
    "AM_list2 = [cdis_equity_am, cpis_equity_am, cpis_debt_am, bis_am ]"
   ]
  },
  {
   "cell_type": "code",
   "execution_count": 59,
   "metadata": {
    "collapsed": true
   },
   "outputs": [],
   "source": [
    "In_list = [ np.array(g.strength(mode =\"IN\", weights= g.es[\"weight\"])) for g in G_list]\n",
    "Out_list = [ np.array(g.strength(mode =\"OUT\", weights= g.es[\"weight\"])) for g in G_list]"
   ]
  },
  {
   "cell_type": "code",
   "execution_count": 60,
   "metadata": {
    "collapsed": true
   },
   "outputs": [],
   "source": [
    "def make_supra_coup(list_adj, list_vector):\n",
    "    \"Takes a list of adjacency matrix and list of vectors to use as coupling for layers\"\n",
    "    n_layers = len(list_adj)\n",
    "    dim = list_adj[0].shape[0]\n",
    "    sup_list = []\n",
    "    for i in range(n_layers):\n",
    "        row = []\n",
    "        for j in range(n_layers):\n",
    "            if i == j:\n",
    "                row.append(list_adj[i])\n",
    "            else:\n",
    "                row.append(np.diag(list_vector[j]))\n",
    "        sup_list.append(row)\n",
    "    return np.bmat(sup_list)"
   ]
  },
  {
   "cell_type": "markdown",
   "metadata": {},
   "source": [
    "# For real"
   ]
  },
  {
   "cell_type": "code",
   "execution_count": 77,
   "metadata": {
    "collapsed": true
   },
   "outputs": [],
   "source": [
    "supra_adj = make_supra_coup(AM_list, In_list)\n",
    "G_supra = igraph.Graph.Weighted_Adjacency(supra_adj.tolist())\n",
    "complete_multi_pr = G_supra.personalized_pagerank(weights = G_supra.es[\"weight\"])"
   ]
  },
  {
   "cell_type": "code",
   "execution_count": 84,
   "metadata": {
    "collapsed": true
   },
   "outputs": [],
   "source": [
    "G_supra = igraph.Graph.Weighted_Adjacency(supra_adj.tolist())"
   ]
  },
  {
   "cell_type": "code",
   "execution_count": 85,
   "metadata": {
    "collapsed": false
   },
   "outputs": [],
   "source": [
    "G_supra = igraph.Graph.Weighted_Adjacency(supra_adj.tolist())"
   ]
  },
  {
   "cell_type": "code",
   "execution_count": 86,
   "metadata": {
    "collapsed": false
   },
   "outputs": [
    {
     "data": {
      "text/plain": [
       "(True, True)"
      ]
     },
     "execution_count": 86,
     "metadata": {},
     "output_type": "execute_result"
    }
   ],
   "source": [
    "G_supra.is_weighted(), G_supra.is_directed()"
   ]
  },
  {
   "cell_type": "code",
   "execution_count": 87,
   "metadata": {
    "collapsed": true
   },
   "outputs": [],
   "source": [
    "def save_centrality(y, namefile, namecent , country, cent):\n",
    "    f = open(\"../data/centralities/\"+namefile+str(y) +\".csv\", \"w\")\n",
    "    f.write(\"Country,\"+namecent+\"\\n\")\n",
    "    n = len(country)\n",
    "    for i in range(n):\n",
    "        f.write(str(country[i]) + \",\" + str(cent[i])+ \"\\n\")\n",
    "    f.close()"
   ]
  },
  {
   "cell_type": "markdown",
   "metadata": {},
   "source": [
    "## PageRank"
   ]
  },
  {
   "cell_type": "code",
   "execution_count": 88,
   "metadata": {
    "collapsed": false
   },
   "outputs": [],
   "source": [
    "pr_agg = Aggregate_g.personalized_pagerank(weights = Aggregate_g.es[\"weight\"], damping = 0.85)\n",
    "node_names = np.array(copy.deepcopy(names))\n",
    "inds = np.array(pr_agg).argsort()[::-1][:]\n",
    "sort_names = node_names[inds]\n",
    "pr_agg_ord = np.array(pr_agg)[inds]"
   ]
  },
  {
   "cell_type": "code",
   "execution_count": 89,
   "metadata": {
    "collapsed": false
   },
   "outputs": [
    {
     "data": {
      "text/plain": [
       "array(['United States', 'United Kingdom', 'Luxembourg', 'Netherlands',\n",
       "       'France', 'Germany', 'Cayman Islands', 'China  P.R.: Hong Kong',\n",
       "       'Switzerland', 'China  P.R.: Mainland', 'Japan', 'Ireland',\n",
       "       'Canada', 'Italy', 'Spain', 'Australia', 'Belgium', 'Singapore',\n",
       "       'India', 'Bermuda', 'Brazil', 'Sweden', 'Jersey',\n",
       "       'Virgin Islands  British', 'Mexico', 'Austria',\n",
       "       'Korea  Republic of', 'Mauritius', 'Russian Federation', 'Denmark'], \n",
       "      dtype='<U36')"
      ]
     },
     "execution_count": 89,
     "metadata": {},
     "output_type": "execute_result"
    }
   ],
   "source": [
    "sort_names[:30]"
   ]
  },
  {
   "cell_type": "code",
   "execution_count": 90,
   "metadata": {
    "collapsed": false
   },
   "outputs": [],
   "source": [
    "save_centrality(year, \"Agg_PageRank\", \"PageRank\", sort_names, pr_agg_ord)"
   ]
  },
  {
   "cell_type": "code",
   "execution_count": 91,
   "metadata": {
    "collapsed": true
   },
   "outputs": [],
   "source": [
    "def get_pagerank_list(G, n_layers = 5, names= names, r = 0.85):\n",
    "    pr = G.personalized_pagerank(weights = G.es[\"weight\"], damping = r)\n",
    "    multi_pr = []\n",
    "    n_nodes = int((len(G.degree()))/5)\n",
    "    multi_pr = []\n",
    "    for i in range(n_nodes):\n",
    "        cent = 0\n",
    "        for k in range(n_layers):\n",
    "            cent += pr[i + n_nodes*k] \n",
    "        multi_pr.append(cent)\n",
    "    node_names = np.array(copy.deepcopy(names))\n",
    "    inds = np.array(multi_pr).argsort()[::-1][:]\n",
    "    sort_names_multi_pr = node_names[inds]\n",
    "    multi_sort_pr = np.array(multi_pr)[inds]\n",
    "    return sort_names_multi_pr, multi_sort_pr"
   ]
  },
  {
   "cell_type": "code",
   "execution_count": 21,
   "metadata": {
    "collapsed": false
   },
   "outputs": [],
   "source": [
    "n_pr, num_pr = get_pagerank_list(G_supra, r = 0.85)"
   ]
  },
  {
   "cell_type": "code",
   "execution_count": 22,
   "metadata": {
    "collapsed": false
   },
   "outputs": [
    {
     "data": {
      "text/plain": [
       "array(['United States', 'United Kingdom', 'France', 'Luxembourg',\n",
       "       'Switzerland', 'China  P.R.: Hong Kong', 'Netherlands',\n",
       "       'China  P.R.: Mainland', 'Germany', 'Ireland', 'Japan',\n",
       "       'Cayman Islands', 'Australia', 'Spain', 'Belgium', 'Italy',\n",
       "       'Canada', 'India', 'Jersey', 'Singapore', 'Austria',\n",
       "       'Korea  Republic of', 'Sweden', 'Portugal', 'Mauritius', 'Denmark',\n",
       "       'Bermuda', 'Panama', 'Mexico', 'Turkey'], \n",
       "      dtype='<U36')"
      ]
     },
     "execution_count": 22,
     "metadata": {},
     "output_type": "execute_result"
    }
   ],
   "source": [
    "n_pr, num_pr = get_pagerank_list(G_supra, r = 0.85)\n",
    "n_pr[:30]"
   ]
  },
  {
   "cell_type": "code",
   "execution_count": 23,
   "metadata": {
    "collapsed": true
   },
   "outputs": [],
   "source": [
    "def make_supra_coup2(list_adj, list_vector):\n",
    "    \"Takes a list of adjacency matrix and list of vectors to use as coupling for layers\"\n",
    "    n_layers = len(list_adj)\n",
    "    dim = list_adj[0].shape[0]\n",
    "    sup_list = []\n",
    "    for i in range(n_layers):\n",
    "        row = []\n",
    "        for j in range(n_layers):\n",
    "            if i == j:\n",
    "                row.append(list_adj[i])\n",
    "            else:\n",
    "                row.append(np.diag(list_vector[i]))\n",
    "        sup_list.append(row)\n",
    "    return np.bmat(sup_list)"
   ]
  },
  {
   "cell_type": "code",
   "execution_count": 24,
   "metadata": {
    "collapsed": true
   },
   "outputs": [],
   "source": [
    "supra_adj2 = make_supra_coup2(AM_list, In_list)\n",
    "G_supra2 = igraph.Graph.Weighted_Adjacency(supra_adj2.tolist())"
   ]
  },
  {
   "cell_type": "code",
   "execution_count": 25,
   "metadata": {
    "collapsed": true
   },
   "outputs": [],
   "source": [
    "n_pr2, num_pr2 = get_pagerank_list(G_supra2)"
   ]
  },
  {
   "cell_type": "code",
   "execution_count": 26,
   "metadata": {
    "collapsed": false
   },
   "outputs": [],
   "source": [
    "n_pr2;"
   ]
  },
  {
   "cell_type": "code",
   "execution_count": 27,
   "metadata": {
    "collapsed": false
   },
   "outputs": [
    {
     "data": {
      "text/plain": [
       "array(['United States', 'United Kingdom', 'Netherlands', 'Luxembourg',\n",
       "       'France', 'Germany', 'China  P.R.: Mainland',\n",
       "       'China  P.R.: Hong Kong', 'Cayman Islands', 'Switzerland', 'Japan',\n",
       "       'Ireland', 'Italy', 'Canada', 'Mauritius', 'Australia', 'Spain',\n",
       "       'Belgium', 'India', 'Brazil', 'Russian Federation', 'Singapore',\n",
       "       'Mexico', 'Austria', 'Sweden', 'Korea  Republic of', 'Thailand',\n",
       "       'Panama', 'South Africa', 'Bermuda'], \n",
       "      dtype='<U36')"
      ]
     },
     "execution_count": 27,
     "metadata": {},
     "output_type": "execute_result"
    }
   ],
   "source": [
    "n_pr2, num_pr2 = get_pagerank_list(G_supra2, r = 0.85)\n",
    "n_pr2[:30]"
   ]
  },
  {
   "cell_type": "code",
   "execution_count": 28,
   "metadata": {
    "collapsed": false
   },
   "outputs": [],
   "source": [
    "save_centrality(year, \"MultCoupCashFlow_PageRank\", \"PageRank centrality\", n_pr, num_pr)"
   ]
  },
  {
   "cell_type": "code",
   "execution_count": 29,
   "metadata": {
    "collapsed": true
   },
   "outputs": [],
   "source": [
    "save_centrality(year, \"MultCoupRiskFlow_PageRank\", \"PageRank centrality\", n_pr2, num_pr2)"
   ]
  },
  {
   "cell_type": "markdown",
   "metadata": {
    "collapsed": true
   },
   "source": [
    "## Eigenvector"
   ]
  },
  {
   "cell_type": "code",
   "execution_count": 30,
   "metadata": {
    "collapsed": true
   },
   "outputs": [],
   "source": [
    "def get_eigenvector_list(G, n_layers = 5, names= names):\n",
    "    pr = G.eigenvector_centrality(weights = G.es[\"weight\"])\n",
    "    multi_pr = []\n",
    "    n_nodes = int((len(G.degree()))/5)\n",
    "    multi_pr = []\n",
    "    for i in range(n_nodes):\n",
    "        cent = 0\n",
    "        for k in range(n_layers):\n",
    "            cent += pr[i + n_nodes*k] \n",
    "        multi_pr.append(cent)\n",
    "    node_names = np.array(copy.deepcopy(names))\n",
    "    inds = np.array(multi_pr).argsort()[::-1][:]\n",
    "    sort_names_multi_pr = node_names[inds]\n",
    "    multi_sort_pr = np.array(multi_pr)[inds]\n",
    "    return sort_names_multi_pr, multi_sort_pr"
   ]
  },
  {
   "cell_type": "code",
   "execution_count": 31,
   "metadata": {
    "collapsed": false
   },
   "outputs": [
    {
     "name": "stderr",
     "output_type": "stream",
     "text": [
      "/home/ubuntu/anaconda3/lib/python3.5/site-packages/ipykernel/__main__.py:2: RuntimeWarning: Weighted directed graph in eigenvector centrality at centrality.c:362\n",
      "  from ipykernel import kernelapp as app\n"
     ]
    }
   ],
   "source": [
    "n_ei, num_ei = get_eigenvector_list(G_supra)\n",
    "n_ei2, num_ei2 = get_eigenvector_list(G_supra2)"
   ]
  },
  {
   "cell_type": "code",
   "execution_count": 32,
   "metadata": {
    "collapsed": false
   },
   "outputs": [],
   "source": [
    "n_ei2;"
   ]
  },
  {
   "cell_type": "code",
   "execution_count": 33,
   "metadata": {
    "collapsed": false
   },
   "outputs": [],
   "source": [
    "save_centrality(year, \"MultCoupCashFlow_Eigenvector\", \"Eigenvector centrality\", n_ei, num_ei)\n",
    "save_centrality(year, \"MultCoupRiskFlow_Eigenvector\", \"Eigenvector centrality\", n_ei2, num_ei2)"
   ]
  },
  {
   "cell_type": "markdown",
   "metadata": {},
   "source": [
    "## Hubs and Auth"
   ]
  },
  {
   "cell_type": "code",
   "execution_count": 34,
   "metadata": {
    "collapsed": true
   },
   "outputs": [],
   "source": [
    "def G_list_hub(G_adj_list):\n",
    "    G_hub = []\n",
    "    for g in G_adj_list:\n",
    "        new = np.dot(g, g.transpose())\n",
    "        G_hub.append(new)   \n",
    "    return G_hub"
   ]
  },
  {
   "cell_type": "code",
   "execution_count": 35,
   "metadata": {
    "collapsed": true
   },
   "outputs": [],
   "source": [
    "def G_list_auth(G_adj_list):\n",
    "    G_hub = []\n",
    "    for g in G_adj_list:\n",
    "        new = np.dot( g.transpose(), g)\n",
    "        G_hub.append(new)   \n",
    "    return G_hub"
   ]
  },
  {
   "cell_type": "code",
   "execution_count": 36,
   "metadata": {
    "collapsed": true
   },
   "outputs": [],
   "source": [
    "def hub_auth_diag(Coup_list):\n",
    "    coup = []\n",
    "    for c in Coup_list:\n",
    "        coup.append(c*c)\n",
    "    return coup"
   ]
  },
  {
   "cell_type": "code",
   "execution_count": 37,
   "metadata": {
    "collapsed": true
   },
   "outputs": [],
   "source": [
    "G_supra_hub = make_supra_coup(G_list_hub(AM_list), hub_auth_diag(In_list))\n",
    "G_supra_auth = make_supra_coup(G_list_auth(AM_list), hub_auth_diag(In_list))"
   ]
  },
  {
   "cell_type": "code",
   "execution_count": 38,
   "metadata": {
    "collapsed": false
   },
   "outputs": [
    {
     "data": {
      "text/plain": [
       "(1, 1065)"
      ]
     },
     "execution_count": 38,
     "metadata": {},
     "output_type": "execute_result"
    }
   ],
   "source": [
    "G_supra_hub[0].shape"
   ]
  },
  {
   "cell_type": "code",
   "execution_count": 39,
   "metadata": {
    "collapsed": false
   },
   "outputs": [],
   "source": [
    "def get_hub_list(AM, n_layers = 5, names= names):\n",
    "    hub_eig = LA.eigs(AM, k=1, which='LM')[1]\n",
    "    multi_pr = []\n",
    "    #print hub_eig[0]\n",
    "    n_nodes = int((AM[0].shape[1])/5.)\n",
    "    multi_pr = []\n",
    "    for i in range(n_nodes):\n",
    "        cent = 0\n",
    "        for k in range(n_layers):\n",
    "            \n",
    "            cent += abs(hub_eig[i + n_nodes*k])\n",
    "        \n",
    "        multi_pr.append(cent[0])\n",
    "    \n",
    "    node_names = np.array(copy.deepcopy(names))\n",
    "    inds = np.array(multi_pr).argsort()[::-1][:]\n",
    "    sort_names_multi_pr = node_names[inds]\n",
    "    multi_sort_pr = np.array(multi_pr)[inds]\n",
    "    return sort_names_multi_pr, multi_sort_pr"
   ]
  },
  {
   "cell_type": "code",
   "execution_count": 40,
   "metadata": {
    "collapsed": false
   },
   "outputs": [],
   "source": [
    "n_hub, num_hub = get_hub_list(G_supra_hub)\n",
    "n_auth, num_auth = get_hub_list(G_supra_auth)"
   ]
  },
  {
   "cell_type": "code",
   "execution_count": 41,
   "metadata": {
    "collapsed": false
   },
   "outputs": [],
   "source": [
    "n_auth, num_auth = get_hub_list(G_supra_auth)"
   ]
  },
  {
   "cell_type": "code",
   "execution_count": 42,
   "metadata": {
    "collapsed": false
   },
   "outputs": [
    {
     "data": {
      "text/plain": [
       "array(['United States', 'United Kingdom', 'Netherlands', 'France',\n",
       "       'Luxembourg', 'Germany', 'Ireland', 'Cayman Islands', 'Switzerland',\n",
       "       'Japan', 'Italy', 'Belgium', 'Spain', 'Canada', 'Australia',\n",
       "       'China  P.R.: Hong Kong', 'China  P.R.: Mainland', 'Singapore',\n",
       "       'Sweden', 'Brazil'], \n",
       "      dtype='<U36')"
      ]
     },
     "execution_count": 42,
     "metadata": {},
     "output_type": "execute_result"
    }
   ],
   "source": [
    "n_auth[:20]"
   ]
  },
  {
   "cell_type": "code",
   "execution_count": 43,
   "metadata": {
    "collapsed": false
   },
   "outputs": [
    {
     "data": {
      "text/plain": [
       "array(['United States', 'Luxembourg', 'United Kingdom', 'Netherlands',\n",
       "       'Germany', 'Japan', 'France', 'China  P.R.: Hong Kong',\n",
       "       'Switzerland', 'Ireland', 'Belgium', 'Bermuda', 'Canada', 'Italy',\n",
       "       'Cayman Islands', 'Jersey', 'Norway', 'Spain', 'Singapore', 'Sweden'], \n",
       "      dtype='<U36')"
      ]
     },
     "execution_count": 43,
     "metadata": {},
     "output_type": "execute_result"
    }
   ],
   "source": [
    "n_hub[:20]"
   ]
  },
  {
   "cell_type": "code",
   "execution_count": 44,
   "metadata": {
    "collapsed": true
   },
   "outputs": [],
   "source": [
    "save_centrality(year, \"MultCoupCashFlow_Hub\", \"Hub Score\", n_hub, num_hub)\n",
    "save_centrality(year, \"MultCoupCashFlow_Auth\", \"Authority Score\", n_auth, num_auth)"
   ]
  },
  {
   "cell_type": "code",
   "execution_count": 45,
   "metadata": {
    "collapsed": false
   },
   "outputs": [
    {
     "data": {
      "text/plain": [
       "array(['United States', 'United Kingdom', 'Netherlands', 'France',\n",
       "       'Luxembourg', 'Germany', 'Ireland', 'Cayman Islands', 'Switzerland',\n",
       "       'Japan', 'Italy', 'Belgium', 'Spain', 'Canada', 'Australia',\n",
       "       'China  P.R.: Hong Kong', 'China  P.R.: Mainland', 'Singapore',\n",
       "       'Sweden', 'Brazil'], \n",
       "      dtype='<U36')"
      ]
     },
     "execution_count": 45,
     "metadata": {},
     "output_type": "execute_result"
    }
   ],
   "source": [
    "n_auth[:20]"
   ]
  },
  {
   "cell_type": "code",
   "execution_count": 46,
   "metadata": {
    "collapsed": false
   },
   "outputs": [
    {
     "data": {
      "text/plain": [
       "array(['United States', 'Luxembourg', 'United Kingdom', 'Netherlands',\n",
       "       'Germany', 'Japan', 'France', 'China  P.R.: Hong Kong',\n",
       "       'Switzerland', 'Ireland', 'Belgium', 'Bermuda', 'Canada', 'Italy',\n",
       "       'Cayman Islands', 'Jersey', 'Norway', 'Spain', 'Singapore', 'Sweden'], \n",
       "      dtype='<U36')"
      ]
     },
     "execution_count": 46,
     "metadata": {},
     "output_type": "execute_result"
    }
   ],
   "source": [
    "n_hub[:20]"
   ]
  },
  {
   "cell_type": "markdown",
   "metadata": {},
   "source": [
    "### other coup"
   ]
  },
  {
   "cell_type": "code",
   "execution_count": 47,
   "metadata": {
    "collapsed": true
   },
   "outputs": [],
   "source": [
    "G_supra_hub2 = make_supra_coup2(G_list_hub(AM_list), hub_auth_diag(In_list))\n",
    "G_supra_auth2 = make_supra_coup2(G_list_auth(AM_list), hub_auth_diag(In_list))"
   ]
  },
  {
   "cell_type": "code",
   "execution_count": 48,
   "metadata": {
    "collapsed": true
   },
   "outputs": [],
   "source": [
    "n_hub2, num_hub2 = get_hub_list(G_supra_hub2)\n",
    "n_auth2, num_auth2 = get_hub_list(G_supra_auth2)"
   ]
  },
  {
   "cell_type": "code",
   "execution_count": 49,
   "metadata": {
    "collapsed": false
   },
   "outputs": [],
   "source": [
    "#n_hub2, num_hub2 = get_eigenvector_list(igraph.Graph.Weighted_Adjacency(G_supra_hub2.tolist()))\n",
    "#n_auth2, num_auth2 = get_eigenvector_list(igraph.Graph.Weighted_Adjacency(G_supra_auth2.tolist()))"
   ]
  },
  {
   "cell_type": "code",
   "execution_count": 50,
   "metadata": {
    "collapsed": false
   },
   "outputs": [
    {
     "data": {
      "text/plain": [
       "array(['United States', 'United Kingdom', 'Netherlands', 'Luxembourg',\n",
       "       'France', 'Ireland', 'Germany', 'Cayman Islands', 'Switzerland',\n",
       "       'Japan', 'Belgium', 'Italy', 'Spain', 'Canada', 'Australia',\n",
       "       'China  P.R.: Mainland', 'China  P.R.: Hong Kong', 'Bermuda',\n",
       "       'Brazil', 'Singapore', 'Sweden', 'Korea  Republic of', 'Cyprus',\n",
       "       'Jersey', 'India', 'Mexico', 'South Africa', 'Denmark', 'Gibraltar',\n",
       "       'Taiwan Province of China'], \n",
       "      dtype='<U36')"
      ]
     },
     "execution_count": 50,
     "metadata": {},
     "output_type": "execute_result"
    }
   ],
   "source": [
    "n_auth2[:30]"
   ]
  },
  {
   "cell_type": "code",
   "execution_count": 51,
   "metadata": {
    "collapsed": false
   },
   "outputs": [
    {
     "data": {
      "text/plain": [
       "array(['United States', 'Luxembourg', 'United Kingdom', 'Japan',\n",
       "       'Netherlands', 'Germany', 'China  P.R.: Hong Kong', 'France',\n",
       "       'Switzerland', 'Canada', 'Ireland', 'Italy', 'Bermuda', 'Belgium',\n",
       "       'Norway', 'Spain', 'Sweden', 'Singapore', 'Jersey',\n",
       "       'China  P.R.: Mainland', 'South Africa', 'Cayman Islands',\n",
       "       'Australia', 'Denmark', 'Guernsey', 'Finland',\n",
       "       'Virgin Islands  British', 'Gibraltar', 'Korea  Republic of',\n",
       "       'Austria'], \n",
       "      dtype='<U36')"
      ]
     },
     "execution_count": 51,
     "metadata": {},
     "output_type": "execute_result"
    }
   ],
   "source": [
    "n_hub2[:30]"
   ]
  },
  {
   "cell_type": "code",
   "execution_count": 52,
   "metadata": {
    "collapsed": false
   },
   "outputs": [],
   "source": [
    "save_centrality(year, \"MultCoupRiskFlow_Hub\", \"Hub Score\", n_hub2, num_hub2)\n",
    "save_centrality(year, \"MultCoupRiskFlow_Auth\", \"Authority Score\", n_auth2, num_auth2)"
   ]
  },
  {
   "cell_type": "code",
   "execution_count": 53,
   "metadata": {
    "collapsed": false
   },
   "outputs": [
    {
     "data": {
      "text/plain": [
       "array([  1.75162684e+00,   2.28981910e-02,   1.40877055e-02,\n",
       "         1.18188042e-02,   1.17787839e-02,   9.21828951e-03,\n",
       "         7.49188193e-03,   6.92733554e-03,   4.91752008e-03,\n",
       "         3.74162955e-03,   3.31115658e-03,   3.13144791e-03,\n",
       "         3.07965051e-03,   2.80933093e-03,   2.78902181e-03,\n",
       "         1.95752617e-03,   1.89013740e-03,   1.73176617e-03,\n",
       "         1.61466686e-03,   1.19585050e-03])"
      ]
     },
     "execution_count": 53,
     "metadata": {},
     "output_type": "execute_result"
    }
   ],
   "source": [
    "num_hub2 [:20]"
   ]
  },
  {
   "cell_type": "code",
   "execution_count": null,
   "metadata": {
    "collapsed": true
   },
   "outputs": [],
   "source": []
  }
 ],
 "metadata": {
  "anaconda-cloud": {},
  "kernelspec": {
   "display_name": "Python [conda root]",
   "language": "python",
   "name": "conda-root-py"
  },
  "language_info": {
   "codemirror_mode": {
    "name": "ipython",
    "version": 3
   },
   "file_extension": ".py",
   "mimetype": "text/x-python",
   "name": "python",
   "nbconvert_exporter": "python",
   "pygments_lexer": "ipython3",
   "version": "3.5.2"
  }
 },
 "nbformat": 4,
 "nbformat_minor": 1
}
