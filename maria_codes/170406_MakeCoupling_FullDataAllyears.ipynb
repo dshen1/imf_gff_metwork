{
 "cells": [
  {
   "cell_type": "code",
   "execution_count": 5,
   "metadata": {
    "collapsed": false
   },
   "outputs": [],
   "source": [
    "import pandas as pd\n",
    "import MultiContagion as mc\n",
    "import igraph\n",
    "import random\n",
    "import numpy as np\n",
    "from matplotlib import pylab as plt\n",
    "import scipy.stats\n",
    "import copy\n",
    "from scipy.sparse import linalg as LA\n",
    "#import powerlaw\n",
    "%matplotlib inline"
   ]
  },
  {
   "cell_type": "code",
   "execution_count": 6,
   "metadata": {
    "collapsed": true
   },
   "outputs": [],
   "source": [
    "year = 2015"
   ]
  },
  {
   "cell_type": "code",
   "execution_count": 7,
   "metadata": {
    "collapsed": false
   },
   "outputs": [],
   "source": [
    "#import the aggregate adjacency matrix\n",
    "aggregate_am = np.genfromtxt ('csv_files/AM4_all_nodes_aggregateNorm'+str(year)+'.csv', delimiter=\",\")\n",
    "df_names = pd.read_csv('csv_files/all_country_name4.csv', header=None)\n",
    "names = list(df_names[0])\n",
    "Aggregate_g = igraph.Graph.Weighted_Adjacency(list(np.transpose(aggregate_am)))\n",
    "Aggregate_g.vs[\"name\"] = copy.deepcopy(names)"
   ]
  },
  {
   "cell_type": "code",
   "execution_count": 8,
   "metadata": {
    "collapsed": true
   },
   "outputs": [],
   "source": [
    "#Import the adjacency matrix and make graphs of all the layers.\n",
    "cdis_equity_am = np.genfromtxt ('csv_files/AM4_all_nodesNormCDIS-equity'+str(year)+'.csv', delimiter=\",\")\n",
    "cdis_equity_g = igraph.Graph.Weighted_Adjacency(list(cdis_equity_am))\n",
    "cdis_equity_g.vs[\"name\"] = copy.deepcopy(names)\n",
    "\n",
    "cdis_debt_am = np.genfromtxt ('csv_files/AM4_all_nodesNormCDIS-debt'+str(year)+'.csv', delimiter=\",\")\n",
    "cdis_debt_g = igraph.Graph.Weighted_Adjacency(list(cdis_debt_am))\n",
    "cdis_debt_g.vs[\"name\"] = copy.deepcopy(names)\n",
    "\n",
    "cpis_equity_am = np.genfromtxt ('csv_files/AM4_all_nodesNormCPIS-equity'+str(year)+'.csv', delimiter=\",\")\n",
    "cpis_equity_g = igraph.Graph.Weighted_Adjacency(list(cpis_equity_am))\n",
    "cpis_equity_g.vs[\"name\"] = copy.deepcopy(names)\n",
    "\n",
    "cpis_debt_am = np.genfromtxt ('csv_files/AM4_all_nodesNormCPIS-debt'+str(year)+'.csv', delimiter=\",\")\n",
    "cpis_debt_g = igraph.Graph.Weighted_Adjacency(list(cpis_debt_am))\n",
    "cpis_debt_g.vs[\"name\"] = copy.deepcopy(names)\n",
    "\n",
    "bis_am = np.genfromtxt ('csv_files/AM4_all_nodesNormBIS'+str(year)+'.csv', delimiter=\",\")\n",
    "bis_g = igraph.Graph.Weighted_Adjacency(list(bis_am))\n",
    "bis_g.vs[\"name\"] = copy.deepcopy(names)"
   ]
  },
  {
   "cell_type": "code",
   "execution_count": 9,
   "metadata": {
    "collapsed": true
   },
   "outputs": [],
   "source": [
    "G_list = [cdis_equity_g, cdis_debt_g, cpis_equity_g, cpis_debt_g, bis_g ]"
   ]
  },
  {
   "cell_type": "code",
   "execution_count": 10,
   "metadata": {
    "collapsed": true
   },
   "outputs": [],
   "source": [
    "AM_list = [np.transpose(cdis_equity_am), np.transpose(cdis_debt_am), np.transpose(cpis_equity_am), np.transpose(cpis_debt_am), np.transpose(bis_am) ]"
   ]
  },
  {
   "cell_type": "code",
   "execution_count": 11,
   "metadata": {
    "collapsed": true
   },
   "outputs": [],
   "source": [
    "G_list2 = [cdis_equity_g,cpis_equity_g, cpis_debt_g, bis_g ]\n",
    "AM_list2 = [cdis_equity_am, cpis_equity_am, cpis_debt_am, bis_am ]"
   ]
  },
  {
   "cell_type": "code",
   "execution_count": 12,
   "metadata": {
    "collapsed": true
   },
   "outputs": [],
   "source": [
    "In_list = [ np.array(g.strength(mode =\"IN\", weights= g.es[\"weight\"])) for g in G_list]\n",
    "Out_list = [ np.array(g.strength(mode =\"OUT\", weights= g.es[\"weight\"])) for g in G_list]"
   ]
  },
  {
   "cell_type": "code",
   "execution_count": 13,
   "metadata": {
    "collapsed": true
   },
   "outputs": [],
   "source": [
    "def make_supra_coup(list_adj, list_vector):\n",
    "    \"Takes a list of adjacency matrix and list of vectors to use as coupling for layers\"\n",
    "    n_layers = len(list_adj)\n",
    "    dim = list_adj[0].shape[0]\n",
    "    sup_list = []\n",
    "    for i in range(n_layers):\n",
    "        row = []\n",
    "        for j in range(n_layers):\n",
    "            if i == j:\n",
    "                row.append(list_adj[i])\n",
    "            else:\n",
    "                row.append(np.diag(list_vector[j]))\n",
    "        sup_list.append(row)\n",
    "    return np.bmat(sup_list)"
   ]
  },
  {
   "cell_type": "markdown",
   "metadata": {},
   "source": [
    "# For real"
   ]
  },
  {
   "cell_type": "code",
   "execution_count": 14,
   "metadata": {
    "collapsed": true
   },
   "outputs": [],
   "source": [
    "supra_adj = make_supra_coup(AM_list, In_list)\n",
    "G_supra = igraph.Graph.Weighted_Adjacency(supra_adj.tolist())\n",
    "complete_multi_pr = G_supra.personalized_pagerank(weights = G_supra.es[\"weight\"])"
   ]
  },
  {
   "cell_type": "code",
   "execution_count": 15,
   "metadata": {
    "collapsed": true
   },
   "outputs": [],
   "source": [
    "G_supra = igraph.Graph.Weighted_Adjacency(supra_adj.tolist())"
   ]
  },
  {
   "cell_type": "code",
   "execution_count": 16,
   "metadata": {
    "collapsed": false
   },
   "outputs": [],
   "source": [
    "G_supra = igraph.Graph.Weighted_Adjacency(supra_adj.tolist())"
   ]
  },
  {
   "cell_type": "code",
   "execution_count": 17,
   "metadata": {
    "collapsed": false
   },
   "outputs": [
    {
     "data": {
      "text/plain": [
       "(True, True)"
      ]
     },
     "execution_count": 17,
     "metadata": {},
     "output_type": "execute_result"
    }
   ],
   "source": [
    "G_supra.is_weighted(), G_supra.is_directed()"
   ]
  },
  {
   "cell_type": "code",
   "execution_count": 18,
   "metadata": {
    "collapsed": true
   },
   "outputs": [],
   "source": [
    "def save_centrality(y, namefile, namecent , country, cent):\n",
    "    f = open(\"centralities/\"+namefile+str(y) +\".csv\", \"w\")\n",
    "    f.write(\"Country,\"+namecent+\"\\n\")\n",
    "    n = len(country)\n",
    "    for i in range(n):\n",
    "        f.write(str(country[i]) + \",\" + str(cent[i])+ \"\\n\")\n",
    "    f.close()"
   ]
  },
  {
   "cell_type": "markdown",
   "metadata": {},
   "source": [
    "## PageRank"
   ]
  },
  {
   "cell_type": "code",
   "execution_count": 19,
   "metadata": {
    "collapsed": false
   },
   "outputs": [],
   "source": [
    "pr_agg = Aggregate_g.personalized_pagerank(weights = Aggregate_g.es[\"weight\"], damping = 0.85)\n",
    "node_names = np.array(copy.deepcopy(names))\n",
    "inds = np.array(pr_agg).argsort()[::-1][:]\n",
    "sort_names = node_names[inds]\n",
    "pr_agg_ord = np.array(pr_agg)[inds]"
   ]
  },
  {
   "cell_type": "code",
   "execution_count": 20,
   "metadata": {
    "collapsed": false
   },
   "outputs": [
    {
     "data": {
      "text/plain": [
       "array(['United States', 'Netherlands', 'United Kingdom', 'Germany',\n",
       "       'France', 'Luxembourg', 'Switzerland', 'Ireland',\n",
       "       'China  P.R.: Hong Kong', 'Belgium', 'Mauritius', 'Italy', 'Spain',\n",
       "       'Brazil', 'Russian Federation', 'Canada', 'China  P.R.: Mainland',\n",
       "       'Australia', 'Mexico', 'Cayman Islands', 'Virgin Islands  British',\n",
       "       'Singapore', 'Sweden', 'Bermuda', 'India', 'Japan', 'Cyprus',\n",
       "       'Austria', 'Norway', 'Poland'], \n",
       "      dtype='|S36')"
      ]
     },
     "execution_count": 20,
     "metadata": {},
     "output_type": "execute_result"
    }
   ],
   "source": [
    "sort_names[:30]"
   ]
  },
  {
   "cell_type": "code",
   "execution_count": 21,
   "metadata": {
    "collapsed": true
   },
   "outputs": [],
   "source": [
    "save_centrality(year, \"Agg_PageRank\", \"PageRank\", sort_names, pr_agg_ord)"
   ]
  },
  {
   "cell_type": "code",
   "execution_count": 22,
   "metadata": {
    "collapsed": true
   },
   "outputs": [],
   "source": [
    "def get_pagerank_list(G, n_layers = 5, names= names, r = 0.85):\n",
    "    pr = G.personalized_pagerank(weights = G.es[\"weight\"], damping = r)\n",
    "    multi_pr = []\n",
    "    n_nodes = int((len(G.degree()))/5)\n",
    "    multi_pr = []\n",
    "    for i in range(n_nodes):\n",
    "        cent = 0\n",
    "        for k in range(n_layers):\n",
    "            cent += pr[i + n_nodes*k] \n",
    "        multi_pr.append(cent)\n",
    "    node_names = np.array(copy.deepcopy(names))\n",
    "    inds = np.array(multi_pr).argsort()[::-1][:]\n",
    "    sort_names_multi_pr = node_names[inds]\n",
    "    multi_sort_pr = np.array(multi_pr)[inds]\n",
    "    return sort_names_multi_pr, multi_sort_pr"
   ]
  },
  {
   "cell_type": "code",
   "execution_count": 23,
   "metadata": {
    "collapsed": false
   },
   "outputs": [],
   "source": [
    "n_pr, num_pr = get_pagerank_list(G_supra, r = 0.85)"
   ]
  },
  {
   "cell_type": "code",
   "execution_count": 24,
   "metadata": {
    "collapsed": false
   },
   "outputs": [
    {
     "data": {
      "text/plain": [
       "array(['United States', 'United Kingdom', 'Netherlands', 'Germany',\n",
       "       'France', 'Luxembourg', 'Switzerland', 'Ireland',\n",
       "       'China  P.R.: Hong Kong', 'Mauritius', 'Belgium', 'Italy', 'Spain',\n",
       "       'Brazil', 'Canada', 'Russian Federation', 'Australia',\n",
       "       'China  P.R.: Mainland', 'Mexico', 'Singapore', 'Cayman Islands',\n",
       "       'Virgin Islands  British', 'Sweden', 'Japan', 'Bermuda', 'India',\n",
       "       'Cyprus', 'Austria', 'Norway', 'South Africa'], \n",
       "      dtype='|S36')"
      ]
     },
     "execution_count": 24,
     "metadata": {},
     "output_type": "execute_result"
    }
   ],
   "source": [
    "n_pr, num_pr = get_pagerank_list(G_supra, r = 0.85)\n",
    "n_pr[:30]"
   ]
  },
  {
   "cell_type": "code",
   "execution_count": 25,
   "metadata": {
    "collapsed": true
   },
   "outputs": [],
   "source": [
    "def make_supra_coup2(list_adj, list_vector):\n",
    "    \"Takes a list of adjacency matrix and list of vectors to use as coupling for layers\"\n",
    "    n_layers = len(list_adj)\n",
    "    dim = list_adj[0].shape[0]\n",
    "    sup_list = []\n",
    "    for i in range(n_layers):\n",
    "        row = []\n",
    "        for j in range(n_layers):\n",
    "            if i == j:\n",
    "                row.append(list_adj[i])\n",
    "            else:\n",
    "                row.append(np.diag(list_vector[i]))\n",
    "        sup_list.append(row)\n",
    "    return np.bmat(sup_list)"
   ]
  },
  {
   "cell_type": "code",
   "execution_count": 26,
   "metadata": {
    "collapsed": true
   },
   "outputs": [],
   "source": [
    "supra_adj2 = make_supra_coup2(AM_list, In_list)\n",
    "G_supra2 = igraph.Graph.Weighted_Adjacency(supra_adj2.tolist())"
   ]
  },
  {
   "cell_type": "code",
   "execution_count": 27,
   "metadata": {
    "collapsed": true
   },
   "outputs": [],
   "source": [
    "n_pr2, num_pr2 = get_pagerank_list(G_supra2)"
   ]
  },
  {
   "cell_type": "code",
   "execution_count": 28,
   "metadata": {
    "collapsed": false
   },
   "outputs": [],
   "source": [
    "n_pr2;"
   ]
  },
  {
   "cell_type": "code",
   "execution_count": 29,
   "metadata": {
    "collapsed": false
   },
   "outputs": [
    {
     "data": {
      "text/plain": [
       "array(['United States', 'United Kingdom', 'Netherlands', 'Luxembourg',\n",
       "       'France', 'Germany', 'China  P.R.: Mainland',\n",
       "       'China  P.R.: Hong Kong', 'Cayman Islands', 'Switzerland', 'Japan',\n",
       "       'Ireland', 'Italy', 'Canada', 'Mauritius', 'Australia', 'Spain',\n",
       "       'Belgium', 'India', 'Brazil', 'Russian Federation', 'Singapore',\n",
       "       'Mexico', 'Austria', 'Sweden', 'Korea  Republic of', 'Thailand',\n",
       "       'Panama', 'South Africa', 'Bermuda'], \n",
       "      dtype='|S36')"
      ]
     },
     "execution_count": 29,
     "metadata": {},
     "output_type": "execute_result"
    }
   ],
   "source": [
    "n_pr2, num_pr2 = get_pagerank_list(G_supra2, r = 0.85)\n",
    "n_pr2[:30]"
   ]
  },
  {
   "cell_type": "code",
   "execution_count": 30,
   "metadata": {
    "collapsed": false
   },
   "outputs": [],
   "source": [
    "save_centrality(year, \"MultCoupCashFlow_PageRank\", \"PageRank centrality\", n_pr, num_pr)"
   ]
  },
  {
   "cell_type": "code",
   "execution_count": 31,
   "metadata": {
    "collapsed": true
   },
   "outputs": [],
   "source": [
    "save_centrality(year, \"MultCoupRiskFlow_PageRank\", \"PageRank centrality\", n_pr2, num_pr2)"
   ]
  },
  {
   "cell_type": "markdown",
   "metadata": {
    "collapsed": true
   },
   "source": [
    "## Eigenvector"
   ]
  },
  {
   "cell_type": "code",
   "execution_count": 32,
   "metadata": {
    "collapsed": true
   },
   "outputs": [],
   "source": [
    "def get_eigenvector_list(G, n_layers = 5, names= names):\n",
    "    pr = G.eigenvector_centrality(weights = G.es[\"weight\"])\n",
    "    multi_pr = []\n",
    "    n_nodes = int((len(G.degree()))/5)\n",
    "    multi_pr = []\n",
    "    for i in range(n_nodes):\n",
    "        cent = 0\n",
    "        for k in range(n_layers):\n",
    "            cent += pr[i + n_nodes*k] \n",
    "        multi_pr.append(cent)\n",
    "    node_names = np.array(copy.deepcopy(names))\n",
    "    inds = np.array(multi_pr).argsort()[::-1][:]\n",
    "    sort_names_multi_pr = node_names[inds]\n",
    "    multi_sort_pr = np.array(multi_pr)[inds]\n",
    "    return sort_names_multi_pr, multi_sort_pr"
   ]
  },
  {
   "cell_type": "code",
   "execution_count": 33,
   "metadata": {
    "collapsed": false
   },
   "outputs": [
    {
     "name": "stderr",
     "output_type": "stream",
     "text": [
      "/home/user/anaconda2/lib/python2.7/site-packages/ipykernel/__main__.py:2: RuntimeWarning: Weighted directed graph in eigenvector centrality at centrality.c:362\n",
      "  from ipykernel import kernelapp as app\n"
     ]
    }
   ],
   "source": [
    "n_ei, num_ei = get_eigenvector_list(G_supra)\n",
    "n_ei2, num_ei2 = get_eigenvector_list(G_supra2)"
   ]
  },
  {
   "cell_type": "code",
   "execution_count": 34,
   "metadata": {
    "collapsed": false
   },
   "outputs": [],
   "source": [
    "n_ei2;"
   ]
  },
  {
   "cell_type": "code",
   "execution_count": 35,
   "metadata": {
    "collapsed": false
   },
   "outputs": [],
   "source": [
    "save_centrality(year, \"MultCoupCashFlow_Eigenvector\", \"Eigenvector centrality\", n_ei, num_ei)\n",
    "save_centrality(year, \"MultCoupRiskFlow_Eigenvector\", \"Eigenvector centrality\", n_ei2, num_ei2)"
   ]
  },
  {
   "cell_type": "markdown",
   "metadata": {},
   "source": [
    "## Hubs and Auth"
   ]
  },
  {
   "cell_type": "code",
   "execution_count": 36,
   "metadata": {
    "collapsed": true
   },
   "outputs": [],
   "source": [
    "def G_list_hub(G_adj_list):\n",
    "    G_hub = []\n",
    "    for g in G_adj_list:\n",
    "        new = np.dot(g, g.transpose())\n",
    "        G_hub.append(new)   \n",
    "    return G_hub"
   ]
  },
  {
   "cell_type": "code",
   "execution_count": 37,
   "metadata": {
    "collapsed": true
   },
   "outputs": [],
   "source": [
    "def G_list_auth(G_adj_list):\n",
    "    G_hub = []\n",
    "    for g in G_adj_list:\n",
    "        new = np.dot( g.transpose(), g)\n",
    "        G_hub.append(new)   \n",
    "    return G_hub"
   ]
  },
  {
   "cell_type": "code",
   "execution_count": 38,
   "metadata": {
    "collapsed": true
   },
   "outputs": [],
   "source": [
    "def hub_auth_diag(Coup_list):\n",
    "    coup = []\n",
    "    for c in Coup_list:\n",
    "        coup.append(c*c)\n",
    "    return coup"
   ]
  },
  {
   "cell_type": "code",
   "execution_count": 39,
   "metadata": {
    "collapsed": true
   },
   "outputs": [],
   "source": [
    "G_supra_hub = make_supra_coup(G_list_hub(AM_list), hub_auth_diag(In_list))\n",
    "G_supra_auth = make_supra_coup(G_list_auth(AM_list), hub_auth_diag(In_list))"
   ]
  },
  {
   "cell_type": "code",
   "execution_count": 40,
   "metadata": {
    "collapsed": false
   },
   "outputs": [
    {
     "data": {
      "text/plain": [
       "(1, 1065)"
      ]
     },
     "execution_count": 40,
     "metadata": {},
     "output_type": "execute_result"
    }
   ],
   "source": [
    "G_supra_hub[0].shape"
   ]
  },
  {
   "cell_type": "code",
   "execution_count": 41,
   "metadata": {
    "collapsed": false
   },
   "outputs": [],
   "source": [
    "def get_hub_list(AM, n_layers = 5, names= names):\n",
    "    hub_eig = LA.eigs(AM, k=1, which='LM')[1]\n",
    "    multi_pr = []\n",
    "    #print hub_eig[0]\n",
    "    n_nodes = int((AM[0].shape[1])/5.)\n",
    "    multi_pr = []\n",
    "    for i in range(n_nodes):\n",
    "        cent = 0\n",
    "        for k in range(n_layers):\n",
    "            \n",
    "            cent += abs(hub_eig[i + n_nodes*k])\n",
    "        \n",
    "        multi_pr.append(cent[0])\n",
    "    \n",
    "    node_names = np.array(copy.deepcopy(names))\n",
    "    inds = np.array(multi_pr).argsort()[::-1][:]\n",
    "    sort_names_multi_pr = node_names[inds]\n",
    "    multi_sort_pr = np.array(multi_pr)[inds]\n",
    "    return sort_names_multi_pr, multi_sort_pr"
   ]
  },
  {
   "cell_type": "code",
   "execution_count": 42,
   "metadata": {
    "collapsed": false
   },
   "outputs": [],
   "source": [
    "n_hub, num_hub = get_hub_list(G_supra_hub)\n",
    "n_auth, num_auth = get_hub_list(G_supra_auth)"
   ]
  },
  {
   "cell_type": "code",
   "execution_count": 43,
   "metadata": {
    "collapsed": false
   },
   "outputs": [],
   "source": [
    "n_auth, num_auth = get_hub_list(G_supra_auth)"
   ]
  },
  {
   "cell_type": "code",
   "execution_count": 44,
   "metadata": {
    "collapsed": false
   },
   "outputs": [
    {
     "data": {
      "text/plain": [
       "array(['Netherlands', 'United States', 'Luxembourg', 'United Kingdom',\n",
       "       'Germany', 'Ireland', 'Belgium', 'Switzerland', 'France', 'Spain',\n",
       "       'Brazil', 'Bermuda', 'Italy', 'Canada', 'Australia',\n",
       "       'China  P.R.: Hong Kong', 'Russian Federation', 'Sweden',\n",
       "       'Cayman Islands', 'Japan'], \n",
       "      dtype='|S36')"
      ]
     },
     "execution_count": 44,
     "metadata": {},
     "output_type": "execute_result"
    }
   ],
   "source": [
    "n_auth[:20]"
   ]
  },
  {
   "cell_type": "code",
   "execution_count": 45,
   "metadata": {
    "collapsed": false
   },
   "outputs": [
    {
     "data": {
      "text/plain": [
       "array(['Netherlands', 'United States', 'Luxembourg', 'United Kingdom',\n",
       "       'Belgium', 'Ireland', 'Germany', 'Switzerland', 'France', 'Bermuda',\n",
       "       'China  P.R.: Hong Kong', 'Cayman Islands', 'Canada', 'Sweden',\n",
       "       'Italy', 'Japan', 'Spain', 'Mexico', 'Singapore', 'Jersey'], \n",
       "      dtype='|S36')"
      ]
     },
     "execution_count": 45,
     "metadata": {},
     "output_type": "execute_result"
    }
   ],
   "source": [
    "n_hub[:20]"
   ]
  },
  {
   "cell_type": "code",
   "execution_count": 46,
   "metadata": {
    "collapsed": true
   },
   "outputs": [],
   "source": [
    "save_centrality(year, \"MultCoupCashFlow_Hub\", \"Hub Score\", n_hub, num_hub)\n",
    "save_centrality(year, \"MultCoupCashFlow_Auth\", \"Authority Score\", n_auth, num_auth)"
   ]
  },
  {
   "cell_type": "code",
   "execution_count": 47,
   "metadata": {
    "collapsed": false
   },
   "outputs": [
    {
     "data": {
      "text/plain": [
       "array(['Netherlands', 'United States', 'Luxembourg', 'United Kingdom',\n",
       "       'Germany', 'Ireland', 'Belgium', 'Switzerland', 'France', 'Spain',\n",
       "       'Brazil', 'Bermuda', 'Italy', 'Canada', 'Australia',\n",
       "       'China  P.R.: Hong Kong', 'Russian Federation', 'Sweden',\n",
       "       'Cayman Islands', 'Japan'], \n",
       "      dtype='|S36')"
      ]
     },
     "execution_count": 47,
     "metadata": {},
     "output_type": "execute_result"
    }
   ],
   "source": [
    "n_auth[:20]"
   ]
  },
  {
   "cell_type": "code",
   "execution_count": 48,
   "metadata": {
    "collapsed": false
   },
   "outputs": [
    {
     "data": {
      "text/plain": [
       "array(['Netherlands', 'United States', 'Luxembourg', 'United Kingdom',\n",
       "       'Belgium', 'Ireland', 'Germany', 'Switzerland', 'France', 'Bermuda',\n",
       "       'China  P.R.: Hong Kong', 'Cayman Islands', 'Canada', 'Sweden',\n",
       "       'Italy', 'Japan', 'Spain', 'Mexico', 'Singapore', 'Jersey'], \n",
       "      dtype='|S36')"
      ]
     },
     "execution_count": 48,
     "metadata": {},
     "output_type": "execute_result"
    }
   ],
   "source": [
    "n_hub[:20]"
   ]
  },
  {
   "cell_type": "markdown",
   "metadata": {},
   "source": [
    "### other coup"
   ]
  },
  {
   "cell_type": "code",
   "execution_count": 49,
   "metadata": {
    "collapsed": true
   },
   "outputs": [],
   "source": [
    "G_supra_hub2 = make_supra_coup2(G_list_hub(AM_list), hub_auth_diag(In_list))\n",
    "G_supra_auth2 = make_supra_coup2(G_list_auth(AM_list), hub_auth_diag(In_list))"
   ]
  },
  {
   "cell_type": "code",
   "execution_count": 50,
   "metadata": {
    "collapsed": true
   },
   "outputs": [],
   "source": [
    "n_hub2, num_hub2 = get_hub_list(G_supra_hub2)\n",
    "n_auth2, num_auth2 = get_hub_list(G_supra_auth2)"
   ]
  },
  {
   "cell_type": "code",
   "execution_count": 51,
   "metadata": {
    "collapsed": false
   },
   "outputs": [],
   "source": [
    "#n_hub2, num_hub2 = get_eigenvector_list(igraph.Graph.Weighted_Adjacency(G_supra_hub2.tolist()))\n",
    "#n_auth2, num_auth2 = get_eigenvector_list(igraph.Graph.Weighted_Adjacency(G_supra_auth2.tolist()))"
   ]
  },
  {
   "cell_type": "code",
   "execution_count": 52,
   "metadata": {
    "collapsed": false
   },
   "outputs": [
    {
     "data": {
      "text/plain": [
       "array(['United States', 'Germany', 'United Kingdom', 'Netherlands',\n",
       "       'Ireland', 'Luxembourg', 'Switzerland', 'Spain', 'France',\n",
       "       'Belgium', 'Brazil', 'Italy', 'Australia', 'Canada', 'Bermuda',\n",
       "       'Russian Federation', 'Sweden', 'Japan', 'Cayman Islands', 'Mexico',\n",
       "       'Norway', 'China  P.R.: Mainland', 'Singapore',\n",
       "       'China  P.R.: Hong Kong', 'United Arab Emirates', 'Hungary',\n",
       "       'Mauritius', 'Poland', 'Puerto Rico', 'Austria'], \n",
       "      dtype='|S36')"
      ]
     },
     "execution_count": 52,
     "metadata": {},
     "output_type": "execute_result"
    }
   ],
   "source": [
    "n_auth2[:30]"
   ]
  },
  {
   "cell_type": "code",
   "execution_count": 53,
   "metadata": {
    "collapsed": false
   },
   "outputs": [
    {
     "data": {
      "text/plain": [
       "array(['Netherlands', 'Luxembourg', 'United States', 'United Kingdom',\n",
       "       'Belgium', 'Ireland', 'Switzerland', 'France', 'Germany', 'Bermuda',\n",
       "       'Cayman Islands', 'Canada', 'Sweden', 'Italy', 'Japan', 'Mexico',\n",
       "       'Spain', 'China  P.R.: Hong Kong', 'Singapore', 'Jersey', 'Hungary',\n",
       "       'China  P.R.: Mainland', 'Australia', 'United Arab Emirates',\n",
       "       'Denmark', 'Russian Federation', 'Austria', 'Isle of Man', 'Norway',\n",
       "       'Finland'], \n",
       "      dtype='|S36')"
      ]
     },
     "execution_count": 53,
     "metadata": {},
     "output_type": "execute_result"
    }
   ],
   "source": [
    "n_hub2[:30]"
   ]
  },
  {
   "cell_type": "code",
   "execution_count": 54,
   "metadata": {
    "collapsed": false
   },
   "outputs": [],
   "source": [
    "save_centrality(year, \"MultCoupRiskFlow_Hub\", \"Hub Score\", n_hub2, num_hub2)\n",
    "save_centrality(year, \"MultCoupRiskFlow_Auth\", \"Authority Score\", n_auth2, num_auth2)"
   ]
  },
  {
   "cell_type": "code",
   "execution_count": 55,
   "metadata": {
    "collapsed": false
   },
   "outputs": [
    {
     "data": {
      "text/plain": [
       "array([ 0.64354552,  0.41965027,  0.37155333,  0.22015778,  0.21670951,\n",
       "        0.19763922,  0.19235927,  0.17597517,  0.16413228,  0.118482  ,\n",
       "        0.07241298,  0.06994872,  0.04819354,  0.04729882,  0.04482315,\n",
       "        0.04187269,  0.04084805,  0.03810544,  0.03725383,  0.0354914 ])"
      ]
     },
     "execution_count": 55,
     "metadata": {},
     "output_type": "execute_result"
    }
   ],
   "source": [
    "num_hub2 [:20]"
   ]
  },
  {
   "cell_type": "code",
   "execution_count": null,
   "metadata": {
    "collapsed": true
   },
   "outputs": [],
   "source": []
  }
 ],
 "metadata": {
  "anaconda-cloud": {},
  "kernelspec": {
   "display_name": "Python [conda root]",
   "language": "python",
   "name": "conda-root-py"
  },
  "language_info": {
   "codemirror_mode": {
    "name": "ipython",
    "version": 2
   },
   "file_extension": ".py",
   "mimetype": "text/x-python",
   "name": "python",
   "nbconvert_exporter": "python",
   "pygments_lexer": "ipython2",
   "version": "2.7.12"
  }
 },
 "nbformat": 4,
 "nbformat_minor": 1
}
