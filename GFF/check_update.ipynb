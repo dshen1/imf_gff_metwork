{
 "cells": [
  {
   "cell_type": "code",
   "execution_count": 8,
   "metadata": {
    "collapsed": true
   },
   "outputs": [],
   "source": [
    "import igraph\n",
    "import networkx as nx \n",
    "import numpy as np\n",
    "import pandas as pd \n",
    "import copy"
   ]
  },
  {
   "cell_type": "markdown",
   "metadata": {},
   "source": [
    "#### Use the way I process it "
   ]
  },
  {
   "cell_type": "code",
   "execution_count": 9,
   "metadata": {
    "collapsed": false
   },
   "outputs": [],
   "source": [
    "def preprocess(df):\n",
    "    keep_var = ['countrycode','counterpart_code','country','counterpart','year','CDIS_IAD','CPIS_IAP','CPIS_IAPD','CPIS_IAPE','loans_dep','total_claims']\n",
    "    df = df[keep_var]                           ## keep only used variables \n",
    "    df = df.replace(np.nan,0)                   ## turn na to zero \n",
    "    num = df._get_numeric_data()\n",
    "    num[num < 0] = 0                            ## turn negative to zero \n",
    "    df['total'] = df['total_claims']\n",
    "    df.fillna(0,inplace=True)\n",
    "    \n",
    "    return df \n",
    "\n",
    "def load_graph_nx(df,year,var):\n",
    "    ## clean the data first \n",
    "    df_y = df[df['year']==year].copy()\n",
    "    df_y.fillna(0,inplace=True)\n",
    "    df_y = df_y[df_y[var]>0]\n",
    "    #G = nx.from_pandas_dataframe(df_y, source=\"country\", target=\"counterpart\", edge_attr=[var],create_using=nx.DiGraph())\n",
    "    G = nx.from_pandas_dataframe(df_y, source=\"counterpart\", target=\"country\", edge_attr=[var],create_using=nx.DiGraph())\n",
    "    return G\n"
   ]
  },
  {
   "cell_type": "code",
   "execution_count": 10,
   "metadata": {
    "collapsed": true
   },
   "outputs": [],
   "source": [
    "## read pre-processed data from stata\n",
    "df = pd.read_stata('../data/0_CPIS_CDIS_BIS_USTIC_merged_fixed5.dta')\n",
    "df = preprocess(df)"
   ]
  },
  {
   "cell_type": "code",
   "execution_count": 11,
   "metadata": {
    "collapsed": false
   },
   "outputs": [
    {
     "data": {
      "text/html": [
       "<div>\n",
       "<table border=\"1\" class=\"dataframe\">\n",
       "  <thead>\n",
       "    <tr style=\"text-align: right;\">\n",
       "      <th></th>\n",
       "      <th>countrycode</th>\n",
       "      <th>counterpart_code</th>\n",
       "      <th>country</th>\n",
       "      <th>counterpart</th>\n",
       "      <th>year</th>\n",
       "      <th>CDIS_IAD</th>\n",
       "      <th>CPIS_IAP</th>\n",
       "      <th>CPIS_IAPD</th>\n",
       "      <th>CPIS_IAPE</th>\n",
       "      <th>loans_dep</th>\n",
       "      <th>total_claims</th>\n",
       "      <th>total</th>\n",
       "    </tr>\n",
       "  </thead>\n",
       "  <tbody>\n",
       "    <tr>\n",
       "      <th>88318</th>\n",
       "      <td>924.0</td>\n",
       "      <td>111.0</td>\n",
       "      <td>China, P.R.: Mainland</td>\n",
       "      <td>United States</td>\n",
       "      <td>2015</td>\n",
       "      <td>25952.001953</td>\n",
       "      <td>1844020.0</td>\n",
       "      <td>1513531.0</td>\n",
       "      <td>330489.0</td>\n",
       "      <td>97638.0</td>\n",
       "      <td>1967610.0</td>\n",
       "      <td>1967610.0</td>\n",
       "    </tr>\n",
       "  </tbody>\n",
       "</table>\n",
       "</div>"
      ],
      "text/plain": [
       "       countrycode  counterpart_code                country    counterpart  \\\n",
       "88318        924.0             111.0  China, P.R.: Mainland  United States   \n",
       "\n",
       "       year      CDIS_IAD   CPIS_IAP  CPIS_IAPD  CPIS_IAPE  loans_dep  \\\n",
       "88318  2015  25952.001953  1844020.0  1513531.0   330489.0    97638.0   \n",
       "\n",
       "       total_claims      total  \n",
       "88318     1967610.0  1967610.0  "
      ]
     },
     "execution_count": 11,
     "metadata": {},
     "output_type": "execute_result"
    }
   ],
   "source": [
    "#df[(df.country == 'United States') & (df.counterpart == 'United Kingdom')&(df.year == 2015)]\n",
    "df[(df.country == 'China, P.R.: Mainland') & (df.counterpart == 'United States')&(df.year == 2015)]"
   ]
  },
  {
   "cell_type": "markdown",
   "metadata": {},
   "source": [
    "#### Igraph"
   ]
  },
  {
   "cell_type": "markdown",
   "metadata": {},
   "source": [
    "### Use the adj matrix"
   ]
  },
  {
   "cell_type": "code",
   "execution_count": 17,
   "metadata": {
    "collapsed": false
   },
   "outputs": [],
   "source": [
    "year = 2015\n",
    "#import the aggregate adjacency matrix\n",
    "aggregate_am = np.genfromtxt ('../data/adj/AM4_all_nodes_aggregate'+str(year)+'.csv', delimiter=\",\")\n",
    "df_names = pd.read_csv('../data/adj/all_country_name4.csv', header=None)\n",
    "names = list(df_names[0])\n",
    "Aggregate_g = igraph.Graph.Weighted_Adjacency(list(aggregate_am))\n",
    "Aggregate_g.vs[\"name\"] = copy.deepcopy(names)"
   ]
  },
  {
   "cell_type": "code",
   "execution_count": 18,
   "metadata": {
    "collapsed": false
   },
   "outputs": [
    {
     "data": {
      "text/plain": [
       "igraph.Edge(<igraph.Graph object at 0x7f2c662d3228>, 13554, {'weight': 1967610.001953125})"
      ]
     },
     "execution_count": 18,
     "metadata": {},
     "output_type": "execute_result"
    }
   ],
   "source": [
    "i =  Aggregate_g.get_eid('United States','China  P.R.: Mainland')\n",
    "Aggregate_g.es[i]"
   ]
  },
  {
   "cell_type": "markdown",
   "metadata": {},
   "source": [
    "- I change the norm = False, now we are getting the same edge weight "
   ]
  },
  {
   "cell_type": "code",
   "execution_count": 20,
   "metadata": {
    "collapsed": false,
    "scrolled": true
   },
   "outputs": [
    {
     "data": {
      "text/html": [
       "<div>\n",
       "<table border=\"1\" class=\"dataframe\">\n",
       "  <thead>\n",
       "    <tr style=\"text-align: right;\">\n",
       "      <th></th>\n",
       "      <th>country</th>\n",
       "      <th>centrality</th>\n",
       "    </tr>\n",
       "  </thead>\n",
       "  <tbody>\n",
       "    <tr>\n",
       "      <th>201</th>\n",
       "      <td>United States</td>\n",
       "      <td>0.138609</td>\n",
       "    </tr>\n",
       "    <tr>\n",
       "      <th>200</th>\n",
       "      <td>United Kingdom</td>\n",
       "      <td>0.081233</td>\n",
       "    </tr>\n",
       "    <tr>\n",
       "      <th>116</th>\n",
       "      <td>Luxembourg</td>\n",
       "      <td>0.070937</td>\n",
       "    </tr>\n",
       "    <tr>\n",
       "      <th>137</th>\n",
       "      <td>Netherlands</td>\n",
       "      <td>0.061216</td>\n",
       "    </tr>\n",
       "    <tr>\n",
       "      <th>68</th>\n",
       "      <td>France</td>\n",
       "      <td>0.053207</td>\n",
       "    </tr>\n",
       "    <tr>\n",
       "      <th>74</th>\n",
       "      <td>Germany</td>\n",
       "      <td>0.051236</td>\n",
       "    </tr>\n",
       "    <tr>\n",
       "      <th>98</th>\n",
       "      <td>Japan</td>\n",
       "      <td>0.035362</td>\n",
       "    </tr>\n",
       "    <tr>\n",
       "      <th>41</th>\n",
       "      <td>China  P.R.: Hong Kong</td>\n",
       "      <td>0.028973</td>\n",
       "    </tr>\n",
       "    <tr>\n",
       "      <th>181</th>\n",
       "      <td>Switzerland</td>\n",
       "      <td>0.026556</td>\n",
       "    </tr>\n",
       "    <tr>\n",
       "      <th>43</th>\n",
       "      <td>China  P.R.: Mainland</td>\n",
       "      <td>0.022566</td>\n",
       "    </tr>\n",
       "    <tr>\n",
       "      <th>96</th>\n",
       "      <td>Italy</td>\n",
       "      <td>0.021060</td>\n",
       "    </tr>\n",
       "    <tr>\n",
       "      <th>36</th>\n",
       "      <td>Canada</td>\n",
       "      <td>0.019192</td>\n",
       "    </tr>\n",
       "    <tr>\n",
       "      <th>19</th>\n",
       "      <td>Belgium</td>\n",
       "      <td>0.018179</td>\n",
       "    </tr>\n",
       "    <tr>\n",
       "      <th>93</th>\n",
       "      <td>Ireland</td>\n",
       "      <td>0.017206</td>\n",
       "    </tr>\n",
       "    <tr>\n",
       "      <th>37</th>\n",
       "      <td>Cayman Islands</td>\n",
       "      <td>0.013900</td>\n",
       "    </tr>\n",
       "    <tr>\n",
       "      <th>172</th>\n",
       "      <td>Spain</td>\n",
       "      <td>0.012557</td>\n",
       "    </tr>\n",
       "    <tr>\n",
       "      <th>180</th>\n",
       "      <td>Sweden</td>\n",
       "      <td>0.012367</td>\n",
       "    </tr>\n",
       "    <tr>\n",
       "      <th>166</th>\n",
       "      <td>Singapore</td>\n",
       "      <td>0.012272</td>\n",
       "    </tr>\n",
       "    <tr>\n",
       "      <th>143</th>\n",
       "      <td>Norway</td>\n",
       "      <td>0.011271</td>\n",
       "    </tr>\n",
       "    <tr>\n",
       "      <th>22</th>\n",
       "      <td>Bermuda</td>\n",
       "      <td>0.010966</td>\n",
       "    </tr>\n",
       "  </tbody>\n",
       "</table>\n",
       "</div>"
      ],
      "text/plain": [
       "                    country  centrality\n",
       "201           United States    0.138609\n",
       "200          United Kingdom    0.081233\n",
       "116              Luxembourg    0.070937\n",
       "137             Netherlands    0.061216\n",
       "68                   France    0.053207\n",
       "74                  Germany    0.051236\n",
       "98                    Japan    0.035362\n",
       "41   China  P.R.: Hong Kong    0.028973\n",
       "181             Switzerland    0.026556\n",
       "43    China  P.R.: Mainland    0.022566\n",
       "96                    Italy    0.021060\n",
       "36                   Canada    0.019192\n",
       "19                  Belgium    0.018179\n",
       "93                  Ireland    0.017206\n",
       "37           Cayman Islands    0.013900\n",
       "172                   Spain    0.012557\n",
       "180                  Sweden    0.012367\n",
       "166               Singapore    0.012272\n",
       "143                  Norway    0.011271\n",
       "22                  Bermuda    0.010966"
      ]
     },
     "execution_count": 20,
     "metadata": {},
     "output_type": "execute_result"
    }
   ],
   "source": [
    "PR = Aggregate_g.personalized_pagerank(weights=Aggregate_g.es[\"weight\"])\n",
    "pr= zip(Aggregate_g.vs[\"name\"],PR)\n",
    "c_df = pd.DataFrame(list(pr),columns=['country','centrality']) \n",
    "c_df.sort_values(by='centrality',ascending=0,inplace=True)                 ## sort it \n",
    "c_df.head(20)"
   ]
  },
  {
   "cell_type": "code",
   "execution_count": 21,
   "metadata": {
    "collapsed": false
   },
   "outputs": [
    {
     "data": {
      "text/html": [
       "<div>\n",
       "<table border=\"1\" class=\"dataframe\">\n",
       "  <thead>\n",
       "    <tr style=\"text-align: right;\">\n",
       "      <th></th>\n",
       "      <th>country</th>\n",
       "      <th>centrality</th>\n",
       "    </tr>\n",
       "  </thead>\n",
       "  <tbody>\n",
       "    <tr>\n",
       "      <th>200</th>\n",
       "      <td>United Kingdom</td>\n",
       "      <td>0.081233</td>\n",
       "    </tr>\n",
       "  </tbody>\n",
       "</table>\n",
       "</div>"
      ],
      "text/plain": [
       "            country  centrality\n",
       "200  United Kingdom    0.081233"
      ]
     },
     "execution_count": 21,
     "metadata": {},
     "output_type": "execute_result"
    }
   ],
   "source": [
    "c_df[c_df.country==\"United Kingdom\"]"
   ]
  },
  {
   "cell_type": "markdown",
   "metadata": {
    "collapsed": false
   },
   "source": [
    "- and the results are different"
   ]
  },
  {
   "cell_type": "code",
   "execution_count": null,
   "metadata": {
    "collapsed": true
   },
   "outputs": [],
   "source": []
  }
 ],
 "metadata": {
  "kernelspec": {
   "display_name": "Python [default]",
   "language": "python",
   "name": "python3"
  },
  "language_info": {
   "codemirror_mode": {
    "name": "ipython",
    "version": 3
   },
   "file_extension": ".py",
   "mimetype": "text/x-python",
   "name": "python",
   "nbconvert_exporter": "python",
   "pygments_lexer": "ipython3",
   "version": "3.5.2"
  }
 },
 "nbformat": 4,
 "nbformat_minor": 2
}
