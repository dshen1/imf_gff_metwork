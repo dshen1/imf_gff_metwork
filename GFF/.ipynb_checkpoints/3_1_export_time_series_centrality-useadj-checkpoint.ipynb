{
 "cells": [
  {
   "cell_type": "code",
   "execution_count": 1,
   "metadata": {
    "collapsed": false
   },
   "outputs": [],
   "source": [
    "import csv\n",
    "import networkx as nx \n",
    "import numpy as np\n",
    "import pandas as pd \n",
    "import igraph\n",
    "from itertools import compress\n",
    "import matplotlib.pyplot as plt \n",
    "import seaborn as sns\n",
    "import copy\n",
    "from seaborn import color_palette, set_style, palplot\n",
    "plt.style.use('ggplot')\n",
    "%matplotlib inline\n",
    "\n",
    "import warnings\n",
    "warnings.filterwarnings('ignore')"
   ]
  },
  {
   "cell_type": "markdown",
   "metadata": {},
   "source": [
    "#### Load and clean data "
   ]
  },
  {
   "cell_type": "code",
   "execution_count": 2,
   "metadata": {
    "collapsed": false,
    "scrolled": false
   },
   "outputs": [],
   "source": [
    "#import the aggregate adjacency matrix\n",
    "def load_graph_from_adj(adj,country_name):\n",
    "    '''\n",
    "    load pre-prepared adj matrix, load country names form csv file as well \n",
    "    return networkx directed graph file\n",
    "    '''\n",
    "    aggregate_am = np.genfromtxt (adj, delimiter=\",\")\n",
    "    df_names = pd.read_csv('../data/adj/all_country_name4.csv', header=None)\n",
    "    names = list(df_names[0])\n",
    "    #G = nx.from_numpy_matrix(np.transpose(aggregate_am),create_using=nx.DiGraph())\n",
    "    G = nx.from_numpy_matrix(np.transpose(aggregate_am),create_using=nx.DiGraph())\n",
    "    node_list = G.nodes()\n",
    "    mapname = dict(zip(node_list,names))\n",
    "    G = nx.relabel_nodes(G,mapname)\n",
    "    \n",
    "    return G"
   ]
  },
  {
   "cell_type": "markdown",
   "metadata": {},
   "source": [
    "#### Create centrality measure time series "
   ]
  },
  {
   "cell_type": "code",
   "execution_count": 3,
   "metadata": {
    "collapsed": false
   },
   "outputs": [],
   "source": [
    "def merge_degree(degree_centrality,G,var,year):\n",
    "    # Find nodes with highest degree, unweighted \n",
    "    k=G.degree(weight=var)                                 ## get the degree centrality for all countries \n",
    "    k = pd.DataFrame(list(k.items()),columns=['country',year])      ## make it into dataframe\n",
    "    k.sort_values(by=year,ascending=0,inplace=True)                 ## sort it \n",
    "    if degree_centrality is None:\n",
    "        degree_centrality = k\n",
    "    else:\n",
    "        degree_centrality = pd.merge(degree_centrality,k,on='country',how='outer')\n",
    "    return degree_centrality\n",
    "\n",
    "def merge_between(between_centrality,G,var,year):\n",
    "    ## betweeness \n",
    "    b = nx.betweenness_centrality(G,weight=var)  # weight='total_weight'\n",
    "    between = pd.DataFrame(list(b.items()),columns=['country',year])      ## make it into dataframe\n",
    "    between.sort_values(by=year,ascending=0,inplace=True)    \n",
    "    if between_centrality is None:\n",
    "        between_centrality = between\n",
    "    else:\n",
    "        between_centrality = pd.merge(between_centrality,between,on='country',how='outer')\n",
    "    return between_centrality\n",
    "\n",
    "def merge_eigenvector(eigenvector_centrality,G,var,year):\n",
    "    ## eigenvector centrality\n",
    "    e = nx.eigenvector_centrality_numpy(G,weight=var)\n",
    "    eigenvector = pd.DataFrame(list(e.items()),columns=['country',year])      ## make it into dataframe\n",
    "    eigenvector.sort_values(by=year,ascending=0,inplace=True)    \n",
    "    if eigenvector_centrality is None:\n",
    "        eigenvector_centrality = eigenvector\n",
    "    else:\n",
    "        eigenvector_centrality = pd.merge(eigenvector_centrality,eigenvector,on ='country',how='outer')\n",
    "    return eigenvector_centrality\n",
    "\n",
    "def merge_closeness(closeness_centrality,G,var,year):\n",
    "    ## closeness centrality\n",
    "    c=nx.closeness_centrality(G,distance =var )\n",
    "    closeness = pd.DataFrame(list(c.items()),columns=['country',year])      ## make it into dataframe\n",
    "    closeness.sort_values(by=year,ascending=0,inplace=True)   \n",
    "    if closeness_centrality is None:\n",
    "        closeness_centrality = closeness\n",
    "    else:\n",
    "        closeness_centrality = pd.merge(closeness_centrality,closeness,on ='country',how='outer')\n",
    "    return closeness_centrality\n",
    "\n",
    "def merge_local_cluster_coef(local_cluster,G,var,year):\n",
    "    ## local cluster coefficient\n",
    "    ud_G = to_undirected(G)\n",
    "    lc=nx.clustering(G=ud_G,weight = 'weight')                           ## after changing to un_directed, weight name changed to weeight\n",
    "    lc_df = pd.DataFrame(list(lc.items()),columns=['country',year])      ## make it into dataframe\n",
    "    lc_df.sort_values(by=year,ascending=0,inplace=True)   \n",
    "    if local_cluster is None:\n",
    "        local_cluster = lc_df\n",
    "    else:\n",
    "        local_cluster = pd.merge(local_cluster,lc_df,on ='country',how='outer')\n",
    "    return local_cluster\n",
    "\n",
    "def merge_pagerank(pagerank_centrality,G,var,year):\n",
    "    ## pagerank centrality\n",
    "    p = nx.pagerank(G,weight=var)\n",
    "    pagerank = pd.DataFrame(list(p.items()),columns=['country',year])      ## make it into dataframe\n",
    "    pagerank.sort_values(by=year,ascending=0,inplace=True)    \n",
    "    if pagerank_centrality is None:\n",
    "        pagerank_centrality = pagerank\n",
    "    else:\n",
    "        pagerank_centrality = pd.merge(pagerank_centrality,pagerank,on ='country',how='outer')\n",
    "    return pagerank_centrality\n",
    "\n",
    "def to_undirected(G):\n",
    "    node_list = G.nodes()\n",
    "    node_list.sort()\n",
    "    A = nx.to_numpy_matrix(G = G,nodelist=node_list,weight=var)\n",
    "    ud_M = A + A.T \n",
    "    ud_G = nx.from_numpy_matrix(ud_M)\n",
    "    ## relable node to country name \n",
    "    maplist = dict(zip(ud_G.nodes(), node_list))\n",
    "    ud_G = nx.relabel_nodes(ud_G,maplist)\n",
    "    return ud_G\n",
    "\n",
    "def plot_top_n(centrality,n):\n",
    "    top10 = centrality.ix[0:n]\n",
    "    top10.index = top10.country\n",
    "    top10.drop(labels='country',axis=1,inplace=True)\n",
    "    top10.T.sort_index().plot().legend(loc='center left', bbox_to_anchor=(1, 0.5))\n",
    "    \n",
    "def export_to_excel(name):\n",
    "    writer = pd.ExcelWriter(name+'.xlsx', engine='xlsxwriter')\n",
    "    #degree_centrality.to_excel(writer, sheet_name='degree')\n",
    "    #between_centrality.to_excel(writer, sheet_name='between')\n",
    "    #eigenvector_centrality.to_excel(writer, sheet_name='eigenvector')\n",
    "    pagerank_centrality.to_excel(writer, sheet_name='pagerank')\n",
    "    #closeness_centrality.to_excel(writer,sheet_name = 'closeness')\n",
    "    #local_cluster.to_excel(writer,sheet_name = 'cluster')\n",
    "    writer.save()"
   ]
  },
  {
   "cell_type": "markdown",
   "metadata": {
    "collapsed": false,
    "scrolled": true
   },
   "source": [
    "### General statistics "
   ]
  },
  {
   "cell_type": "code",
   "execution_count": 4,
   "metadata": {
    "collapsed": false
   },
   "outputs": [
    {
     "name": "stdout",
     "output_type": "stream",
     "text": [
      "weight\n"
     ]
    }
   ],
   "source": [
    "var_weight = ['weight']\n",
    "country_name = '../data/adj/all_country_name4.csv'\n",
    "\n",
    "for var in var_weight:\n",
    "\n",
    "    degree_centrality = None\n",
    "    between_centrality = None\n",
    "    eigenvector_centrality = None\n",
    "    closeness_centrality = None\n",
    "    local_cluster = None\n",
    "    pagerank_centrality= None\n",
    "    print(var)\n",
    "    for year in range(2009,2016):\n",
    "        adj = '../data/adj/AM4_all_nodes_aggregate' + str(year) +'.csv' \n",
    "        G = load_graph_from_adj(adj,country_name)\n",
    "        #degree_centrality =  merge_degree(degree_centrality,G,var,year)\n",
    "        #between_centrality = merge_between(between_centrality,G,var_dist,year)       ## not weighted \n",
    "        #eigenvector_centrality = merge_eigenvector(eigenvector_centrality,G,var,year)\n",
    "        pagerank_centrality = merge_pagerank(pagerank_centrality,G,var,year)\n",
    "        #closeness_centrality = merge_closeness(closeness_centrality,G,var_dist,year) ## use distance measure\n",
    "        #local_cluster = merge_local_cluster_coef(local_cluster,G,var,year)\n",
    "    ## exoprt to \n",
    "    export_to_excel('../result/excel/'+var)"
   ]
  },
  {
   "cell_type": "markdown",
   "metadata": {
    "collapsed": true
   },
   "source": [
    "### Visualize"
   ]
  },
  {
   "cell_type": "code",
   "execution_count": 5,
   "metadata": {
    "collapsed": false
   },
   "outputs": [
    {
     "data": {
      "image/png": "[encoded data removed]",
      "text/plain": [
       "<matplotlib.figure.Figure at 0x7f8102f52940>"
      ]
     },
     "metadata": {},
     "output_type": "display_data"
    }
   ],
   "source": [
    "plot_top_n(pagerank_centrality,10)"
   ]
  },
  {
   "cell_type": "code",
   "execution_count": null,
   "metadata": {
    "collapsed": true
   },
   "outputs": [],
   "source": []
  }
 ],
 "metadata": {
  "kernelspec": {
   "display_name": "Python [default]",
   "language": "python",
   "name": "python3"
  },
  "language_info": {
   "codemirror_mode": {
    "name": "ipython",
    "version": 3
   },
   "file_extension": ".py",
   "mimetype": "text/x-python",
   "name": "python",
   "nbconvert_exporter": "python",
   "pygments_lexer": "ipython3",
   "version": "3.5.2"
  }
 },
 "nbformat": 4,
 "nbformat_minor": 2
}
