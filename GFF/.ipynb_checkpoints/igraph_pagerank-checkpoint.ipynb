{
 "cells": [
  {
   "cell_type": "code",
   "execution_count": 236,
   "metadata": {
    "collapsed": true
   },
   "outputs": [],
   "source": [
    "import igraph\n",
    "import networkx as nx \n",
    "import numpy as np\n",
    "import pandas as pd \n",
    "import copy"
   ]
  },
  {
   "cell_type": "markdown",
   "metadata": {},
   "source": [
    "#### Use the way I process it "
   ]
  },
  {
   "cell_type": "code",
   "execution_count": 239,
   "metadata": {
    "collapsed": false
   },
   "outputs": [],
   "source": [
    "def preprocess(df):\n",
    "    keep_var = ['countrycode','counterpart_code','country','counterpart','year','CDIS_IAD','CPIS_IAP','loans_dep','total_claims']\n",
    "    df = df[keep_var]                           ## keep only used variables \n",
    "    df = df.replace(np.nan,0)                   ## turn na to zero \n",
    "    num = df._get_numeric_data()\n",
    "    num[num < 0] = 0                            ## turn negative to zero \n",
    "    df['total'] = df[['total_claims']].sum(axis=1)\n",
    "    df.fillna(0,inplace=True)\n",
    "    \n",
    "    return df \n",
    "\n",
    "def load_graph_nx(df,year,var):\n",
    "    ## clean the data first \n",
    "    df_y = df[df['year']==year].copy()\n",
    "    df_y.fillna(0,inplace=True)\n",
    "    df_y = df_y[df_y[var]>0]\n",
    "    #G = nx.from_pandas_dataframe(df_y, source=\"country\", target=\"counterpart\", edge_attr=[var],create_using=nx.DiGraph())\n",
    "    G = nx.from_pandas_dataframe(df_y, source=\"counterpart\", target=\"country\", edge_attr=[var],create_using=nx.DiGraph())\n",
    "    return G\n"
   ]
  },
  {
   "cell_type": "code",
   "execution_count": 240,
   "metadata": {
    "collapsed": false
   },
   "outputs": [],
   "source": [
    "## read pre-processed data from stata\n",
    "df = pd.read_stata('../data/0_CPIS_CDIS_BIS_USTIC_merged_fixed4.dta')\n",
    "df = preprocess(df)"
   ]
  },
  {
   "cell_type": "code",
   "execution_count": 241,
   "metadata": {
    "collapsed": false
   },
   "outputs": [],
   "source": [
    "## export all files to gephi\n",
    "files = [(2015,'total')]\n",
    "for x in files:\n",
    "    year,var = x \n",
    "    G = load_graph_nx(df,year,var)"
   ]
  },
  {
   "cell_type": "code",
   "execution_count": 242,
   "metadata": {
    "collapsed": false,
    "scrolled": true
   },
   "outputs": [
    {
     "data": {
      "text/html": [
       "<div>\n",
       "<table border=\"1\" class=\"dataframe\">\n",
       "  <thead>\n",
       "    <tr style=\"text-align: right;\">\n",
       "      <th></th>\n",
       "      <th>country</th>\n",
       "      <th>centrality</th>\n",
       "    </tr>\n",
       "  </thead>\n",
       "  <tbody>\n",
       "    <tr>\n",
       "      <th>177</th>\n",
       "      <td>United States</td>\n",
       "      <td>0.140484</td>\n",
       "    </tr>\n",
       "    <tr>\n",
       "      <th>19</th>\n",
       "      <td>United Kingdom</td>\n",
       "      <td>0.083465</td>\n",
       "    </tr>\n",
       "    <tr>\n",
       "      <th>184</th>\n",
       "      <td>Luxembourg</td>\n",
       "      <td>0.073232</td>\n",
       "    </tr>\n",
       "    <tr>\n",
       "      <th>4</th>\n",
       "      <td>Netherlands</td>\n",
       "      <td>0.062734</td>\n",
       "    </tr>\n",
       "    <tr>\n",
       "      <th>156</th>\n",
       "      <td>France</td>\n",
       "      <td>0.054287</td>\n",
       "    </tr>\n",
       "  </tbody>\n",
       "</table>\n",
       "</div>"
      ],
      "text/plain": [
       "            country  centrality\n",
       "177   United States    0.140484\n",
       "19   United Kingdom    0.083465\n",
       "184      Luxembourg    0.073232\n",
       "4       Netherlands    0.062734\n",
       "156          France    0.054287"
      ]
     },
     "execution_count": 242,
     "metadata": {},
     "output_type": "execute_result"
    }
   ],
   "source": [
    "var = 'total'\n",
    "c = nx.pagerank(G,weight=var)\n",
    "c_df = pd.DataFrame(list(c.items()),columns=['country','centrality'])      ## make it into dataframe\n",
    "c_df.sort_values(by='centrality',ascending=0,inplace=True)                 ## sort it \n",
    "c_df.head(5)"
   ]
  },
  {
   "cell_type": "code",
   "execution_count": 243,
   "metadata": {
    "collapsed": false
   },
   "outputs": [
    {
     "data": {
      "text/plain": [
       "35676003.20309484"
      ]
     },
     "execution_count": 243,
     "metadata": {},
     "output_type": "execute_result"
    }
   ],
   "source": [
    "G.degree(weight='total')['United States']"
   ]
  },
  {
   "cell_type": "code",
   "execution_count": 244,
   "metadata": {
    "collapsed": false
   },
   "outputs": [
    {
     "data": {
      "text/plain": [
       "13673349.121010609"
      ]
     },
     "execution_count": 244,
     "metadata": {},
     "output_type": "execute_result"
    }
   ],
   "source": [
    "G.degree(weight='total')['Netherlands']"
   ]
  },
  {
   "cell_type": "code",
   "execution_count": 245,
   "metadata": {
    "collapsed": false
   },
   "outputs": [
    {
     "data": {
      "text/plain": [
       "{'total': 2348202.0}"
      ]
     },
     "execution_count": 245,
     "metadata": {},
     "output_type": "execute_result"
    }
   ],
   "source": [
    "G['United States']['United Kingdom']"
   ]
  },
  {
   "cell_type": "code",
   "execution_count": 246,
   "metadata": {
    "collapsed": false
   },
   "outputs": [
    {
     "data": {
      "text/html": [
       "<div>\n",
       "<table border=\"1\" class=\"dataframe\">\n",
       "  <thead>\n",
       "    <tr style=\"text-align: right;\">\n",
       "      <th></th>\n",
       "      <th>countrycode</th>\n",
       "      <th>counterpart_code</th>\n",
       "      <th>country</th>\n",
       "      <th>counterpart</th>\n",
       "      <th>year</th>\n",
       "      <th>CDIS_IAD</th>\n",
       "      <th>CPIS_IAP</th>\n",
       "      <th>loans_dep</th>\n",
       "      <th>total_claims</th>\n",
       "      <th>total</th>\n",
       "    </tr>\n",
       "  </thead>\n",
       "  <tbody>\n",
       "    <tr>\n",
       "      <th>1217</th>\n",
       "      <td>112.0</td>\n",
       "      <td>111.0</td>\n",
       "      <td>United Kingdom</td>\n",
       "      <td>United States</td>\n",
       "      <td>2015</td>\n",
       "      <td>439222.9375</td>\n",
       "      <td>968186.1875</td>\n",
       "      <td>940793.0</td>\n",
       "      <td>2348202.0</td>\n",
       "      <td>2348202.0</td>\n",
       "    </tr>\n",
       "  </tbody>\n",
       "</table>\n",
       "</div>"
      ],
      "text/plain": [
       "      countrycode  counterpart_code         country    counterpart  year  \\\n",
       "1217        112.0             111.0  United Kingdom  United States  2015   \n",
       "\n",
       "         CDIS_IAD     CPIS_IAP  loans_dep  total_claims      total  \n",
       "1217  439222.9375  968186.1875   940793.0     2348202.0  2348202.0  "
      ]
     },
     "execution_count": 246,
     "metadata": {},
     "output_type": "execute_result"
    }
   ],
   "source": [
    "#df[(df.country == 'United States') & (df.counterpart == 'United Kingdom')&(df.year == 2015)]\n",
    "df[(df.country == 'United Kingdom') & (df.counterpart == 'United States')&(df.year == 2015)]"
   ]
  },
  {
   "cell_type": "markdown",
   "metadata": {},
   "source": [
    "#### Convert to adj matrix"
   ]
  },
  {
   "cell_type": "code",
   "execution_count": 247,
   "metadata": {
    "collapsed": false
   },
   "outputs": [],
   "source": [
    "var = 'total'\n",
    "node_list = G.nodes()\n",
    "node_list.sort()\n",
    "A = nx.to_numpy_matrix(G = G,nodelist=node_list,weight=var)\n",
    "A_adj = np.squeeze(np.asarray(A))"
   ]
  },
  {
   "cell_type": "markdown",
   "metadata": {},
   "source": [
    "#### Igraph"
   ]
  },
  {
   "cell_type": "markdown",
   "metadata": {},
   "source": [
    "to make sure we are using the same data, i imported adj matrix directed from netwrokx output "
   ]
  },
  {
   "cell_type": "code",
   "execution_count": 248,
   "metadata": {
    "collapsed": false
   },
   "outputs": [],
   "source": [
    "year = 2015\n",
    "#import the aggregate adjacency matrix\n",
    "#aggregate_am = np.genfromtxt ('../data/AM4_all_nodes_aggregateNorm'+str(year)+'.csv', delimiter=\",\")\n",
    "#df_names = pd.read_csv('../data/all_country_name4.csv', header=None)\n",
    "#names = list(df_names[0])\n",
    "#Aggregate_g = igraph.Graph.Weighted_Adjacency(list(aggregate_am))\n",
    "Aggregate_g = igraph.Graph.Weighted_Adjacency(list(A_adj))\n",
    "#Aggregate_g.vs[\"name\"] = copy.deepcopy(names)\n",
    "Aggregate_g.vs[\"name\"]=node_list"
   ]
  },
  {
   "cell_type": "code",
   "execution_count": 249,
   "metadata": {
    "collapsed": false
   },
   "outputs": [],
   "source": [
    "def countries_starting_num(countries_name_starting, g):\n",
    "    '''Function takes a list of the strings of countries and returns a list of index of those countries in graph g'''\n",
    "    c_list = []\n",
    "    for c in countries_name_starting:\n",
    "        c_list.append(g.vs[\"name\"].index(c))\n",
    "    return c_list\n",
    "\n",
    "countries_name_starting = [\"United States\", \"United Kingdom\", \"Netherlands\", \"Luxembourg\", \"China, P.R.: Hong Kong\", \"Germany\", \"France\", \"China, P.R.: Mainland\" ]\n",
    "countries_starting = countries_starting_num(countries_name_starting, Aggregate_g)"
   ]
  },
  {
   "cell_type": "code",
   "execution_count": 250,
   "metadata": {
    "collapsed": false
   },
   "outputs": [
    {
     "data": {
      "text/plain": [
       "[200, 199, 137, 116, 41, 74, 68, 43]"
      ]
     },
     "execution_count": 250,
     "metadata": {},
     "output_type": "execute_result"
    }
   ],
   "source": [
    "countries_starting"
   ]
  },
  {
   "cell_type": "code",
   "execution_count": 251,
   "metadata": {
    "collapsed": true
   },
   "outputs": [],
   "source": [
    "STR = Aggregate_g.strength(weights=Aggregate_g.es[\"weight\"])"
   ]
  },
  {
   "cell_type": "code",
   "execution_count": 252,
   "metadata": {
    "collapsed": false
   },
   "outputs": [
    {
     "data": {
      "text/plain": [
       "(35676003.20309484, 13673349.121010609)"
      ]
     },
     "execution_count": 252,
     "metadata": {},
     "output_type": "execute_result"
    }
   ],
   "source": [
    "STR[200], STR[137]"
   ]
  },
  {
   "cell_type": "code",
   "execution_count": 253,
   "metadata": {
    "collapsed": true
   },
   "outputs": [],
   "source": [
    "PR = Aggregate_g.personalized_pagerank(weights=Aggregate_g.es[\"weight\"])"
   ]
  },
  {
   "cell_type": "code",
   "execution_count": 254,
   "metadata": {
    "collapsed": false,
    "scrolled": true
   },
   "outputs": [
    {
     "data": {
      "text/html": [
       "<div>\n",
       "<table border=\"1\" class=\"dataframe\">\n",
       "  <thead>\n",
       "    <tr style=\"text-align: right;\">\n",
       "      <th></th>\n",
       "      <th>country</th>\n",
       "      <th>centrality</th>\n",
       "    </tr>\n",
       "  </thead>\n",
       "  <tbody>\n",
       "    <tr>\n",
       "      <th>200</th>\n",
       "      <td>United States</td>\n",
       "      <td>0.140485</td>\n",
       "    </tr>\n",
       "    <tr>\n",
       "      <th>199</th>\n",
       "      <td>United Kingdom</td>\n",
       "      <td>0.083459</td>\n",
       "    </tr>\n",
       "    <tr>\n",
       "      <th>116</th>\n",
       "      <td>Luxembourg</td>\n",
       "      <td>0.073228</td>\n",
       "    </tr>\n",
       "    <tr>\n",
       "      <th>137</th>\n",
       "      <td>Netherlands</td>\n",
       "      <td>0.062730</td>\n",
       "    </tr>\n",
       "    <tr>\n",
       "      <th>68</th>\n",
       "      <td>France</td>\n",
       "      <td>0.054281</td>\n",
       "    </tr>\n",
       "  </tbody>\n",
       "</table>\n",
       "</div>"
      ],
      "text/plain": [
       "            country  centrality\n",
       "200   United States    0.140485\n",
       "199  United Kingdom    0.083459\n",
       "116      Luxembourg    0.073228\n",
       "137     Netherlands    0.062730\n",
       "68           France    0.054281"
      ]
     },
     "execution_count": 254,
     "metadata": {},
     "output_type": "execute_result"
    }
   ],
   "source": [
    "pr= zip(node_list,PR)\n",
    "c_df = pd.DataFrame(list(pr),columns=['country','centrality']) \n",
    "c_df.sort_values(by='centrality',ascending=0,inplace=True)                 ## sort it \n",
    "c_df.head(5)"
   ]
  },
  {
   "cell_type": "markdown",
   "metadata": {},
   "source": [
    "### Use the adj matrix from maria's results"
   ]
  },
  {
   "cell_type": "code",
   "execution_count": 269,
   "metadata": {
    "collapsed": true
   },
   "outputs": [],
   "source": [
    "year = 2015\n",
    "#import the aggregate adjacency matrix\n",
    "aggregate_am = np.genfromtxt ('../data/adj/AM4_all_nodes_aggregateNorm'+str(year)+'.csv', delimiter=\",\")\n",
    "df_names = pd.read_csv('../data/all_country_name4.csv', header=None)\n",
    "names = list(df_names[0])\n",
    "Aggregate_g = igraph.Graph.Weighted_Adjacency(list(aggregate_am))\n",
    "Aggregate_g.vs[\"name\"] = copy.deepcopy(names)"
   ]
  },
  {
   "cell_type": "code",
   "execution_count": 270,
   "metadata": {
    "collapsed": false
   },
   "outputs": [],
   "source": [
    "i =  Aggregate_g.get_eid('United States','United Kingdom')"
   ]
  },
  {
   "cell_type": "code",
   "execution_count": 271,
   "metadata": {
    "collapsed": false
   },
   "outputs": [
    {
     "data": {
      "text/plain": [
       "igraph.Edge(<igraph.Graph object at 0x7efe56d674f8>, 13687, {'weight': 122463.06200932177})"
      ]
     },
     "execution_count": 271,
     "metadata": {},
     "output_type": "execute_result"
    }
   ],
   "source": [
    "Aggregate_g.es[i]   ## so the edge weight is different from my result already"
   ]
  },
  {
   "cell_type": "code",
   "execution_count": 272,
   "metadata": {
    "collapsed": false
   },
   "outputs": [],
   "source": [
    "countries_name_starting = [\"United States\", \"United Kingdom\", \"Netherlands\", \"Luxembourg\", \"China  P.R.: Hong Kong\", \"Germany\", \"France\", \"China  P.R.: Mainland\" ]\n",
    "countries_starting = countries_starting_num(countries_name_starting, Aggregate_g)"
   ]
  },
  {
   "cell_type": "code",
   "execution_count": 273,
   "metadata": {
    "collapsed": false
   },
   "outputs": [
    {
     "data": {
      "text/plain": [
       "[201, 200, 137, 116, 41, 74, 68, 43]"
      ]
     },
     "execution_count": 273,
     "metadata": {},
     "output_type": "execute_result"
    }
   ],
   "source": [
    "countries_starting"
   ]
  },
  {
   "cell_type": "code",
   "execution_count": 274,
   "metadata": {
    "collapsed": false
   },
   "outputs": [
    {
     "data": {
      "text/html": [
       "<div>\n",
       "<table border=\"1\" class=\"dataframe\">\n",
       "  <thead>\n",
       "    <tr style=\"text-align: right;\">\n",
       "      <th></th>\n",
       "      <th>country</th>\n",
       "      <th>centrality</th>\n",
       "    </tr>\n",
       "  </thead>\n",
       "  <tbody>\n",
       "    <tr>\n",
       "      <th>137</th>\n",
       "      <td>Netherlands</td>\n",
       "      <td>0.119218</td>\n",
       "    </tr>\n",
       "    <tr>\n",
       "      <th>201</th>\n",
       "      <td>Uruguay</td>\n",
       "      <td>0.104560</td>\n",
       "    </tr>\n",
       "    <tr>\n",
       "      <th>116</th>\n",
       "      <td>Luxembourg</td>\n",
       "      <td>0.078744</td>\n",
       "    </tr>\n",
       "    <tr>\n",
       "      <th>200</th>\n",
       "      <td>United States</td>\n",
       "      <td>0.050586</td>\n",
       "    </tr>\n",
       "    <tr>\n",
       "      <th>74</th>\n",
       "      <td>Germany</td>\n",
       "      <td>0.050470</td>\n",
       "    </tr>\n",
       "  </tbody>\n",
       "</table>\n",
       "</div>"
      ],
      "text/plain": [
       "           country  centrality\n",
       "137    Netherlands    0.119218\n",
       "201        Uruguay    0.104560\n",
       "116     Luxembourg    0.078744\n",
       "200  United States    0.050586\n",
       "74         Germany    0.050470"
      ]
     },
     "execution_count": 274,
     "metadata": {},
     "output_type": "execute_result"
    }
   ],
   "source": [
    "PR = Aggregate_g.personalized_pagerank(weights=Aggregate_g.es[\"weight\"])\n",
    "pr= zip(node_list,PR)\n",
    "c_df = pd.DataFrame(list(pr),columns=['country','centrality']) \n",
    "c_df.sort_values(by='centrality',ascending=0,inplace=True)                 ## sort it \n",
    "c_df.head(5)"
   ]
  },
  {
   "cell_type": "code",
   "execution_count": null,
   "metadata": {
    "collapsed": false
   },
   "outputs": [],
   "source": []
  },
  {
   "cell_type": "code",
   "execution_count": null,
   "metadata": {
    "collapsed": true
   },
   "outputs": [],
   "source": []
  }
 ],
 "metadata": {
  "kernelspec": {
   "display_name": "Python [default]",
   "language": "python",
   "name": "python3"
  },
  "language_info": {
   "codemirror_mode": {
    "name": "ipython",
    "version": 3
   },
   "file_extension": ".py",
   "mimetype": "text/x-python",
   "name": "python",
   "nbconvert_exporter": "python",
   "pygments_lexer": "ipython3",
   "version": "3.5.2"
  }
 },
 "nbformat": 4,
 "nbformat_minor": 2
}
