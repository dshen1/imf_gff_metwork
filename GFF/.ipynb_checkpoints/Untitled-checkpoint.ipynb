{
 "cells": [
  {
   "cell_type": "code",
   "execution_count": 135,
   "metadata": {
    "collapsed": true
   },
   "outputs": [],
   "source": [
    "import csv\n",
    "import networkx as nx \n",
    "import numpy as np\n",
    "import pandas as pd \n",
    "import community \n",
    "from itertools import compress\n",
    "import matplotlib.pyplot as plt \n",
    "import seaborn as sns\n",
    "from seaborn import color_palette, set_style, palplot\n",
    "plt.style.use('ggplot')\n",
    "%matplotlib inline"
   ]
  },
  {
   "cell_type": "markdown",
   "metadata": {},
   "source": [
    "#### Load and clean data "
   ]
  },
  {
   "cell_type": "code",
   "execution_count": 136,
   "metadata": {
    "collapsed": false
   },
   "outputs": [
    {
     "data": {
      "text/html": [
       "<div>\n",
       "<table border=\"1\" class=\"dataframe\">\n",
       "  <thead>\n",
       "    <tr style=\"text-align: right;\">\n",
       "      <th></th>\n",
       "      <th>countrycode</th>\n",
       "      <th>counterpart_code</th>\n",
       "      <th>year</th>\n",
       "      <th>CDIS_IAD</th>\n",
       "      <th>CPIS_IAP</th>\n",
       "      <th>loans_dep</th>\n",
       "      <th>total</th>\n",
       "    </tr>\n",
       "  </thead>\n",
       "  <tbody>\n",
       "    <tr>\n",
       "      <th>count</th>\n",
       "      <td>102611.000000</td>\n",
       "      <td>102611.000000</td>\n",
       "      <td>102611.000000</td>\n",
       "      <td>1.026110e+05</td>\n",
       "      <td>1.026110e+05</td>\n",
       "      <td>1.026110e+05</td>\n",
       "      <td>1.026110e+05</td>\n",
       "    </tr>\n",
       "    <tr>\n",
       "      <th>mean</th>\n",
       "      <td>448.978973</td>\n",
       "      <td>459.162506</td>\n",
       "      <td>2011.827367</td>\n",
       "      <td>2.274913e+03</td>\n",
       "      <td>3.019251e+03</td>\n",
       "      <td>1.636379e+03</td>\n",
       "      <td>6.930741e+03</td>\n",
       "    </tr>\n",
       "    <tr>\n",
       "      <th>std</th>\n",
       "      <td>286.647552</td>\n",
       "      <td>296.652344</td>\n",
       "      <td>2.220511</td>\n",
       "      <td>2.192672e+04</td>\n",
       "      <td>3.130591e+04</td>\n",
       "      <td>2.060122e+04</td>\n",
       "      <td>6.117723e+04</td>\n",
       "    </tr>\n",
       "    <tr>\n",
       "      <th>min</th>\n",
       "      <td>111.000000</td>\n",
       "      <td>111.000000</td>\n",
       "      <td>2008.000000</td>\n",
       "      <td>0.000000e+00</td>\n",
       "      <td>0.000000e+00</td>\n",
       "      <td>0.000000e+00</td>\n",
       "      <td>0.000000e+00</td>\n",
       "    </tr>\n",
       "    <tr>\n",
       "      <th>25%</th>\n",
       "      <td>176.000000</td>\n",
       "      <td>176.000000</td>\n",
       "      <td>2010.000000</td>\n",
       "      <td>0.000000e+00</td>\n",
       "      <td>0.000000e+00</td>\n",
       "      <td>0.000000e+00</td>\n",
       "      <td>2.000000e+00</td>\n",
       "    </tr>\n",
       "    <tr>\n",
       "      <th>50%</th>\n",
       "      <td>419.000000</td>\n",
       "      <td>423.000000</td>\n",
       "      <td>2012.000000</td>\n",
       "      <td>1.082549e-01</td>\n",
       "      <td>0.000000e+00</td>\n",
       "      <td>1.000000e+00</td>\n",
       "      <td>2.658900e+01</td>\n",
       "    </tr>\n",
       "    <tr>\n",
       "      <th>75%</th>\n",
       "      <td>666.000000</td>\n",
       "      <td>686.000000</td>\n",
       "      <td>2014.000000</td>\n",
       "      <td>4.144426e+01</td>\n",
       "      <td>3.022868e+01</td>\n",
       "      <td>4.900000e+01</td>\n",
       "      <td>3.830000e+02</td>\n",
       "    </tr>\n",
       "    <tr>\n",
       "      <th>max</th>\n",
       "      <td>968.000000</td>\n",
       "      <td>968.000000</td>\n",
       "      <td>2015.000000</td>\n",
       "      <td>1.115748e+06</td>\n",
       "      <td>1.816922e+06</td>\n",
       "      <td>1.288868e+06</td>\n",
       "      <td>2.767445e+06</td>\n",
       "    </tr>\n",
       "  </tbody>\n",
       "</table>\n",
       "</div>"
      ],
      "text/plain": [
       "         countrycode  counterpart_code           year      CDIS_IAD  \\\n",
       "count  102611.000000     102611.000000  102611.000000  1.026110e+05   \n",
       "mean      448.978973        459.162506    2011.827367  2.274913e+03   \n",
       "std       286.647552        296.652344       2.220511  2.192672e+04   \n",
       "min       111.000000        111.000000    2008.000000  0.000000e+00   \n",
       "25%       176.000000        176.000000    2010.000000  0.000000e+00   \n",
       "50%       419.000000        423.000000    2012.000000  1.082549e-01   \n",
       "75%       666.000000        686.000000    2014.000000  4.144426e+01   \n",
       "max       968.000000        968.000000    2015.000000  1.115748e+06   \n",
       "\n",
       "           CPIS_IAP     loans_dep         total  \n",
       "count  1.026110e+05  1.026110e+05  1.026110e+05  \n",
       "mean   3.019251e+03  1.636379e+03  6.930741e+03  \n",
       "std    3.130591e+04  2.060122e+04  6.117723e+04  \n",
       "min    0.000000e+00  0.000000e+00  0.000000e+00  \n",
       "25%    0.000000e+00  0.000000e+00  2.000000e+00  \n",
       "50%    0.000000e+00  1.000000e+00  2.658900e+01  \n",
       "75%    3.022868e+01  4.900000e+01  3.830000e+02  \n",
       "max    1.816922e+06  1.288868e+06  2.767445e+06  "
      ]
     },
     "execution_count": 136,
     "metadata": {},
     "output_type": "execute_result"
    }
   ],
   "source": [
    "## read pre-processed data from stata\n",
    "df = pd.read_stata('../data/0_CPIS_CDIS_BIS_USTIC_merged_fixed1.dta')\n",
    "keep_var = ['countrycode','counterpart_code','country','counterpart','year','CDIS_IAD','CPIS_IAP','loans_dep']\n",
    "df = df[keep_var]                           ## keep only used variables \n",
    "df = df.replace(np.nan,0)\n",
    "num = df._get_numeric_data()\n",
    "num[num < 0] = 0\n",
    "df['total'] = df[['CDIS_IAD','CPIS_IAP','loans_dep']].sum(axis=1)\n",
    "df.describe()"
   ]
  },
  {
   "cell_type": "code",
   "execution_count": 137,
   "metadata": {
    "collapsed": false,
    "scrolled": true
   },
   "outputs": [
    {
     "name": "stderr",
     "output_type": "stream",
     "text": [
      "/home/ubuntu/anaconda3/lib/python3.5/site-packages/ipykernel/__main__.py:7: RuntimeWarning: invalid value encountered in true_divide\n"
     ]
    }
   ],
   "source": [
    "mata = ['countrycode','counterpart_code','country','counterpart','year']\n",
    "var_org = ['CDIS_IAD','CPIS_IAP','loans_dep','total']\n",
    "var_sum_out = ['CDIS_Sum_out','CPIS_Sum_out','loans_dep_Sum_out','total_Sum_out']\n",
    "var_sum_in = ['CDIS_Sum_in','CPIS_Sum_in','loans_dep_Sum_in','total_Sum_in']\n",
    "var_weight = ['CDIS_weight','CPIS_weight','loans_dep_weight','total_weight']\n",
    "\n",
    "df[var_sum_out]= df.groupby(['countrycode','year'])[var_org_out].transform(sum)           ## like stata egen sum \n",
    "df[var_sum_in]= df.groupby(['counterpart_code','year'])[var_org_in].transform(sum) \n",
    "df_weight = pd.DataFrame(df[var_org].values / df[var_sum].values,columns=[var_weight])\n",
    "df[var_weight] = df_weight                                                        ## create the weight variables \n",
    "mata.extend(var_weight)\n",
    "df = df[mata]\n",
    "df.fillna(0,inplace=True)"
   ]
  },
  {
   "cell_type": "code",
   "execution_count": null,
   "metadata": {
    "collapsed": false
   },
   "outputs": [],
   "source": []
  },
  {
   "cell_type": "code",
   "execution_count": null,
   "metadata": {
    "collapsed": false
   },
   "outputs": [],
   "source": []
  },
  {
   "cell_type": "code",
   "execution_count": null,
   "metadata": {
    "collapsed": false,
    "scrolled": true
   },
   "outputs": [],
   "source": []
  },
  {
   "cell_type": "code",
   "execution_count": null,
   "metadata": {
    "collapsed": false
   },
   "outputs": [],
   "source": []
  },
  {
   "cell_type": "code",
   "execution_count": null,
   "metadata": {
    "collapsed": false
   },
   "outputs": [],
   "source": []
  },
  {
   "cell_type": "code",
   "execution_count": null,
   "metadata": {
    "collapsed": true
   },
   "outputs": [],
   "source": []
  }
 ],
 "metadata": {
  "kernelspec": {
   "display_name": "Python [conda root]",
   "language": "python",
   "name": "conda-root-py"
  },
  "language_info": {
   "codemirror_mode": {
    "name": "ipython",
    "version": 3
   },
   "file_extension": ".py",
   "mimetype": "text/x-python",
   "name": "python",
   "nbconvert_exporter": "python",
   "pygments_lexer": "ipython3",
   "version": "3.5.2"
  }
 },
 "nbformat": 4,
 "nbformat_minor": 2
}
