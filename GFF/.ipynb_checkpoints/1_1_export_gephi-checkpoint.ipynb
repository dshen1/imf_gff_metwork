{
 "cells": [
  {
   "cell_type": "code",
   "execution_count": 16,
   "metadata": {
    "collapsed": false
   },
   "outputs": [],
   "source": [
    "import networkx as nx \n",
    "import numpy as np\n",
    "import pandas as pd \n",
    "import community \n",
    "from itertools import compress\n",
    "from scipy.spatial.distance import pdist, squareform\n",
    "from scipy.cluster.hierarchy import fcluster\n",
    "from scipy.cluster import hierarchy\n",
    "import matplotlib.pyplot as plt \n",
    "import seaborn as sns\n",
    "from seaborn import color_palette, set_style, palplot\n",
    "plt.style.use('ggplot')\n",
    "%matplotlib inline\n",
    "\n",
    "import warnings\n",
    "warnings.filterwarnings('ignore')"
   ]
  },
  {
   "cell_type": "markdown",
   "metadata": {},
   "source": [
    "## Export 2009 and 2015 data for gephi"
   ]
  },
  {
   "cell_type": "markdown",
   "metadata": {},
   "source": [
    "#### 1. First, define some functions"
   ]
  },
  {
   "cell_type": "markdown",
   "metadata": {},
   "source": [
    "###### Some thing important, for presentation purpuse, we add layer_dummy as edge attribute, so it is not going to be a generalized template"
   ]
  },
  {
   "cell_type": "code",
   "execution_count": 17,
   "metadata": {
    "collapsed": false
   },
   "outputs": [],
   "source": [
    "def preprocess(df):\n",
    "    keep_var = ['country','counterpart','layer_dummy2009','layer_dummy2015','total_claims2009','total_claims2015']\n",
    "    df = df[keep_var]                           ## keep only used variables \n",
    "    df = df.replace(np.nan,0)                   ## turn na to zero \n",
    "    num = df._get_numeric_data()\n",
    "    num[num < 0] = 0                            ## turn negative to zero \n",
    "    #df.fillna(0,inplace=True)\n",
    "    return df \n",
    "\n",
    "def export_gephi(df,var_list,prvars):\n",
    "    ## make sure switch country and counterpart country, to define the network as risk flow  \n",
    "    #G = nx.from_pandas_dataframe(df_y, source=\"country\", target=\"counterpart\", edge_attr=var_list,create_using=nx.DiGraph())\n",
    "    G = nx.from_pandas_dataframe(df, source=\"counterpart\", target=\"country\", edge_attr=var_list,create_using=nx.DiGraph())\n",
    "    get_pagerank_centrality(G,prvars)\n",
    "    nx.write_gexf(G, \"../result/gexf/\"+\"agg_structure_0915\"+\".gexf\")\n",
    "    return G\n",
    "    \n",
    "def get_pagerank_centrality(G,prvars):\n",
    "    for var in prvars:\n",
    "        p = nx.pagerank(G,weight=var)\n",
    "        nx.set_node_attributes(G, var +\"pagerank\", p) \n",
    "    "
   ]
  },
  {
   "cell_type": "markdown",
   "metadata": {},
   "source": [
    "#### 2. read stata data and export it "
   ]
  },
  {
   "cell_type": "code",
   "execution_count": 18,
   "metadata": {
    "collapsed": false
   },
   "outputs": [],
   "source": [
    "## read pre-processed data from stata\n",
    "df = pd.read_stata('../data/agg_v4_layer_dummy.dta')\n",
    "df = preprocess(df)"
   ]
  },
  {
   "cell_type": "code",
   "execution_count": null,
   "metadata": {
    "collapsed": false
   },
   "outputs": [],
   "source": [
    "## export all files to gephi\n",
    "var_list = ['layer_dummy2009','layer_dummy2015','total_claims2009','total_claims2015']\n",
    "prvars= ['total_claims2009','total_claims2015']\n",
    "G = export_gephi(df,var_list,prvars)"
   ]
  },
  {
   "cell_type": "code",
   "execution_count": null,
   "metadata": {
    "collapsed": false
   },
   "outputs": [],
   "source": []
  },
  {
   "cell_type": "code",
   "execution_count": null,
   "metadata": {
    "collapsed": false
   },
   "outputs": [],
   "source": []
  },
  {
   "cell_type": "code",
   "execution_count": null,
   "metadata": {
    "collapsed": true
   },
   "outputs": [],
   "source": []
  }
 ],
 "metadata": {
  "kernelspec": {
   "display_name": "Python [default]",
   "language": "python",
   "name": "python3"
  },
  "language_info": {
   "codemirror_mode": {
    "name": "ipython",
    "version": 3
   },
   "file_extension": ".py",
   "mimetype": "text/x-python",
   "name": "python",
   "nbconvert_exporter": "python",
   "pygments_lexer": "ipython3",
   "version": "3.5.2"
  }
 },
 "nbformat": 4,
 "nbformat_minor": 2
}
