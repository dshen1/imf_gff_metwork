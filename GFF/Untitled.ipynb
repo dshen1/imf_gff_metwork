{
 "cells": [
  {
   "cell_type": "code",
   "execution_count": 1,
   "metadata": {
    "collapsed": true
   },
   "outputs": [],
   "source": [
    "import csv\n",
    "import networkx as nx \n",
    "import numpy as np\n",
    "import pandas as pd \n",
    "#import community \n",
    "from itertools import compress\n",
    "import matplotlib.pyplot as plt \n",
    "import seaborn as sns\n",
    "from seaborn import color_palette, set_style, palplot\n",
    "plt.style.use('ggplot')\n",
    "%matplotlib inline\n",
    "\n",
    "import warnings\n",
    "warnings.filterwarnings('ignore')"
   ]
  },
  {
   "cell_type": "code",
   "execution_count": 2,
   "metadata": {
    "collapsed": true
   },
   "outputs": [],
   "source": [
    "## read pre-processed data from stata\n",
    "df = pd.read_stata('../data/0_CPIS_CDIS_BIS_USTIC_merged_fixed1.dta')\n",
    "keep_var = ['countrycode','counterpart_code','country','counterpart','year','CDIS_IAD','CPIS_IAP','loans_dep']\n",
    "df = df[keep_var]                           ## keep only used variables \n",
    "df = df.replace(np.nan,0)                   ## turn na to zero \n",
    "num = df._get_numeric_data()\n",
    "num[num < 0] = 0                            ## turn negative to zero \n",
    "df['total'] = df[['CDIS_IAD','CPIS_IAP','loans_dep']].sum(axis=1)\n",
    "#df.describe()\n",
    "\n",
    "mata = ['countrycode','counterpart_code','country','counterpart','year']\n",
    "var_org = ['CDIS_IAD','CPIS_IAP','loans_dep','total']\n",
    "var_sum_out = ['CDIS_Sum_out','CPIS_Sum_out','loans_dep_Sum_out','total_Sum_out']\n",
    "var_sum_in = ['CDIS_Sum_in','CPIS_Sum_in','loans_dep_Sum_in','total_Sum_in']\n",
    "var_weight = ['CDIS_weight','CPIS_weight','loans_dep_weight','total_weight']\n",
    "\n",
    "df[var_sum_out]= df.groupby(['countrycode','year'])[var_org].transform(sum)           ## like stata egen sum \n",
    "df[var_sum_in]= df.groupby(['counterpart_code','year'])[var_org].transform(sum)        ## like stata egen sum \n",
    "df_weight = pd.DataFrame(df[var_org].values / df[var_sum_out].values,columns=[var_weight])\n",
    "df[var_weight] = df_weight                                                        ## create the weight variables \n",
    "mata.extend(var_weight)\n",
    "df = df[mata]\n",
    "df.fillna(0,inplace=True)"
   ]
  },
  {
   "cell_type": "code",
   "execution_count": 3,
   "metadata": {
    "collapsed": true
   },
   "outputs": [],
   "source": [
    "def to_undirected(G):\n",
    "    node_list = G.nodes()\n",
    "    node_list.sort()\n",
    "    A = nx.to_numpy_matrix(G = G,nodelist=node_list,weight=var)\n",
    "    ud_M = A + A.T \n",
    "    ud_G = nx.from_numpy_matrix(ud_M)\n",
    "    ## relable node to country name \n",
    "    maplist = dict(zip(ud_G.nodes(), node_list))\n",
    "    ud_G = nx.relabel_nodes(ud_G,maplist)\n",
    "    \n",
    "    return ud_G"
   ]
  },
  {
   "cell_type": "markdown",
   "metadata": {},
   "source": [
    "### Test on one graph "
   ]
  },
  {
   "cell_type": "code",
   "execution_count": 4,
   "metadata": {
    "collapsed": false
   },
   "outputs": [],
   "source": [
    "year = 2015\n",
    "var = 'CDIS_weight' ## \n",
    "\n",
    "df_graph = df[(df['year']==year) & (df[var]>0)]\n",
    "G = nx.from_pandas_dataframe(df_graph, source=\"country\", \n",
    "                             target=\"counterpart\", edge_attr=[var],\n",
    "                             create_using=nx.DiGraph())\n",
    "G = to_undirected(G)"
   ]
  },
  {
   "cell_type": "code",
   "execution_count": 9,
   "metadata": {
    "collapsed": false
   },
   "outputs": [],
   "source": [
    "node_list = G.nodes()\n",
    "node_list.sort()\n",
    "A = nx.to_numpy_matrix(G = G,nodelist=node_list,weight='weight')"
   ]
  },
  {
   "cell_type": "code",
   "execution_count": 11,
   "metadata": {
    "collapsed": false
   },
   "outputs": [],
   "source": [
    "import scipy.io\n"
   ]
  },
  {
   "cell_type": "code",
   "execution_count": 12,
   "metadata": {
    "collapsed": false
   },
   "outputs": [],
   "source": [
    "save_path = '../result/2015_CDIS.mat'\n",
    "scipy.io.savemat(save_path,mdict={'A':A})\n"
   ]
  },
  {
   "cell_type": "code",
   "execution_count": null,
   "metadata": {
    "collapsed": true
   },
   "outputs": [],
   "source": []
  }
 ],
 "metadata": {
  "kernelspec": {
   "display_name": "Python [default]",
   "language": "python",
   "name": "python3"
  },
  "language_info": {
   "codemirror_mode": {
    "name": "ipython",
    "version": 3
   },
   "file_extension": ".py",
   "mimetype": "text/x-python",
   "name": "python",
   "nbconvert_exporter": "python",
   "pygments_lexer": "ipython3",
   "version": "3.5.2"
  }
 },
 "nbformat": 4,
 "nbformat_minor": 2
}
