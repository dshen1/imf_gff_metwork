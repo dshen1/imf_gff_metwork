{
 "cells": [
  {
   "cell_type": "markdown",
   "metadata": {},
   "source": [
    "# Networkx And Global Flow of Funds"
   ]
  },
  {
   "cell_type": "code",
   "execution_count": 20,
   "metadata": {
    "collapsed": true
   },
   "outputs": [],
   "source": [
    "import csv\n",
    "import networkx as nx \n",
    "import numpy as np\n",
    "import pandas as pd \n",
    "import matplotlib.pyplot as plt \n",
    "plt.style.use('ggplot')\n",
    "%matplotlib inline"
   ]
  },
  {
   "cell_type": "code",
   "execution_count": 21,
   "metadata": {
    "collapsed": true
   },
   "outputs": [],
   "source": [
    "## read pre-processed data from stata\n",
    "df = pd.read_stata('data/0_CPIS_CDIS_BIS_USTIC_merged_fixed.dta')"
   ]
  },
  {
   "cell_type": "code",
   "execution_count": 22,
   "metadata": {
    "collapsed": false
   },
   "outputs": [
    {
     "data": {
      "text/plain": [
       "array(['country', 'countrycode', 'counterpart', 'counterpart_code', 'year',\n",
       "       'CDIS_IADE', 'CDIS_IADD', 'CDIS_IAD', 'CDIS_IADF', 'CPIS_IAP',\n",
       "       'CPIS_IAPE', 'CPIS_IAPD', 'loans_dep'], dtype=object)"
      ]
     },
     "execution_count": 22,
     "metadata": {},
     "output_type": "execute_result"
    }
   ],
   "source": [
    "## print the variables that we have in our data \n",
    "df.columns.values"
   ]
  },
  {
   "cell_type": "code",
   "execution_count": 27,
   "metadata": {
    "collapsed": false
   },
   "outputs": [],
   "source": [
    "keep_var = ['countrycode','counterpart_code','country','counterpart','CDIS_IAD','CPIS_IAP','loans_dep']\n",
    "df_2015 = df[df['year']==2015][keep_var]\n",
    "df_2015.fillna(0,inplace=True)\n",
    "df_2015.loc[df['CDIS_IAD']<0,'CDIS_IAD'] = 0                       # recode all negative values to 0 \n",
    "df_2015.loc[df['CPIS_IAP']<0,'CPIS_IAP'] = 0                       # recode negative values to 0 \n",
    "## df_2015['log_CDIS_IAD'] = np.log(df_2015['CDIS_IAD'])        # Take log "
   ]
  },
  {
   "cell_type": "code",
   "execution_count": 28,
   "metadata": {
    "collapsed": false
   },
   "outputs": [
    {
     "data": {
      "text/html": [
       "<div>\n",
       "<table border=\"1\" class=\"dataframe\">\n",
       "  <thead>\n",
       "    <tr style=\"text-align: right;\">\n",
       "      <th></th>\n",
       "      <th>countrycode</th>\n",
       "      <th>counterpart_code</th>\n",
       "      <th>country</th>\n",
       "      <th>counterpart</th>\n",
       "      <th>CDIS_IAD</th>\n",
       "      <th>CPIS_IAP</th>\n",
       "      <th>loans_dep</th>\n",
       "    </tr>\n",
       "  </thead>\n",
       "  <tbody>\n",
       "    <tr>\n",
       "      <th>7</th>\n",
       "      <td>316.0</td>\n",
       "      <td>111.0</td>\n",
       "      <td>Barbados</td>\n",
       "      <td>United States</td>\n",
       "      <td>3285.000000</td>\n",
       "      <td>4575.566589</td>\n",
       "      <td>0.0</td>\n",
       "    </tr>\n",
       "    <tr>\n",
       "      <th>21</th>\n",
       "      <td>960.0</td>\n",
       "      <td>111.0</td>\n",
       "      <td>Croatia</td>\n",
       "      <td>United States</td>\n",
       "      <td>2.619745</td>\n",
       "      <td>2084.000000</td>\n",
       "      <td>0.0</td>\n",
       "    </tr>\n",
       "    <tr>\n",
       "      <th>22</th>\n",
       "      <td>443.0</td>\n",
       "      <td>111.0</td>\n",
       "      <td>Kuwait</td>\n",
       "      <td>United States</td>\n",
       "      <td>741.560120</td>\n",
       "      <td>2064.070740</td>\n",
       "      <td>0.0</td>\n",
       "    </tr>\n",
       "    <tr>\n",
       "      <th>29</th>\n",
       "      <td>514.0</td>\n",
       "      <td>111.0</td>\n",
       "      <td>Bhutan</td>\n",
       "      <td>United States</td>\n",
       "      <td>0.000000</td>\n",
       "      <td>50.000000</td>\n",
       "      <td>0.0</td>\n",
       "    </tr>\n",
       "    <tr>\n",
       "      <th>30</th>\n",
       "      <td>722.0</td>\n",
       "      <td>111.0</td>\n",
       "      <td>Senegal</td>\n",
       "      <td>United States</td>\n",
       "      <td>0.000000</td>\n",
       "      <td>4.000000</td>\n",
       "      <td>0.0</td>\n",
       "    </tr>\n",
       "  </tbody>\n",
       "</table>\n",
       "</div>"
      ],
      "text/plain": [
       "    countrycode  counterpart_code   country    counterpart     CDIS_IAD  \\\n",
       "7         316.0             111.0  Barbados  United States  3285.000000   \n",
       "21        960.0             111.0   Croatia  United States     2.619745   \n",
       "22        443.0             111.0    Kuwait  United States   741.560120   \n",
       "29        514.0             111.0    Bhutan  United States     0.000000   \n",
       "30        722.0             111.0   Senegal  United States     0.000000   \n",
       "\n",
       "       CPIS_IAP  loans_dep  \n",
       "7   4575.566589        0.0  \n",
       "21  2084.000000        0.0  \n",
       "22  2064.070740        0.0  \n",
       "29    50.000000        0.0  \n",
       "30     4.000000        0.0  "
      ]
     },
     "execution_count": 28,
     "metadata": {},
     "output_type": "execute_result"
    }
   ],
   "source": [
    "df_2015.head()"
   ]
  },
  {
   "cell_type": "code",
   "execution_count": 29,
   "metadata": {
    "collapsed": false,
    "scrolled": true
   },
   "outputs": [
    {
     "data": {
      "text/html": [
       "<div>\n",
       "<table border=\"1\" class=\"dataframe\">\n",
       "  <thead>\n",
       "    <tr style=\"text-align: right;\">\n",
       "      <th></th>\n",
       "      <th>countrycode</th>\n",
       "      <th>counterpart_code</th>\n",
       "      <th>CDIS_IAD</th>\n",
       "      <th>CPIS_IAP</th>\n",
       "      <th>loans_dep</th>\n",
       "    </tr>\n",
       "  </thead>\n",
       "  <tbody>\n",
       "    <tr>\n",
       "      <th>count</th>\n",
       "      <td>31745.000000</td>\n",
       "      <td>31745.000000</td>\n",
       "      <td>3.174500e+04</td>\n",
       "      <td>3.174500e+04</td>\n",
       "      <td>31745.000000</td>\n",
       "    </tr>\n",
       "    <tr>\n",
       "      <th>mean</th>\n",
       "      <td>522.174133</td>\n",
       "      <td>525.499756</td>\n",
       "      <td>1.205572e+03</td>\n",
       "      <td>1.323649e+03</td>\n",
       "      <td>421.135837</td>\n",
       "    </tr>\n",
       "    <tr>\n",
       "      <th>std</th>\n",
       "      <td>287.403625</td>\n",
       "      <td>286.209991</td>\n",
       "      <td>1.790810e+04</td>\n",
       "      <td>2.159184e+04</td>\n",
       "      <td>9055.887223</td>\n",
       "    </tr>\n",
       "    <tr>\n",
       "      <th>min</th>\n",
       "      <td>111.000000</td>\n",
       "      <td>111.000000</td>\n",
       "      <td>0.000000e+00</td>\n",
       "      <td>0.000000e+00</td>\n",
       "      <td>0.000000</td>\n",
       "    </tr>\n",
       "    <tr>\n",
       "      <th>25%</th>\n",
       "      <td>238.000000</td>\n",
       "      <td>248.000000</td>\n",
       "      <td>0.000000e+00</td>\n",
       "      <td>0.000000e+00</td>\n",
       "      <td>0.000000</td>\n",
       "    </tr>\n",
       "    <tr>\n",
       "      <th>50%</th>\n",
       "      <td>532.000000</td>\n",
       "      <td>534.000000</td>\n",
       "      <td>0.000000e+00</td>\n",
       "      <td>0.000000e+00</td>\n",
       "      <td>0.000000</td>\n",
       "    </tr>\n",
       "    <tr>\n",
       "      <th>75%</th>\n",
       "      <td>746.000000</td>\n",
       "      <td>748.000000</td>\n",
       "      <td>1.113362e-01</td>\n",
       "      <td>0.000000e+00</td>\n",
       "      <td>0.000000</td>\n",
       "    </tr>\n",
       "    <tr>\n",
       "      <th>max</th>\n",
       "      <td>968.000000</td>\n",
       "      <td>968.000000</td>\n",
       "      <td>1.115748e+06</td>\n",
       "      <td>1.369423e+06</td>\n",
       "      <td>940793.000000</td>\n",
       "    </tr>\n",
       "  </tbody>\n",
       "</table>\n",
       "</div>"
      ],
      "text/plain": [
       "        countrycode  counterpart_code      CDIS_IAD      CPIS_IAP  \\\n",
       "count  31745.000000      31745.000000  3.174500e+04  3.174500e+04   \n",
       "mean     522.174133        525.499756  1.205572e+03  1.323649e+03   \n",
       "std      287.403625        286.209991  1.790810e+04  2.159184e+04   \n",
       "min      111.000000        111.000000  0.000000e+00  0.000000e+00   \n",
       "25%      238.000000        248.000000  0.000000e+00  0.000000e+00   \n",
       "50%      532.000000        534.000000  0.000000e+00  0.000000e+00   \n",
       "75%      746.000000        748.000000  1.113362e-01  0.000000e+00   \n",
       "max      968.000000        968.000000  1.115748e+06  1.369423e+06   \n",
       "\n",
       "           loans_dep  \n",
       "count   31745.000000  \n",
       "mean      421.135837  \n",
       "std      9055.887223  \n",
       "min         0.000000  \n",
       "25%         0.000000  \n",
       "50%         0.000000  \n",
       "75%         0.000000  \n",
       "max    940793.000000  "
      ]
     },
     "execution_count": 29,
     "metadata": {},
     "output_type": "execute_result"
    }
   ],
   "source": [
    "df_2015.describe()"
   ]
  },
  {
   "cell_type": "code",
   "execution_count": 30,
   "metadata": {
    "collapsed": false,
    "scrolled": true
   },
   "outputs": [
    {
     "name": "stdout",
     "output_type": "stream",
     "text": [
      "(233,)\n",
      "(235,)\n"
     ]
    }
   ],
   "source": [
    "## see how mancy countries we have\n",
    "print(df_2015['country'].unique().shape)\n",
    "print(df_2015['counterpart'].unique().shape)"
   ]
  },
  {
   "cell_type": "markdown",
   "metadata": {},
   "source": [
    "### Now, we dump data into a network "
   ]
  },
  {
   "cell_type": "code",
   "execution_count": 61,
   "metadata": {
    "collapsed": false
   },
   "outputs": [],
   "source": [
    "# Create a network with pandas dataframe \n",
    "df_2015 = df_2015[df_2015.CDIS_IAD>0]\n",
    "df_2015['rev_CDIS_IAD'] = 1/df_2015.CDIS_IAD\n",
    "G = nx.from_pandas_dataframe(df_2015, source=\"country\", target=\"counterpart\", edge_attr=['CDIS_IAD','rev_CDIS_IAD'],create_using=nx.DiGraph()) ##,'CPIS_IAP','loans_dep'"
   ]
  },
  {
   "cell_type": "code",
   "execution_count": 62,
   "metadata": {
    "collapsed": false
   },
   "outputs": [
    {
     "data": {
      "text/plain": [
       "{'CDIS_IAD': 717895.0, 'rev_CDIS_IAD': 1.3929613942309516e-06}"
      ]
     },
     "execution_count": 62,
     "metadata": {},
     "output_type": "execute_result"
    }
   ],
   "source": [
    "# print out one particular edge, just to make sure it wroks \n",
    "G['United States']['United Kingdom']"
   ]
  },
  {
   "cell_type": "code",
   "execution_count": 63,
   "metadata": {
    "collapsed": false
   },
   "outputs": [
    {
     "data": {
      "text/html": [
       "<div>\n",
       "<table border=\"1\" class=\"dataframe\">\n",
       "  <thead>\n",
       "    <tr style=\"text-align: right;\">\n",
       "      <th></th>\n",
       "      <th>countrycode</th>\n",
       "      <th>counterpart_code</th>\n",
       "      <th>country</th>\n",
       "      <th>counterpart</th>\n",
       "      <th>CDIS_IAD</th>\n",
       "      <th>CPIS_IAP</th>\n",
       "      <th>loans_dep</th>\n",
       "      <th>rev_CDIS_IAD</th>\n",
       "    </tr>\n",
       "  </thead>\n",
       "  <tbody>\n",
       "    <tr>\n",
       "      <th>2811</th>\n",
       "      <td>111.0</td>\n",
       "      <td>112.0</td>\n",
       "      <td>United States</td>\n",
       "      <td>United Kingdom</td>\n",
       "      <td>717895.0</td>\n",
       "      <td>1244554.0</td>\n",
       "      <td>614951.0</td>\n",
       "      <td>0.000001</td>\n",
       "    </tr>\n",
       "  </tbody>\n",
       "</table>\n",
       "</div>"
      ],
      "text/plain": [
       "      countrycode  counterpart_code        country     counterpart  CDIS_IAD  \\\n",
       "2811        111.0             112.0  United States  United Kingdom  717895.0   \n",
       "\n",
       "       CPIS_IAP  loans_dep  rev_CDIS_IAD  \n",
       "2811  1244554.0   614951.0      0.000001  "
      ]
     },
     "execution_count": 63,
     "metadata": {},
     "output_type": "execute_result"
    }
   ],
   "source": [
    "# make sure the graph is created correctly \n",
    "df_2015[(df_2015.country == 'United States') & (df_2015.counterpart == 'United Kingdom')]"
   ]
  },
  {
   "cell_type": "code",
   "execution_count": 64,
   "metadata": {
    "collapsed": false
   },
   "outputs": [
    {
     "name": "stdout",
     "output_type": "stream",
     "text": [
      "Name: \n",
      "Type: DiGraph\n",
      "Number of nodes: 234\n",
      "Number of edges: 8872\n",
      "Average in degree:  37.9145\n",
      "Average out degree:  37.9145\n"
     ]
    }
   ],
   "source": [
    "print(nx.info(G))"
   ]
  },
  {
   "cell_type": "code",
   "execution_count": 65,
   "metadata": {
    "collapsed": false,
    "scrolled": true
   },
   "outputs": [
    {
     "name": "stdout",
     "output_type": "stream",
     "text": [
      "Degree of US: 193\n",
      "Degree of UK: 249\n"
     ]
    }
   ],
   "source": [
    "print('Degree of US: {}'.format((G.degree(\"United States\"))))\n",
    "print('Degree of UK: {}'.format((G.degree(\"United Kingdom\"))))"
   ]
  },
  {
   "cell_type": "markdown",
   "metadata": {},
   "source": [
    "### First look at degree centrality"
   ]
  },
  {
   "cell_type": "code",
   "execution_count": 66,
   "metadata": {
    "collapsed": false
   },
   "outputs": [
    {
     "data": {
      "text/html": [
       "<div>\n",
       "<table border=\"1\" class=\"dataframe\">\n",
       "  <thead>\n",
       "    <tr style=\"text-align: right;\">\n",
       "      <th></th>\n",
       "      <th>country</th>\n",
       "      <th>CDIS_IAD</th>\n",
       "    </tr>\n",
       "  </thead>\n",
       "  <tbody>\n",
       "    <tr>\n",
       "      <th>149</th>\n",
       "      <td>United States</td>\n",
       "      <td>1.077993e+07</td>\n",
       "    </tr>\n",
       "    <tr>\n",
       "      <th>103</th>\n",
       "      <td>Netherlands</td>\n",
       "      <td>9.037645e+06</td>\n",
       "    </tr>\n",
       "    <tr>\n",
       "      <th>216</th>\n",
       "      <td>Luxembourg</td>\n",
       "      <td>7.958590e+06</td>\n",
       "    </tr>\n",
       "    <tr>\n",
       "      <th>189</th>\n",
       "      <td>United Kingdom</td>\n",
       "      <td>5.546120e+06</td>\n",
       "    </tr>\n",
       "    <tr>\n",
       "      <th>153</th>\n",
       "      <td>Germany</td>\n",
       "      <td>3.294401e+06</td>\n",
       "    </tr>\n",
       "    <tr>\n",
       "      <th>92</th>\n",
       "      <td>China, P.R.: Hong Kong</td>\n",
       "      <td>3.163979e+06</td>\n",
       "    </tr>\n",
       "    <tr>\n",
       "      <th>128</th>\n",
       "      <td>France</td>\n",
       "      <td>2.506216e+06</td>\n",
       "    </tr>\n",
       "    <tr>\n",
       "      <th>56</th>\n",
       "      <td>China, P.R.: Mainland</td>\n",
       "      <td>2.492785e+06</td>\n",
       "    </tr>\n",
       "    <tr>\n",
       "      <th>97</th>\n",
       "      <td>Switzerland</td>\n",
       "      <td>2.451718e+06</td>\n",
       "    </tr>\n",
       "    <tr>\n",
       "      <th>220</th>\n",
       "      <td>Ireland</td>\n",
       "      <td>2.448264e+06</td>\n",
       "    </tr>\n",
       "  </tbody>\n",
       "</table>\n",
       "</div>"
      ],
      "text/plain": [
       "                    country      CDIS_IAD\n",
       "149           United States  1.077993e+07\n",
       "103             Netherlands  9.037645e+06\n",
       "216              Luxembourg  7.958590e+06\n",
       "189          United Kingdom  5.546120e+06\n",
       "153                 Germany  3.294401e+06\n",
       "92   China, P.R.: Hong Kong  3.163979e+06\n",
       "128                  France  2.506216e+06\n",
       "56    China, P.R.: Mainland  2.492785e+06\n",
       "97              Switzerland  2.451718e+06\n",
       "220                 Ireland  2.448264e+06"
      ]
     },
     "execution_count": 66,
     "metadata": {},
     "output_type": "execute_result"
    }
   ],
   "source": [
    "### calculate some centrality mearuses \n",
    "### This is the sum of both in and out folows \n",
    "d=G.degree(weight='CDIS_IAD')                                 ## get the degree centrality for all countries \n",
    "cdis_degree = pd.DataFrame(list(d.items()),columns=['country','CDIS_IAD'])      ## make it into dataframe\n",
    "cdis_degree.sort_values(by='CDIS_IAD',ascending=0,inplace=True)                 ## sort it \n",
    "cdis_degree.head(10)"
   ]
  },
  {
   "cell_type": "markdown",
   "metadata": {},
   "source": [
    "\n",
    "### Closeness Centrality"
   ]
  },
  {
   "cell_type": "code",
   "execution_count": 90,
   "metadata": {
    "collapsed": false
   },
   "outputs": [
    {
     "data": {
      "text/html": [
       "<div>\n",
       "<table border=\"1\" class=\"dataframe\">\n",
       "  <thead>\n",
       "    <tr style=\"text-align: right;\">\n",
       "      <th></th>\n",
       "      <th>country</th>\n",
       "      <th>CDIS_IAD</th>\n",
       "    </tr>\n",
       "  </thead>\n",
       "  <tbody>\n",
       "    <tr>\n",
       "      <th>196</th>\n",
       "      <td>Italy</td>\n",
       "      <td>0.934764</td>\n",
       "    </tr>\n",
       "    <tr>\n",
       "      <th>153</th>\n",
       "      <td>Germany</td>\n",
       "      <td>0.838891</td>\n",
       "    </tr>\n",
       "    <tr>\n",
       "      <th>191</th>\n",
       "      <td>Korea, Republic of</td>\n",
       "      <td>0.797969</td>\n",
       "    </tr>\n",
       "    <tr>\n",
       "      <th>10</th>\n",
       "      <td>Brazil</td>\n",
       "      <td>0.738765</td>\n",
       "    </tr>\n",
       "    <tr>\n",
       "      <th>213</th>\n",
       "      <td>Denmark</td>\n",
       "      <td>0.724738</td>\n",
       "    </tr>\n",
       "    <tr>\n",
       "      <th>128</th>\n",
       "      <td>France</td>\n",
       "      <td>0.720180</td>\n",
       "    </tr>\n",
       "    <tr>\n",
       "      <th>135</th>\n",
       "      <td>Sub-Saharan Africa</td>\n",
       "      <td>0.715679</td>\n",
       "    </tr>\n",
       "    <tr>\n",
       "      <th>55</th>\n",
       "      <td>Belgium</td>\n",
       "      <td>0.713449</td>\n",
       "    </tr>\n",
       "    <tr>\n",
       "      <th>6</th>\n",
       "      <td>Mauritius</td>\n",
       "      <td>0.700358</td>\n",
       "    </tr>\n",
       "    <tr>\n",
       "      <th>22</th>\n",
       "      <td>Poland</td>\n",
       "      <td>0.698223</td>\n",
       "    </tr>\n",
       "  </tbody>\n",
       "</table>\n",
       "</div>"
      ],
      "text/plain": [
       "                country  CDIS_IAD\n",
       "196               Italy  0.934764\n",
       "153             Germany  0.838891\n",
       "191  Korea, Republic of  0.797969\n",
       "10               Brazil  0.738765\n",
       "213             Denmark  0.724738\n",
       "128              France  0.720180\n",
       "135  Sub-Saharan Africa  0.715679\n",
       "55              Belgium  0.713449\n",
       "6             Mauritius  0.700358\n",
       "22               Poland  0.698223"
      ]
     },
     "execution_count": 90,
     "metadata": {},
     "output_type": "execute_result"
    }
   ],
   "source": [
    "## for closeness centrality, there is a problem here, \n",
    "## we simply coded weigt = 0 for countries with no connection, but this may have an impact on btwettness, closeness,etc calculation\n",
    "#nx.shortest_path_length(G)['United States']\n",
    "c=nx.closeness_centrality(G)#distance ='rev_CDIS_IAD'                                  ## use CDIS_IAD data as distance mearuse, so the order should be reversed\n",
    "cdis_closeness = pd.DataFrame(list(c.items()),columns=['country','CDIS_IAD'])      ## make it into dataframe\n",
    "cdis_closeness.sort_values(by='CDIS_IAD',ascending=0,inplace=True)    \n",
    "cdis_closeness.head(10)"
   ]
  },
  {
   "cell_type": "markdown",
   "metadata": {},
   "source": [
    "## Betweeness"
   ]
  },
  {
   "cell_type": "code",
   "execution_count": 96,
   "metadata": {
    "collapsed": false
   },
   "outputs": [
    {
     "data": {
      "text/html": [
       "<div>\n",
       "<table border=\"1\" class=\"dataframe\">\n",
       "  <thead>\n",
       "    <tr style=\"text-align: right;\">\n",
       "      <th></th>\n",
       "      <th>country</th>\n",
       "      <th>CDIS_IAD</th>\n",
       "    </tr>\n",
       "  </thead>\n",
       "  <tbody>\n",
       "    <tr>\n",
       "      <th>196</th>\n",
       "      <td>Italy</td>\n",
       "      <td>0.192156</td>\n",
       "    </tr>\n",
       "    <tr>\n",
       "      <th>153</th>\n",
       "      <td>Germany</td>\n",
       "      <td>0.081278</td>\n",
       "    </tr>\n",
       "    <tr>\n",
       "      <th>191</th>\n",
       "      <td>Korea, Republic of</td>\n",
       "      <td>0.045279</td>\n",
       "    </tr>\n",
       "    <tr>\n",
       "      <th>135</th>\n",
       "      <td>Sub-Saharan Africa</td>\n",
       "      <td>0.044780</td>\n",
       "    </tr>\n",
       "    <tr>\n",
       "      <th>10</th>\n",
       "      <td>Brazil</td>\n",
       "      <td>0.039908</td>\n",
       "    </tr>\n",
       "    <tr>\n",
       "      <th>79</th>\n",
       "      <td>Thailand</td>\n",
       "      <td>0.038741</td>\n",
       "    </tr>\n",
       "    <tr>\n",
       "      <th>56</th>\n",
       "      <td>China, P.R.: Mainland</td>\n",
       "      <td>0.028956</td>\n",
       "    </tr>\n",
       "    <tr>\n",
       "      <th>23</th>\n",
       "      <td>Russian Federation</td>\n",
       "      <td>0.028655</td>\n",
       "    </tr>\n",
       "    <tr>\n",
       "      <th>6</th>\n",
       "      <td>Mauritius</td>\n",
       "      <td>0.027918</td>\n",
       "    </tr>\n",
       "    <tr>\n",
       "      <th>213</th>\n",
       "      <td>Denmark</td>\n",
       "      <td>0.024680</td>\n",
       "    </tr>\n",
       "  </tbody>\n",
       "</table>\n",
       "</div>"
      ],
      "text/plain": [
       "                   country  CDIS_IAD\n",
       "196                  Italy  0.192156\n",
       "153                Germany  0.081278\n",
       "191     Korea, Republic of  0.045279\n",
       "135     Sub-Saharan Africa  0.044780\n",
       "10                  Brazil  0.039908\n",
       "79                Thailand  0.038741\n",
       "56   China, P.R.: Mainland  0.028956\n",
       "23      Russian Federation  0.028655\n",
       "6                Mauritius  0.027918\n",
       "213                Denmark  0.024680"
      ]
     },
     "execution_count": 96,
     "metadata": {},
     "output_type": "execute_result"
    }
   ],
   "source": [
    "b = nx.betweenness_centrality(G)\n",
    "cdis_between = pd.DataFrame(list(b.items()),columns=['country','CDIS_IAD'])      ## make it into dataframe\n",
    "cdis_between.sort_values(by='CDIS_IAD',ascending=0,inplace=True)    \n",
    "cdis_between.head(10)"
   ]
  },
  {
   "cell_type": "markdown",
   "metadata": {},
   "source": [
    "## Eigenvector Centrality"
   ]
  },
  {
   "cell_type": "code",
   "execution_count": 101,
   "metadata": {
    "collapsed": false,
    "scrolled": false
   },
   "outputs": [
    {
     "data": {
      "text/html": [
       "<div>\n",
       "<table border=\"1\" class=\"dataframe\">\n",
       "  <thead>\n",
       "    <tr style=\"text-align: right;\">\n",
       "      <th></th>\n",
       "      <th>country</th>\n",
       "      <th>CDIS_IAD</th>\n",
       "    </tr>\n",
       "  </thead>\n",
       "  <tbody>\n",
       "    <tr>\n",
       "      <th>149</th>\n",
       "      <td>United States</td>\n",
       "      <td>0.494055</td>\n",
       "    </tr>\n",
       "    <tr>\n",
       "      <th>103</th>\n",
       "      <td>Netherlands</td>\n",
       "      <td>0.453902</td>\n",
       "    </tr>\n",
       "    <tr>\n",
       "      <th>189</th>\n",
       "      <td>United Kingdom</td>\n",
       "      <td>0.423208</td>\n",
       "    </tr>\n",
       "    <tr>\n",
       "      <th>216</th>\n",
       "      <td>Luxembourg</td>\n",
       "      <td>0.383761</td>\n",
       "    </tr>\n",
       "    <tr>\n",
       "      <th>220</th>\n",
       "      <td>Ireland</td>\n",
       "      <td>0.217005</td>\n",
       "    </tr>\n",
       "    <tr>\n",
       "      <th>97</th>\n",
       "      <td>Switzerland</td>\n",
       "      <td>0.169624</td>\n",
       "    </tr>\n",
       "    <tr>\n",
       "      <th>153</th>\n",
       "      <td>Germany</td>\n",
       "      <td>0.165636</td>\n",
       "    </tr>\n",
       "    <tr>\n",
       "      <th>31</th>\n",
       "      <td>Canada</td>\n",
       "      <td>0.134037</td>\n",
       "    </tr>\n",
       "    <tr>\n",
       "      <th>232</th>\n",
       "      <td>Bermuda</td>\n",
       "      <td>0.131964</td>\n",
       "    </tr>\n",
       "    <tr>\n",
       "      <th>55</th>\n",
       "      <td>Belgium</td>\n",
       "      <td>0.107828</td>\n",
       "    </tr>\n",
       "  </tbody>\n",
       "</table>\n",
       "</div>"
      ],
      "text/plain": [
       "            country  CDIS_IAD\n",
       "149   United States  0.494055\n",
       "103     Netherlands  0.453902\n",
       "189  United Kingdom  0.423208\n",
       "216      Luxembourg  0.383761\n",
       "220         Ireland  0.217005\n",
       "97      Switzerland  0.169624\n",
       "153         Germany  0.165636\n",
       "31           Canada  0.134037\n",
       "232         Bermuda  0.131964\n",
       "55          Belgium  0.107828"
      ]
     },
     "execution_count": 101,
     "metadata": {},
     "output_type": "execute_result"
    }
   ],
   "source": [
    "e = nx.eigenvector_centrality_numpy(G,weight='CDIS_IAD')\n",
    "cdis_eigenvector = pd.DataFrame(list(e.items()),columns=['country','CDIS_IAD'])      ## make it into dataframe\n",
    "cdis_eigenvector.sort_values(by='CDIS_IAD',ascending=0,inplace=True)    \n",
    "cdis_eigenvector.head(10)"
   ]
  },
  {
   "cell_type": "markdown",
   "metadata": {},
   "source": [
    "## Density measure"
   ]
  },
  {
   "cell_type": "code",
   "execution_count": 106,
   "metadata": {
    "collapsed": false
   },
   "outputs": [
    {
     "data": {
      "text/plain": [
       "0.16272330435420565"
      ]
     },
     "execution_count": 106,
     "metadata": {},
     "output_type": "execute_result"
    }
   ],
   "source": [
    "## density of network \n",
    "den = nx.density(G)\n",
    "den"
   ]
  },
  {
   "cell_type": "markdown",
   "metadata": {},
   "source": [
    "### Diameter"
   ]
  },
  {
   "cell_type": "code",
   "execution_count": 109,
   "metadata": {
    "collapsed": false
   },
   "outputs": [
    {
     "name": "stdout",
     "output_type": "stream",
     "text": [
      "Some nodes is not reachable, network is weekly connected\n"
     ]
    }
   ],
   "source": [
    "## diameter of net work \n",
    "try:\n",
    "    nx.diameter(G)\n",
    "except:\n",
    "    print(\"Some nodes is not reachable, network is weekly connected\")"
   ]
  },
  {
   "cell_type": "markdown",
   "metadata": {},
   "source": [
    "### Convert graph to adj matrix "
   ]
  },
  {
   "cell_type": "code",
   "execution_count": 358,
   "metadata": {
    "collapsed": true
   },
   "outputs": [],
   "source": [
    "### create adj matrix from a graph \n",
    "\n",
    "## sort node list order \n",
    "node_list = G.nodes()\n",
    "node_list.sort()\n",
    "adj_matrix = nx.to_numpy_matrix(G = G,nodelist=node_list,weight ='CDIS_IAD')\n",
    "adj_matrix"
   ]
  },
  {
   "cell_type": "code",
   "execution_count": null,
   "metadata": {
    "collapsed": false
   },
   "outputs": [],
   "source": []
  },
  {
   "cell_type": "code",
   "execution_count": null,
   "metadata": {
    "collapsed": false
   },
   "outputs": [],
   "source": []
  },
  {
   "cell_type": "code",
   "execution_count": null,
   "metadata": {
    "collapsed": false
   },
   "outputs": [],
   "source": []
  },
  {
   "cell_type": "code",
   "execution_count": null,
   "metadata": {
    "collapsed": true
   },
   "outputs": [],
   "source": []
  }
 ],
 "metadata": {
  "kernelspec": {
   "display_name": "Python [conda env:py35]",
   "language": "python",
   "name": "conda-env-py35-py"
  },
  "language_info": {
   "codemirror_mode": {
    "name": "ipython",
    "version": 3
   },
   "file_extension": ".py",
   "mimetype": "text/x-python",
   "name": "python",
   "nbconvert_exporter": "python",
   "pygments_lexer": "ipython3",
   "version": "3.5.2"
  }
 },
 "nbformat": 4,
 "nbformat_minor": 2
}
