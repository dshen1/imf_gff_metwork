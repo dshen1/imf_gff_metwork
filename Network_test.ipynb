{
 "cells": [
  {
   "cell_type": "markdown",
   "metadata": {},
   "source": [
    "## Networkx testing"
   ]
  },
  {
   "cell_type": "code",
   "execution_count": 345,
   "metadata": {
    "collapsed": true
   },
   "outputs": [],
   "source": [
    "import csv\n",
    "import networkx as nx \n",
    "import numpy as np\n",
    "import pandas as pd \n",
    "import matplotlib.pyplot as plt \n",
    "plt.style.use('ggplot')\n",
    "%matplotlib inline"
   ]
  },
  {
   "cell_type": "code",
   "execution_count": 346,
   "metadata": {
    "collapsed": true
   },
   "outputs": [],
   "source": [
    "## read pre-processed data from stata\n",
    "df = pd.read_stata('data/0_CPIS_CDIS_BIS_USTIC_merged_fixed.dta')"
   ]
  },
  {
   "cell_type": "code",
   "execution_count": 347,
   "metadata": {
    "collapsed": false
   },
   "outputs": [
    {
     "data": {
      "text/plain": [
       "array(['country', 'countrycode', 'counterpart', 'counterpart_code', 'year',\n",
       "       'CDIS_IADE', 'CDIS_IADD', 'CDIS_IAD', 'CDIS_IADF', 'CPIS_IAP',\n",
       "       'CPIS_IAPE', 'CPIS_IAPD', 'loans_dep'], dtype=object)"
      ]
     },
     "execution_count": 347,
     "metadata": {},
     "output_type": "execute_result"
    }
   ],
   "source": [
    "## print the variables that we have in our data \n",
    "df.columns.values"
   ]
  },
  {
   "cell_type": "code",
   "execution_count": 348,
   "metadata": {
    "collapsed": true
   },
   "outputs": [],
   "source": [
    "keep_var = ['countrycode','counterpart_code','country','counterpart','CDIS_IAD','CPIS_IAP','loans_dep']\n",
    "df_2015 = df[df['year']==2015][keep_var]\n",
    "df_2015.fillna(0,inplace=True)"
   ]
  },
  {
   "cell_type": "code",
   "execution_count": 349,
   "metadata": {
    "collapsed": false
   },
   "outputs": [
    {
     "data": {
      "text/html": [
       "<div>\n",
       "<table border=\"1\" class=\"dataframe\">\n",
       "  <thead>\n",
       "    <tr style=\"text-align: right;\">\n",
       "      <th></th>\n",
       "      <th>countrycode</th>\n",
       "      <th>counterpart_code</th>\n",
       "      <th>CDIS_IAD</th>\n",
       "      <th>CPIS_IAP</th>\n",
       "      <th>loans_dep</th>\n",
       "    </tr>\n",
       "  </thead>\n",
       "  <tbody>\n",
       "    <tr>\n",
       "      <th>count</th>\n",
       "      <td>31745.000000</td>\n",
       "      <td>31745.000000</td>\n",
       "      <td>3.174500e+04</td>\n",
       "      <td>3.174500e+04</td>\n",
       "      <td>31745.000000</td>\n",
       "    </tr>\n",
       "    <tr>\n",
       "      <th>mean</th>\n",
       "      <td>522.174133</td>\n",
       "      <td>525.499756</td>\n",
       "      <td>1.205338e+03</td>\n",
       "      <td>1.323649e+03</td>\n",
       "      <td>421.135837</td>\n",
       "    </tr>\n",
       "    <tr>\n",
       "      <th>std</th>\n",
       "      <td>287.403625</td>\n",
       "      <td>286.209991</td>\n",
       "      <td>1.790814e+04</td>\n",
       "      <td>2.159184e+04</td>\n",
       "      <td>9055.887223</td>\n",
       "    </tr>\n",
       "    <tr>\n",
       "      <th>min</th>\n",
       "      <td>111.000000</td>\n",
       "      <td>111.000000</td>\n",
       "      <td>-2.530259e+03</td>\n",
       "      <td>-6.356924e+00</td>\n",
       "      <td>0.000000</td>\n",
       "    </tr>\n",
       "    <tr>\n",
       "      <th>25%</th>\n",
       "      <td>238.000000</td>\n",
       "      <td>248.000000</td>\n",
       "      <td>0.000000e+00</td>\n",
       "      <td>0.000000e+00</td>\n",
       "      <td>0.000000</td>\n",
       "    </tr>\n",
       "    <tr>\n",
       "      <th>50%</th>\n",
       "      <td>532.000000</td>\n",
       "      <td>534.000000</td>\n",
       "      <td>0.000000e+00</td>\n",
       "      <td>0.000000e+00</td>\n",
       "      <td>0.000000</td>\n",
       "    </tr>\n",
       "    <tr>\n",
       "      <th>75%</th>\n",
       "      <td>746.000000</td>\n",
       "      <td>748.000000</td>\n",
       "      <td>1.113362e-01</td>\n",
       "      <td>0.000000e+00</td>\n",
       "      <td>0.000000</td>\n",
       "    </tr>\n",
       "    <tr>\n",
       "      <th>max</th>\n",
       "      <td>968.000000</td>\n",
       "      <td>968.000000</td>\n",
       "      <td>1.115748e+06</td>\n",
       "      <td>1.369423e+06</td>\n",
       "      <td>940793.000000</td>\n",
       "    </tr>\n",
       "  </tbody>\n",
       "</table>\n",
       "</div>"
      ],
      "text/plain": [
       "        countrycode  counterpart_code      CDIS_IAD      CPIS_IAP  \\\n",
       "count  31745.000000      31745.000000  3.174500e+04  3.174500e+04   \n",
       "mean     522.174133        525.499756  1.205338e+03  1.323649e+03   \n",
       "std      287.403625        286.209991  1.790814e+04  2.159184e+04   \n",
       "min      111.000000        111.000000 -2.530259e+03 -6.356924e+00   \n",
       "25%      238.000000        248.000000  0.000000e+00  0.000000e+00   \n",
       "50%      532.000000        534.000000  0.000000e+00  0.000000e+00   \n",
       "75%      746.000000        748.000000  1.113362e-01  0.000000e+00   \n",
       "max      968.000000        968.000000  1.115748e+06  1.369423e+06   \n",
       "\n",
       "           loans_dep  \n",
       "count   31745.000000  \n",
       "mean      421.135837  \n",
       "std      9055.887223  \n",
       "min         0.000000  \n",
       "25%         0.000000  \n",
       "50%         0.000000  \n",
       "75%         0.000000  \n",
       "max    940793.000000  "
      ]
     },
     "execution_count": 349,
     "metadata": {},
     "output_type": "execute_result"
    }
   ],
   "source": [
    "df_2015.describe()"
   ]
  },
  {
   "cell_type": "code",
   "execution_count": 350,
   "metadata": {
    "collapsed": false,
    "scrolled": true
   },
   "outputs": [
    {
     "name": "stdout",
     "output_type": "stream",
     "text": [
      "(233,)\n",
      "(235,)\n"
     ]
    }
   ],
   "source": [
    "## see how mancy countries we have\n",
    "print(df_2015['country'].unique().shape)\n",
    "print(df_2015['counterpart'].unique().shape)"
   ]
  },
  {
   "cell_type": "markdown",
   "metadata": {},
   "source": [
    "### Now, we dump data into a network "
   ]
  },
  {
   "cell_type": "code",
   "execution_count": 351,
   "metadata": {
    "collapsed": false
   },
   "outputs": [],
   "source": [
    "# Create a network with pandas dataframe \n",
    "G = nx.from_pandas_dataframe(df_2015, source=\"country\", target=\"counterpart\", edge_attr=['CDIS_IAD','CPIS_IAP'],create_using=nx.DiGraph()) ##,'CPIS_IAP','loans_dep'"
   ]
  },
  {
   "cell_type": "code",
   "execution_count": 352,
   "metadata": {
    "collapsed": false
   },
   "outputs": [
    {
     "data": {
      "text/plain": [
       "{'CDIS_IAD': 717895.0, 'CPIS_IAP': 1244554.0}"
      ]
     },
     "execution_count": 352,
     "metadata": {},
     "output_type": "execute_result"
    }
   ],
   "source": [
    "# print out one particular edge, just to make sure it wroks \n",
    "G['United States']['United Kingdom']"
   ]
  },
  {
   "cell_type": "code",
   "execution_count": 353,
   "metadata": {
    "collapsed": false
   },
   "outputs": [
    {
     "data": {
      "text/html": [
       "<div>\n",
       "<table border=\"1\" class=\"dataframe\">\n",
       "  <thead>\n",
       "    <tr style=\"text-align: right;\">\n",
       "      <th></th>\n",
       "      <th>countrycode</th>\n",
       "      <th>counterpart_code</th>\n",
       "      <th>country</th>\n",
       "      <th>counterpart</th>\n",
       "      <th>CDIS_IAD</th>\n",
       "      <th>CPIS_IAP</th>\n",
       "      <th>loans_dep</th>\n",
       "    </tr>\n",
       "  </thead>\n",
       "  <tbody>\n",
       "    <tr>\n",
       "      <th>2811</th>\n",
       "      <td>111.0</td>\n",
       "      <td>112.0</td>\n",
       "      <td>United States</td>\n",
       "      <td>United Kingdom</td>\n",
       "      <td>717895.0</td>\n",
       "      <td>1244554.0</td>\n",
       "      <td>614951.0</td>\n",
       "    </tr>\n",
       "  </tbody>\n",
       "</table>\n",
       "</div>"
      ],
      "text/plain": [
       "      countrycode  counterpart_code        country     counterpart  CDIS_IAD  \\\n",
       "2811        111.0             112.0  United States  United Kingdom  717895.0   \n",
       "\n",
       "       CPIS_IAP  loans_dep  \n",
       "2811  1244554.0   614951.0  "
      ]
     },
     "execution_count": 353,
     "metadata": {},
     "output_type": "execute_result"
    }
   ],
   "source": [
    "# make sure the graph is created correctly \n",
    "df_2015[(df_2015.country == 'United States') & (df_2015.counterpart == 'United Kingdom')]"
   ]
  },
  {
   "cell_type": "code",
   "execution_count": 354,
   "metadata": {
    "collapsed": false
   },
   "outputs": [
    {
     "name": "stdout",
     "output_type": "stream",
     "text": [
      "Name: \n",
      "Type: DiGraph\n",
      "Number of nodes: 235\n",
      "Number of edges: 31745\n",
      "Average in degree: 135.0851\n",
      "Average out degree: 135.0851\n"
     ]
    }
   ],
   "source": [
    "print(nx.info(G))"
   ]
  },
  {
   "cell_type": "code",
   "execution_count": 355,
   "metadata": {
    "collapsed": false,
    "scrolled": true
   },
   "outputs": [
    {
     "name": "stdout",
     "output_type": "stream",
     "text": [
      "Degree of US: 439\n",
      "Degree of UK: 466\n"
     ]
    }
   ],
   "source": [
    "print('Degree of US: {}'.format((G.degree(\"United States\"))))\n",
    "print('Degree of UK: {}'.format((G.degree(\"United Kingdom\"))))"
   ]
  },
  {
   "cell_type": "markdown",
   "metadata": {},
   "source": [
    "### First look at degree centrality"
   ]
  },
  {
   "cell_type": "code",
   "execution_count": 385,
   "metadata": {
    "collapsed": false,
    "scrolled": true
   },
   "outputs": [
    {
     "data": {
      "text/html": [
       "<div>\n",
       "<table border=\"1\" class=\"dataframe\">\n",
       "  <thead>\n",
       "    <tr style=\"text-align: right;\">\n",
       "      <th></th>\n",
       "      <th>country</th>\n",
       "      <th>CDIS_IAD</th>\n",
       "    </tr>\n",
       "  </thead>\n",
       "  <tbody>\n",
       "    <tr>\n",
       "      <th>52</th>\n",
       "      <td>United States</td>\n",
       "      <td>1.903407e+07</td>\n",
       "    </tr>\n",
       "    <tr>\n",
       "      <th>127</th>\n",
       "      <td>United Kingdom</td>\n",
       "      <td>6.700723e+06</td>\n",
       "    </tr>\n",
       "    <tr>\n",
       "      <th>185</th>\n",
       "      <td>Luxembourg</td>\n",
       "      <td>6.626278e+06</td>\n",
       "    </tr>\n",
       "    <tr>\n",
       "      <th>50</th>\n",
       "      <td>Japan</td>\n",
       "      <td>5.224266e+06</td>\n",
       "    </tr>\n",
       "    <tr>\n",
       "      <th>209</th>\n",
       "      <td>Germany</td>\n",
       "      <td>5.040810e+06</td>\n",
       "    </tr>\n",
       "    <tr>\n",
       "      <th>97</th>\n",
       "      <td>France</td>\n",
       "      <td>5.004191e+06</td>\n",
       "    </tr>\n",
       "    <tr>\n",
       "      <th>158</th>\n",
       "      <td>Netherlands</td>\n",
       "      <td>3.432468e+06</td>\n",
       "    </tr>\n",
       "    <tr>\n",
       "      <th>222</th>\n",
       "      <td>Cayman Islands</td>\n",
       "      <td>2.675532e+06</td>\n",
       "    </tr>\n",
       "    <tr>\n",
       "      <th>19</th>\n",
       "      <td>Ireland</td>\n",
       "      <td>2.599359e+06</td>\n",
       "    </tr>\n",
       "    <tr>\n",
       "      <th>125</th>\n",
       "      <td>Italy</td>\n",
       "      <td>2.419403e+06</td>\n",
       "    </tr>\n",
       "    <tr>\n",
       "      <th>183</th>\n",
       "      <td>Canada</td>\n",
       "      <td>2.324768e+06</td>\n",
       "    </tr>\n",
       "    <tr>\n",
       "      <th>111</th>\n",
       "      <td>Switzerland</td>\n",
       "      <td>2.087323e+06</td>\n",
       "    </tr>\n",
       "    <tr>\n",
       "      <th>9</th>\n",
       "      <td>China, P.R.: Hong Kong</td>\n",
       "      <td>1.681485e+06</td>\n",
       "    </tr>\n",
       "    <tr>\n",
       "      <th>154</th>\n",
       "      <td>Spain</td>\n",
       "      <td>1.440137e+06</td>\n",
       "    </tr>\n",
       "    <tr>\n",
       "      <th>63</th>\n",
       "      <td>Australia</td>\n",
       "      <td>1.404651e+06</td>\n",
       "    </tr>\n",
       "    <tr>\n",
       "      <th>198</th>\n",
       "      <td>Norway</td>\n",
       "      <td>1.272892e+06</td>\n",
       "    </tr>\n",
       "    <tr>\n",
       "      <th>153</th>\n",
       "      <td>Belgium</td>\n",
       "      <td>1.151312e+06</td>\n",
       "    </tr>\n",
       "    <tr>\n",
       "      <th>177</th>\n",
       "      <td>Sweden</td>\n",
       "      <td>1.096882e+06</td>\n",
       "    </tr>\n",
       "    <tr>\n",
       "      <th>161</th>\n",
       "      <td>China, P.R.: Mainland</td>\n",
       "      <td>1.055989e+06</td>\n",
       "    </tr>\n",
       "    <tr>\n",
       "      <th>11</th>\n",
       "      <td>Singapore</td>\n",
       "      <td>1.036174e+06</td>\n",
       "    </tr>\n",
       "  </tbody>\n",
       "</table>\n",
       "</div>"
      ],
      "text/plain": [
       "                    country      CDIS_IAD\n",
       "52            United States  1.903407e+07\n",
       "127          United Kingdom  6.700723e+06\n",
       "185              Luxembourg  6.626278e+06\n",
       "50                    Japan  5.224266e+06\n",
       "209                 Germany  5.040810e+06\n",
       "97                   France  5.004191e+06\n",
       "158             Netherlands  3.432468e+06\n",
       "222          Cayman Islands  2.675532e+06\n",
       "19                  Ireland  2.599359e+06\n",
       "125                   Italy  2.419403e+06\n",
       "183                  Canada  2.324768e+06\n",
       "111             Switzerland  2.087323e+06\n",
       "9    China, P.R.: Hong Kong  1.681485e+06\n",
       "154                   Spain  1.440137e+06\n",
       "63                Australia  1.404651e+06\n",
       "198                  Norway  1.272892e+06\n",
       "153                 Belgium  1.151312e+06\n",
       "177                  Sweden  1.096882e+06\n",
       "161   China, P.R.: Mainland  1.055989e+06\n",
       "11                Singapore  1.036174e+06"
      ]
     },
     "execution_count": 385,
     "metadata": {},
     "output_type": "execute_result"
    }
   ],
   "source": [
    "### calculate some centrality mearuses \n",
    "### This is the sum of both in and out folows \n",
    "d=G.degree(weight='CPIS_IAP')\n",
    "cdis_degree = pd.DataFrame(list(d.items()),columns=['country','CDIS_IAD'])\n",
    "cdis_degree.sort_values(by='CDIS_IAD',ascending=0,inplace=True)\n",
    "cdis_degree.head(20)"
   ]
  },
  {
   "cell_type": "markdown",
   "metadata": {},
   "source": [
    "### Convert graph to adj matrix "
   ]
  },
  {
   "cell_type": "code",
   "execution_count": 358,
   "metadata": {
    "collapsed": true
   },
   "outputs": [],
   "source": [
    "### create adj matrix from a graph \n",
    "\n",
    "## sort node list order \n",
    "node_list = G.nodes()\n",
    "node_list.sort()\n",
    "adj_matrix = nx.to_numpy_matrix(G = G,nodelist=node_list,weight ='CDIS_IAD')\n",
    "adj_matrix"
   ]
  },
  {
   "cell_type": "code",
   "execution_count": null,
   "metadata": {
    "collapsed": false
   },
   "outputs": [],
   "source": []
  },
  {
   "cell_type": "code",
   "execution_count": null,
   "metadata": {
    "collapsed": false
   },
   "outputs": [],
   "source": []
  },
  {
   "cell_type": "code",
   "execution_count": null,
   "metadata": {
    "collapsed": false
   },
   "outputs": [],
   "source": []
  },
  {
   "cell_type": "code",
   "execution_count": null,
   "metadata": {
    "collapsed": true
   },
   "outputs": [],
   "source": []
  }
 ],
 "metadata": {
  "kernelspec": {
   "display_name": "Python [conda env:py35]",
   "language": "python",
   "name": "conda-env-py35-py"
  },
  "language_info": {
   "codemirror_mode": {
    "name": "ipython",
    "version": 3
   },
   "file_extension": ".py",
   "mimetype": "text/x-python",
   "name": "python",
   "nbconvert_exporter": "python",
   "pygments_lexer": "ipython3",
   "version": "3.5.2"
  }
 },
 "nbformat": 4,
 "nbformat_minor": 2
}
